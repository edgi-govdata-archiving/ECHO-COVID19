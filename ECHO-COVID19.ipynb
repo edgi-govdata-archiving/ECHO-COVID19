{
 "cells": [
  {
   "cell_type": "markdown",
   "metadata": {},
   "source": [
    "| ![EEW logo](https://github.com/edgi-govdata-archiving/EEW-Image-Assets/blob/master/Jupyter%20instructions/eew.jpg?raw=true) | ![EDGI logo](https://github.com/edgi-govdata-archiving/EEW-Image-Assets/blob/master/Jupyter%20instructions/edgi.png?raw=true) |\n",
    "|---|---|\n",
    "\n",
    "#### This notebook is licensed under GPL 3.0. Please visit our Github repo for more information: https://github.com/edgi-govdata-archiving/ECHO-COVID19\n",
    "#### The notebook was collaboratively authored by EDGI following our authorship protocol: https://docs.google.com/document/d/1CtDN5ZZ4Zv70fHiBTmWkDJ9mswEipX6eCYrwicP66Xw/\n",
    "#### For more information about this project, visit https://www.environmentalenforcementwatch.org/"
   ]
  },
  {
   "cell_type": "markdown",
   "metadata": {},
   "source": [
    "# Tracking EPA's COVID-19 non-enforcement policy\n",
    "In late March 2020, EPA released a memo announcing that it would not penalize regulated industries that fail to meet their monitoring and reporting requirements due to COVID-19. Specifically EPA has said that it:\n",
    "\n",
    "> \"is not seeking penalties for noncompliance only in circumstances that involve routine monitoring and reporting requirements, if, on a case-by-case basis, EPA agrees that such noncompliance was caused by the COVID-19 pandemic.\"\n",
    "\n",
    "This may have a number of public and environmental health impacts if facilities respond by increasing their emissions and discharges. Our response to this memo states that the EPA’s COVID-19 leniency is [a “free pass to pollute.](https://envirodatagov.org/epas-covid-19-leniency-is-a-free-pass-to-pollute/)”\n",
    "\n",
    "Using this notebook, you can track how facilities' releases—as well as monitoring and reporting—of air and water hazards has changed in your state over the past few months, compared to previous years. \n",
    "\n",
    "There are three scenarios we may see playing out:\n",
    "\n",
    "_Monitoring and reporting violations_\n",
    "- 1. **Facilities that do *not* report** (we can track this)....**but do still meet their permit limits** (yet we can't know this specifically, precisely because they didn't report)\n",
    "- 2. **Facilities that do *not* report** (we can track this)....**and actually exceed their limits** (yet we can't know this specifically, precisely because they didn't report)\n",
    "\n",
    "_Environmental violations_\n",
    "- 3. **Facilities that do meet their reporting obligations** BUT they **report having exceeded their permitted limits**. In this case, we can also track whether EPA takes any enforcement action.\n",
    "\n",
    "We may also see facilities that both meet their reporting obligations and do not exceed their permitted limits. These facilities may still pose a risk to community and environmental health but are not the focus of this investigation. Please see…\n",
    "\n",
    "This investigation relies upon data from the EPA’s Enforcement & Compliance History Online (ECHO), the primary open data portal supplied by the EPA, and a major basis for EPA’s decisions around enforcement. Please see EPA’s “About the Data” page for known limitations on the data’s quality and completeness. Link to data source (https://echo.epa.gov/tools/data-downloads#downloads) and limitations (https://echo.epa.gov/resources/echo-data/about-the-data)\n",
    "\n",
    "Organization of this notebook:\n",
    " - Air emissions\n",
    " - Water discharges from major sources \n",
    " - Water quality monitoring and reporting violations\n",
    "---"
   ]
  },
  {
   "cell_type": "markdown",
   "metadata": {},
   "source": [
    "## How to Run this Notebook\n",
    "* If you click on a gray **code** cell, a little “play button” arrow appears on the left. If you click the play button, it will run the code in that cell (“**running** a cell”). The button will animate. When the animation stops, the cell has finished running.\n",
    "![Where to click to run the cell](https://github.com/edgi-govdata-archiving/EEW-Image-Assets/blob/master/Jupyter%20instructions/pressplay.JPG?raw=true)\n",
    "* You may get a warning that the notebook was not authored by Google. We know, we authored them! It’s okay. Click “Run Anyway” to continue. \n",
    "![Error Message](https://github.com/edgi-govdata-archiving/EEW-Image-Assets/blob/master/Jupyter%20instructions/warning-message.JPG?raw=true)\n",
    "* Run all of the cells in a Notebook to make a complete report. Please feel free to look at and **learn about each result as you create it**!\n",
    "\n",
    "---"
   ]
  },
  {
   "cell_type": "markdown",
   "metadata": {},
   "source": [
    "## Setup\n",
    "Here we load some helper code to get us going."
   ]
  },
  {
   "cell_type": "code",
   "execution_count": 1,
   "metadata": {},
   "outputs": [
    {
     "name": "stdout",
     "output_type": "stream",
     "text": [
      "Cloning into 'ECHO_modules'...\n",
      "remote: Enumerating objects: 27, done.\u001b[K\n",
      "remote: Counting objects: 100% (27/27), done.\u001b[K\n",
      "remote: Compressing objects: 100% (21/21), done.\u001b[K\n",
      "remote: Total 27 (delta 7), reused 16 (delta 4), pack-reused 0\u001b[K\n",
      "Unpacking objects: 100% (27/27), 7.45 KiB | 152.00 KiB/s, done.\n",
      "Cloning into 'ECHO-COVID19'...\n",
      "remote: Enumerating objects: 136, done.\u001b[K\n",
      "remote: Counting objects: 100% (136/136), done.\u001b[K\n",
      "remote: Compressing objects: 100% (107/107), done.\u001b[K\n",
      "remote: Total 136 (delta 77), reused 64 (delta 28), pack-reused 0\u001b[K\n",
      "Receiving objects: 100% (136/136), 15.28 MiB | 6.27 MiB/s, done.\n",
      "Resolving deltas: 100% (77/77), done.\n"
     ]
    }
   ],
   "source": [
    "!git clone https://github.com/edgi-govdata-archiving/ECHO_modules.git\n",
    "!git clone https://github.com/edgi-govdata-archiving/ECHO-COVID19.git\n",
    "    \n",
    "\n",
    "# Import code libraries\n",
    "import urllib.parse\n",
    "import pandas as pd\n",
    "import numpy as np\n",
    "import matplotlib.pyplot as plt\n",
    "%matplotlib inline\n",
    "import requests\n",
    "import csv\n",
    "import datetime\n",
    "import folium\n",
    "import ipywidgets as widgets"
   ]
  },
  {
   "cell_type": "code",
   "execution_count": 2,
   "metadata": {},
   "outputs": [
    {
     "name": "stderr",
     "output_type": "stream",
     "text": [
      "ERROR:root:File `'ECHO-COVID19/utilities.py'` not found.\n"
     ]
    }
   ],
   "source": [
    "%run ECHO-COVID19/utilities.py\n",
    "%run ECHO_modules/DataSet.py"
   ]
  },
  {
   "cell_type": "markdown",
   "metadata": {},
   "source": [
    "## Pick a month\n",
    "We'll look at trends for the month you select across the past few decades of pollution trends"
   ]
  },
  {
   "cell_type": "code",
   "execution_count": 25,
   "metadata": {},
   "outputs": [
    {
     "data": {
      "application/vnd.jupyter.widget-view+json": {
       "model_id": "49608c55d81a4cb5a28b379b6b2b8db9",
       "version_major": 2,
       "version_minor": 0
      },
      "text/plain": [
       "Dropdown(description='Month:', index=2, options=('January', 'February', 'March', 'April', 'May', 'June', 'July…"
      ]
     },
     "metadata": {},
     "output_type": "display_data"
    }
   ],
   "source": [
    "# Make a dropdown menu showing each month\n",
    "months_list=[\"January\",\"February\",\"March\",\"April\",\"May\",\"June\",\"July\",\"August\",\"September\",\"October\",\"November\",\"December\"]\n",
    "w=widgets.Dropdown(\n",
    "    options=months_list,\n",
    "    value = \"March\",\n",
    "    description='Month:'\n",
    ")\n",
    "# Display the widget so you can select the month\n",
    "display(w)"
   ]
  },
  {
   "cell_type": "code",
   "execution_count": 26,
   "metadata": {},
   "outputs": [],
   "source": [
    "# Assign the month you chose to the variable “mnth”\n",
    "mnth_name=w.value\n",
    "mnth = \"{0:0=2d}\".format(months_list.index(mnth_name) + 1) # Converts month name to 2-digit string number"
   ]
  },
  {
   "cell_type": "markdown",
   "metadata": {},
   "source": [
    "## Are facilities monitoring their air emissions?\n",
    "\"Stack tests\" involve measuring the volume of pollutants coming out of the facility's \"smokestack\".\n",
    "\n",
    "The following cell will grab EPA data on facility stack tests for every one of the selected months on record (up to 50 years ago). Some pollutant releases may be seasonal, so by looking only at the selected month, we can account for this variation and ensure an apples-to-apples comparison.\n",
    "\n",
    "In addition, we will only look at data post-2000, as EPA notes that its data systems prior to that date are incomplete and hence \"unknown.\""
   ]
  },
  {
   "cell_type": "code",
   "execution_count": 10,
   "metadata": {},
   "outputs": [
    {
     "data": {
      "text/html": [
       "<div>\n",
       "<style scoped>\n",
       "    .dataframe tbody tr th:only-of-type {\n",
       "        vertical-align: middle;\n",
       "    }\n",
       "\n",
       "    .dataframe tbody tr th {\n",
       "        vertical-align: top;\n",
       "    }\n",
       "\n",
       "    .dataframe thead th {\n",
       "        text-align: right;\n",
       "    }\n",
       "</style>\n",
       "<table border=\"1\" class=\"dataframe\">\n",
       "  <thead>\n",
       "    <tr style=\"text-align: right;\">\n",
       "      <th></th>\n",
       "      <th>ACTIVITY_ID</th>\n",
       "      <th>COMP_MONITOR_TYPE_CODE</th>\n",
       "      <th>COMP_MONITOR_TYPE_DESC</th>\n",
       "      <th>STATE_EPA_FLAG</th>\n",
       "      <th>ACTUAL_END_DATE</th>\n",
       "      <th>POLLUTANT_CODES</th>\n",
       "      <th>POLLUTANT_DESCS</th>\n",
       "      <th>AIR_STACK_TEST_STATUS_CODE</th>\n",
       "      <th>AIR_STACK_TEST_STATUS_DESC</th>\n",
       "    </tr>\n",
       "    <tr>\n",
       "      <th>pgm_sys_id</th>\n",
       "      <th></th>\n",
       "      <th></th>\n",
       "      <th></th>\n",
       "      <th></th>\n",
       "      <th></th>\n",
       "      <th></th>\n",
       "      <th></th>\n",
       "      <th></th>\n",
       "      <th></th>\n",
       "    </tr>\n",
       "  </thead>\n",
       "  <tbody>\n",
       "    <tr>\n",
       "      <th>CT0000000900300005</th>\n",
       "      <td>3400331189</td>\n",
       "      <td>CST</td>\n",
       "      <td>Stack Test</td>\n",
       "      <td>S</td>\n",
       "      <td>04/26/2007</td>\n",
       "      <td>Mercury</td>\n",
       "      <td>NaN</td>\n",
       "      <td>PSS</td>\n",
       "      <td>Pass</td>\n",
       "    </tr>\n",
       "    <tr>\n",
       "      <th>CT0000000900300005</th>\n",
       "      <td>3400331252</td>\n",
       "      <td>CST</td>\n",
       "      <td>Stack Test</td>\n",
       "      <td>S</td>\n",
       "      <td>04/28/2009</td>\n",
       "      <td>TOTAL PARTICULATE MATTER</td>\n",
       "      <td>NaN</td>\n",
       "      <td>PSS</td>\n",
       "      <td>Pass</td>\n",
       "    </tr>\n",
       "    <tr>\n",
       "      <th>CT0000000900300005</th>\n",
       "      <td>3400331300</td>\n",
       "      <td>CST</td>\n",
       "      <td>Stack Test</td>\n",
       "      <td>S</td>\n",
       "      <td>04/28/2009</td>\n",
       "      <td>NITROGEN OXIDES NO2</td>\n",
       "      <td>NaN</td>\n",
       "      <td>PSS</td>\n",
       "      <td>Pass</td>\n",
       "    </tr>\n",
       "    <tr>\n",
       "      <th>CT0000000900300005</th>\n",
       "      <td>3400331331</td>\n",
       "      <td>CST</td>\n",
       "      <td>Stack Test</td>\n",
       "      <td>S</td>\n",
       "      <td>04/28/2010</td>\n",
       "      <td>Mercury</td>\n",
       "      <td>NaN</td>\n",
       "      <td>PSS</td>\n",
       "      <td>Pass</td>\n",
       "    </tr>\n",
       "    <tr>\n",
       "      <th>CT0000000900300005</th>\n",
       "      <td>3400331352</td>\n",
       "      <td>CST</td>\n",
       "      <td>Stack Test</td>\n",
       "      <td>S</td>\n",
       "      <td>04/28/2011</td>\n",
       "      <td>Mercury</td>\n",
       "      <td>NaN</td>\n",
       "      <td>PSS</td>\n",
       "      <td>Pass</td>\n",
       "    </tr>\n",
       "    <tr>\n",
       "      <th>...</th>\n",
       "      <td>...</td>\n",
       "      <td>...</td>\n",
       "      <td>...</td>\n",
       "      <td>...</td>\n",
       "      <td>...</td>\n",
       "      <td>...</td>\n",
       "      <td>...</td>\n",
       "      <td>...</td>\n",
       "      <td>...</td>\n",
       "    </tr>\n",
       "    <tr>\n",
       "      <th>080000004904700106</th>\n",
       "      <td>3600949251</td>\n",
       "      <td>CST</td>\n",
       "      <td>Stack Test</td>\n",
       "      <td>E</td>\n",
       "      <td>04/28/2015</td>\n",
       "      <td>NaN</td>\n",
       "      <td>NaN</td>\n",
       "      <td>PSS</td>\n",
       "      <td>Pass</td>\n",
       "    </tr>\n",
       "    <tr>\n",
       "      <th>PA000238561</th>\n",
       "      <td>3601939171</td>\n",
       "      <td>CST</td>\n",
       "      <td>Stack Test</td>\n",
       "      <td>S</td>\n",
       "      <td>04/26/2000</td>\n",
       "      <td>NaN</td>\n",
       "      <td>NaN</td>\n",
       "      <td>PSS</td>\n",
       "      <td>Pass</td>\n",
       "    </tr>\n",
       "    <tr>\n",
       "      <th>IA0000001901700030</th>\n",
       "      <td>3600399426</td>\n",
       "      <td>CST</td>\n",
       "      <td>Stack Test</td>\n",
       "      <td>S</td>\n",
       "      <td>04/29/2015</td>\n",
       "      <td>NaN</td>\n",
       "      <td>NaN</td>\n",
       "      <td>PSS</td>\n",
       "      <td>Pass</td>\n",
       "    </tr>\n",
       "    <tr>\n",
       "      <th>IL000097190AAE</th>\n",
       "      <td>3601478216</td>\n",
       "      <td>CST</td>\n",
       "      <td>Stack Test</td>\n",
       "      <td>S</td>\n",
       "      <td>04/30/2018</td>\n",
       "      <td>NaN</td>\n",
       "      <td>NaN</td>\n",
       "      <td>PSS</td>\n",
       "      <td>Pass</td>\n",
       "    </tr>\n",
       "    <tr>\n",
       "      <th>AK0000000229000002</th>\n",
       "      <td>3600827835</td>\n",
       "      <td>CST</td>\n",
       "      <td>Stack Test</td>\n",
       "      <td>S</td>\n",
       "      <td>04/02/2015</td>\n",
       "      <td>NaN</td>\n",
       "      <td>NaN</td>\n",
       "      <td>PSS</td>\n",
       "      <td>Pass</td>\n",
       "    </tr>\n",
       "  </tbody>\n",
       "</table>\n",
       "<p>37339 rows × 9 columns</p>\n",
       "</div>"
      ],
      "text/plain": [
       "                    ACTIVITY_ID COMP_MONITOR_TYPE_CODE COMP_MONITOR_TYPE_DESC  \\\n",
       "pgm_sys_id                                                                      \n",
       "CT0000000900300005   3400331189                    CST             Stack Test   \n",
       "CT0000000900300005   3400331252                    CST             Stack Test   \n",
       "CT0000000900300005   3400331300                    CST             Stack Test   \n",
       "CT0000000900300005   3400331331                    CST             Stack Test   \n",
       "CT0000000900300005   3400331352                    CST             Stack Test   \n",
       "...                         ...                    ...                    ...   \n",
       "080000004904700106   3600949251                    CST             Stack Test   \n",
       "PA000238561          3601939171                    CST             Stack Test   \n",
       "IA0000001901700030   3600399426                    CST             Stack Test   \n",
       "IL000097190AAE       3601478216                    CST             Stack Test   \n",
       "AK0000000229000002   3600827835                    CST             Stack Test   \n",
       "\n",
       "                   STATE_EPA_FLAG ACTUAL_END_DATE           POLLUTANT_CODES  \\\n",
       "pgm_sys_id                                                                    \n",
       "CT0000000900300005              S      04/26/2007                   Mercury   \n",
       "CT0000000900300005              S      04/28/2009  TOTAL PARTICULATE MATTER   \n",
       "CT0000000900300005              S      04/28/2009       NITROGEN OXIDES NO2   \n",
       "CT0000000900300005              S      04/28/2010                   Mercury   \n",
       "CT0000000900300005              S      04/28/2011                   Mercury   \n",
       "...                           ...             ...                       ...   \n",
       "080000004904700106              E      04/28/2015                       NaN   \n",
       "PA000238561                     S      04/26/2000                       NaN   \n",
       "IA0000001901700030              S      04/29/2015                       NaN   \n",
       "IL000097190AAE                  S      04/30/2018                       NaN   \n",
       "AK0000000229000002              S      04/02/2015                       NaN   \n",
       "\n",
       "                    POLLUTANT_DESCS AIR_STACK_TEST_STATUS_CODE  \\\n",
       "pgm_sys_id                                                       \n",
       "CT0000000900300005              NaN                        PSS   \n",
       "CT0000000900300005              NaN                        PSS   \n",
       "CT0000000900300005              NaN                        PSS   \n",
       "CT0000000900300005              NaN                        PSS   \n",
       "CT0000000900300005              NaN                        PSS   \n",
       "...                             ...                        ...   \n",
       "080000004904700106              NaN                        PSS   \n",
       "PA000238561                     NaN                        PSS   \n",
       "IA0000001901700030              NaN                        PSS   \n",
       "IL000097190AAE                  NaN                        PSS   \n",
       "AK0000000229000002              NaN                        PSS   \n",
       "\n",
       "                   AIR_STACK_TEST_STATUS_DESC  \n",
       "pgm_sys_id                                     \n",
       "CT0000000900300005                       Pass  \n",
       "CT0000000900300005                       Pass  \n",
       "CT0000000900300005                       Pass  \n",
       "CT0000000900300005                       Pass  \n",
       "CT0000000900300005                       Pass  \n",
       "...                                       ...  \n",
       "080000004904700106                       Pass  \n",
       "PA000238561                              Pass  \n",
       "IA0000001901700030                       Pass  \n",
       "IL000097190AAE                           Pass  \n",
       "AK0000000229000002                       Pass  \n",
       "\n",
       "[37339 rows x 9 columns]"
      ]
     },
     "execution_count": 10,
     "metadata": {},
     "output_type": "execute_result"
    }
   ],
   "source": [
    "# Use SQL to search for and select the data about air stack tests for the month you chose over the past 20 years\n",
    "sql = \"select * from `ICIS-AIR_STACK_TESTS` where ACTUAL_END_DATE like '\"+mnth+\"/%'\"\n",
    "stack_data = get_data( sql, 'pgm_sys_id' )\n",
    "\n",
    "# This is your data!\n",
    "stack_data"
   ]
  },
  {
   "cell_type": "markdown",
   "metadata": {},
   "source": [
    "#### Chart stack tests\n",
    "\n",
    "The height of each bar will indicate how many tests there were, while the orange line will show us the average number of these for all previous Aprils and the pink line indicates the average for the past three years."
   ]
  },
  {
   "cell_type": "code",
   "execution_count": 31,
   "metadata": {},
   "outputs": [
    {
     "data": {
      "image/png": "[encoded data removed]",
      "text/plain": [
       "<Figure size 1440x720 with 1 Axes>"
      ]
     },
     "metadata": {
      "needs_background": "dark"
     },
     "output_type": "display_data"
    }
   ],
   "source": [
    "charter(stack_data, 'ACTUAL_END_DATE', \"%m/%d/%Y\", mnth, mnth_name, 'STATE_EPA_FLAG', \n",
    "        \"Number of stack tests\", \"air_monitoring.csv\", \"# of pollutants stack-tested\", \n",
    "        \"count\")"
   ]
  },
  {
   "cell_type": "markdown",
   "metadata": {},
   "source": [
    "### Which facilities should have been conducting stack tests? \n",
    "Of those facilities that have reported stack tests in the past 20 years, we will look at the worst - the 25% that reported the fewest stack tests."
   ]
  },
  {
   "cell_type": "code",
   "execution_count": 32,
   "metadata": {},
   "outputs": [
    {
     "data": {
      "text/html": [
       "<div>\n",
       "<style scoped>\n",
       "    .dataframe tbody tr th:only-of-type {\n",
       "        vertical-align: middle;\n",
       "    }\n",
       "\n",
       "    .dataframe tbody tr th {\n",
       "        vertical-align: top;\n",
       "    }\n",
       "\n",
       "    .dataframe thead th {\n",
       "        text-align: right;\n",
       "    }\n",
       "</style>\n",
       "<table border=\"1\" class=\"dataframe\">\n",
       "  <thead>\n",
       "    <tr style=\"text-align: right;\">\n",
       "      <th></th>\n",
       "      <th>ACTIVITY_ID</th>\n",
       "      <th>COMP_MONITOR_TYPE_CODE</th>\n",
       "      <th>COMP_MONITOR_TYPE_DESC</th>\n",
       "      <th>STATE_EPA_FLAG</th>\n",
       "      <th>ACTUAL_END_DATE</th>\n",
       "      <th>POLLUTANT_CODES</th>\n",
       "      <th>POLLUTANT_DESCS</th>\n",
       "      <th>AIR_STACK_TEST_STATUS_CODE</th>\n",
       "      <th>AIR_STACK_TEST_STATUS_DESC</th>\n",
       "    </tr>\n",
       "    <tr>\n",
       "      <th>pgm_sys_id</th>\n",
       "      <th></th>\n",
       "      <th></th>\n",
       "      <th></th>\n",
       "      <th></th>\n",
       "      <th></th>\n",
       "      <th></th>\n",
       "      <th></th>\n",
       "      <th></th>\n",
       "      <th></th>\n",
       "    </tr>\n",
       "  </thead>\n",
       "  <tbody>\n",
       "    <tr>\n",
       "      <th>NH0000003301700003</th>\n",
       "      <td>123027</td>\n",
       "      <td>CST</td>\n",
       "      <td>Stack Test</td>\n",
       "      <td>E</td>\n",
       "      <td>2004-06-24</td>\n",
       "      <td>HAPS [HAZARDOUS AIR POLLUTANTS/AIR TOXICS]</td>\n",
       "      <td>NaN</td>\n",
       "      <td>NaN</td>\n",
       "      <td>NaN</td>\n",
       "    </tr>\n",
       "    <tr>\n",
       "      <th>RI0000004400709014</th>\n",
       "      <td>600024996</td>\n",
       "      <td>CST</td>\n",
       "      <td>Stack Test</td>\n",
       "      <td>E</td>\n",
       "      <td>2006-11-20</td>\n",
       "      <td>Volatile organic compounds</td>\n",
       "      <td>NaN</td>\n",
       "      <td>NaN</td>\n",
       "      <td>NaN</td>\n",
       "    </tr>\n",
       "    <tr>\n",
       "      <th>RI0000004400900010</th>\n",
       "      <td>600024945</td>\n",
       "      <td>CST</td>\n",
       "      <td>Stack Test</td>\n",
       "      <td>E</td>\n",
       "      <td>2006-11-17</td>\n",
       "      <td>Volatile organic compounds</td>\n",
       "      <td>NaN</td>\n",
       "      <td>NaN</td>\n",
       "      <td>NaN</td>\n",
       "    </tr>\n",
       "    <tr>\n",
       "      <th>CT0000000900900001</th>\n",
       "      <td>600035898</td>\n",
       "      <td>CST</td>\n",
       "      <td>Stack Test</td>\n",
       "      <td>E</td>\n",
       "      <td>2007-01-18</td>\n",
       "      <td>Volatile organic compounds</td>\n",
       "      <td>NaN</td>\n",
       "      <td>NaN</td>\n",
       "      <td>NaN</td>\n",
       "    </tr>\n",
       "    <tr>\n",
       "      <th>ME0000002301900016</th>\n",
       "      <td>600066226</td>\n",
       "      <td>CST</td>\n",
       "      <td>Stack Test</td>\n",
       "      <td>E</td>\n",
       "      <td>2007-08-07</td>\n",
       "      <td>Volatile organic compounds</td>\n",
       "      <td>NaN</td>\n",
       "      <td>NaN</td>\n",
       "      <td>NaN</td>\n",
       "    </tr>\n",
       "    <tr>\n",
       "      <th>...</th>\n",
       "      <td>...</td>\n",
       "      <td>...</td>\n",
       "      <td>...</td>\n",
       "      <td>...</td>\n",
       "      <td>...</td>\n",
       "      <td>...</td>\n",
       "      <td>...</td>\n",
       "      <td>...</td>\n",
       "      <td>...</td>\n",
       "    </tr>\n",
       "    <tr>\n",
       "      <th>080000003805300125</th>\n",
       "      <td>3600243173</td>\n",
       "      <td>CST</td>\n",
       "      <td>Stack Test</td>\n",
       "      <td>E</td>\n",
       "      <td>2015-07-11</td>\n",
       "      <td>NaN</td>\n",
       "      <td>NaN</td>\n",
       "      <td>PSS</td>\n",
       "      <td>Pass</td>\n",
       "    </tr>\n",
       "    <tr>\n",
       "      <th>NC0000003700700071</th>\n",
       "      <td>3401400532</td>\n",
       "      <td>CST</td>\n",
       "      <td>Stack Test</td>\n",
       "      <td>S</td>\n",
       "      <td>2013-10-24</td>\n",
       "      <td>NaN</td>\n",
       "      <td>NaN</td>\n",
       "      <td>PSS</td>\n",
       "      <td>Pass</td>\n",
       "    </tr>\n",
       "    <tr>\n",
       "      <th>TX0000004805700003</th>\n",
       "      <td>3402075218</td>\n",
       "      <td>CST</td>\n",
       "      <td>Stack Test</td>\n",
       "      <td>S</td>\n",
       "      <td>2008-02-02</td>\n",
       "      <td>NaN</td>\n",
       "      <td>NaN</td>\n",
       "      <td>PSS</td>\n",
       "      <td>Pass</td>\n",
       "    </tr>\n",
       "    <tr>\n",
       "      <th>NH0000003301700003</th>\n",
       "      <td>132749</td>\n",
       "      <td>CST</td>\n",
       "      <td>Stack Test</td>\n",
       "      <td>E</td>\n",
       "      <td>2004-08-11</td>\n",
       "      <td>NaN</td>\n",
       "      <td>NaN</td>\n",
       "      <td>NaN</td>\n",
       "      <td>NaN</td>\n",
       "    </tr>\n",
       "    <tr>\n",
       "      <th>GA0000001301500011</th>\n",
       "      <td>3600660954</td>\n",
       "      <td>CST</td>\n",
       "      <td>Stack Test</td>\n",
       "      <td>S</td>\n",
       "      <td>2015-12-16</td>\n",
       "      <td>NaN</td>\n",
       "      <td>NaN</td>\n",
       "      <td>PSS</td>\n",
       "      <td>Pass</td>\n",
       "    </tr>\n",
       "  </tbody>\n",
       "</table>\n",
       "<p>417244 rows × 9 columns</p>\n",
       "</div>"
      ],
      "text/plain": [
       "                    ACTIVITY_ID COMP_MONITOR_TYPE_CODE COMP_MONITOR_TYPE_DESC  \\\n",
       "pgm_sys_id                                                                      \n",
       "NH0000003301700003       123027                    CST             Stack Test   \n",
       "RI0000004400709014    600024996                    CST             Stack Test   \n",
       "RI0000004400900010    600024945                    CST             Stack Test   \n",
       "CT0000000900900001    600035898                    CST             Stack Test   \n",
       "ME0000002301900016    600066226                    CST             Stack Test   \n",
       "...                         ...                    ...                    ...   \n",
       "080000003805300125   3600243173                    CST             Stack Test   \n",
       "NC0000003700700071   3401400532                    CST             Stack Test   \n",
       "TX0000004805700003   3402075218                    CST             Stack Test   \n",
       "NH0000003301700003       132749                    CST             Stack Test   \n",
       "GA0000001301500011   3600660954                    CST             Stack Test   \n",
       "\n",
       "                   STATE_EPA_FLAG ACTUAL_END_DATE  \\\n",
       "pgm_sys_id                                          \n",
       "NH0000003301700003              E      2004-06-24   \n",
       "RI0000004400709014              E      2006-11-20   \n",
       "RI0000004400900010              E      2006-11-17   \n",
       "CT0000000900900001              E      2007-01-18   \n",
       "ME0000002301900016              E      2007-08-07   \n",
       "...                           ...             ...   \n",
       "080000003805300125              E      2015-07-11   \n",
       "NC0000003700700071              S      2013-10-24   \n",
       "TX0000004805700003              S      2008-02-02   \n",
       "NH0000003301700003              E      2004-08-11   \n",
       "GA0000001301500011              S      2015-12-16   \n",
       "\n",
       "                                               POLLUTANT_CODES  \\\n",
       "pgm_sys_id                                                       \n",
       "NH0000003301700003  HAPS [HAZARDOUS AIR POLLUTANTS/AIR TOXICS]   \n",
       "RI0000004400709014                  Volatile organic compounds   \n",
       "RI0000004400900010                  Volatile organic compounds   \n",
       "CT0000000900900001                  Volatile organic compounds   \n",
       "ME0000002301900016                  Volatile organic compounds   \n",
       "...                                                        ...   \n",
       "080000003805300125                                         NaN   \n",
       "NC0000003700700071                                         NaN   \n",
       "TX0000004805700003                                         NaN   \n",
       "NH0000003301700003                                         NaN   \n",
       "GA0000001301500011                                         NaN   \n",
       "\n",
       "                    POLLUTANT_DESCS AIR_STACK_TEST_STATUS_CODE  \\\n",
       "pgm_sys_id                                                       \n",
       "NH0000003301700003              NaN                        NaN   \n",
       "RI0000004400709014              NaN                        NaN   \n",
       "RI0000004400900010              NaN                        NaN   \n",
       "CT0000000900900001              NaN                        NaN   \n",
       "ME0000002301900016              NaN                        NaN   \n",
       "...                             ...                        ...   \n",
       "080000003805300125              NaN                        PSS   \n",
       "NC0000003700700071              NaN                        PSS   \n",
       "TX0000004805700003              NaN                        PSS   \n",
       "NH0000003301700003              NaN                        NaN   \n",
       "GA0000001301500011              NaN                        PSS   \n",
       "\n",
       "                   AIR_STACK_TEST_STATUS_DESC  \n",
       "pgm_sys_id                                     \n",
       "NH0000003301700003                        NaN  \n",
       "RI0000004400709014                        NaN  \n",
       "RI0000004400900010                        NaN  \n",
       "CT0000000900900001                        NaN  \n",
       "ME0000002301900016                        NaN  \n",
       "...                                       ...  \n",
       "080000003805300125                       Pass  \n",
       "NC0000003700700071                       Pass  \n",
       "TX0000004805700003                       Pass  \n",
       "NH0000003301700003                        NaN  \n",
       "GA0000001301500011                       Pass  \n",
       "\n",
       "[417244 rows x 9 columns]"
      ]
     },
     "execution_count": 32,
     "metadata": {},
     "output_type": "execute_result"
    }
   ],
   "source": [
    "# Use SQL to search for and select the data about air stack tests over the past 20 years\n",
    "sql = \"select * from `ICIS-AIR_STACK_TESTS` where ACTUAL_END_DATE >= '01/01/2001'\"\n",
    "\n",
    "# Download the data from that URL\n",
    "stack_data = get_data( sql, 'pgm_sys_id' )\n",
    "\n",
    "stack_data[\"ACTUAL_END_DATE\"]= pd.to_datetime(stack_data[\"ACTUAL_END_DATE\"], format=\"%m/%d/%Y\", errors = 'coerce') \n",
    "\n",
    "# This is your data!\n",
    "stack_data"
   ]
  },
  {
   "cell_type": "code",
   "execution_count": 33,
   "metadata": {},
   "outputs": [
    {
     "name": "stdout",
     "output_type": "stream",
     "text": [
      "The 25% of facilities that reported stack tests the least between 2001 and 2020 only reported 1.0 time during that period\n"
     ]
    }
   ],
   "source": [
    "count = stack_data.groupby([stack_data.index])[[\"ACTUAL_END_DATE\"]].agg(\"count\") / 19 # Per year inspection rate.\n",
    "quartile = count.describe().loc[\"25%\", \"ACTUAL_END_DATE\"] # Calculate quartile in terms of inspection rate.\n",
    "worst = count[(count[\"ACTUAL_END_DATE\"] <= quartile)] # The 25% of facilities inspected the least (likely once in 19 years)\n",
    "print(\"The 25% of facilities that reported stack tests the least between 2001 and 2020 only reported \"+str(quartile*19)+\" time during that period\")"
   ]
  },
  {
   "cell_type": "markdown",
   "metadata": {},
   "source": [
    "#### Let's map where these non-stack testers are."
   ]
  },
  {
   "cell_type": "code",
   "execution_count": 34,
   "metadata": {},
   "outputs": [],
   "source": [
    "# Pull out Ids to match ECHO_EXPORTER\n",
    "ids = worst.index.unique()\n",
    "\n",
    "if (len(worst.index)>0):\n",
    "    # Get facility information from ECHO\n",
    "    sql = \"select FAC_NAME, AIR_IDS, FAC_LAT, FAC_LONG, FAC_PERCENT_MINORITY, CAA_QTRS_WITH_NC, DFR_URL\" + \\\n",
    "        \" from ECHO_EXPORTER where AIR_FLAG = 'Y' \"\n",
    "    air_echo_data = get_data( sql )\n",
    "    # Filter ECHO EXPORTER data to rows containing pgm_sys_ids from latest  \n",
    "    idxs=list()\n",
    "    for index,value in air_echo_data[\"AIR_IDS\"].items():\n",
    "        for i in value.split():\n",
    "            if i in ids:\n",
    "                idxs.append(index)\n",
    "    air_echo_data = air_echo_data.iloc[idxs,:]\n",
    "    air_echo_data.set_index( 'AIR_IDS', inplace=True ) \n",
    "                               \n",
    "    # Merge ECHO and CAA data\n",
    "    worst = worst.join(air_echo_data)\n",
    "    \n",
    "else:\n",
    "    print(\"A problem occurred...\")"
   ]
  },
  {
   "cell_type": "code",
   "execution_count": 35,
   "metadata": {},
   "outputs": [
    {
     "name": "stdout",
     "output_type": "stream",
     "text": [
      "There are 622 facilities we can't map because they have incomplete data\n",
      "There are 6495facilities mapped below.\n"
     ]
    },
    {
     "ename": "NameError",
     "evalue": "name 'folium' is not defined",
     "output_type": "error",
     "traceback": [
      "\u001b[0;31m----------------------------------------------------------------\u001b[0m",
      "\u001b[0;31mNameError\u001b[0m                      Traceback (most recent call last)",
      "\u001b[0;32m<ipython-input-35-34d7fb5a2ab4>\u001b[0m in \u001b[0;36m<module>\u001b[0;34m\u001b[0m\n\u001b[1;32m      5\u001b[0m \u001b[0mworst\u001b[0m \u001b[0;34m=\u001b[0m \u001b[0mworst\u001b[0m\u001b[0;34m[\u001b[0m\u001b[0;34m~\u001b[0m\u001b[0;34m(\u001b[0m\u001b[0mnp\u001b[0m\u001b[0;34m.\u001b[0m\u001b[0misnan\u001b[0m\u001b[0;34m(\u001b[0m\u001b[0mworst\u001b[0m\u001b[0;34m[\u001b[0m\u001b[0;34m\"FAC_LAT\"\u001b[0m\u001b[0;34m]\u001b[0m\u001b[0;34m)\u001b[0m\u001b[0;34m)\u001b[0m \u001b[0;34m|\u001b[0m \u001b[0;34m~\u001b[0m\u001b[0;34m(\u001b[0m\u001b[0mnp\u001b[0m\u001b[0;34m.\u001b[0m\u001b[0misnan\u001b[0m\u001b[0;34m(\u001b[0m\u001b[0mworst\u001b[0m\u001b[0;34m[\u001b[0m\u001b[0;34m\"FAC_LONG\"\u001b[0m\u001b[0;34m]\u001b[0m\u001b[0;34m)\u001b[0m\u001b[0;34m)\u001b[0m\u001b[0;34m]\u001b[0m\u001b[0;34m\u001b[0m\u001b[0;34m\u001b[0m\u001b[0m\n\u001b[1;32m      6\u001b[0m \u001b[0mprint\u001b[0m\u001b[0;34m(\u001b[0m\u001b[0;34m\"There are \"\u001b[0m\u001b[0;34m+\u001b[0m\u001b[0mstr\u001b[0m\u001b[0;34m(\u001b[0m\u001b[0mlen\u001b[0m\u001b[0;34m(\u001b[0m\u001b[0mworst\u001b[0m\u001b[0;34m)\u001b[0m\u001b[0;34m)\u001b[0m\u001b[0;34m+\u001b[0m\u001b[0;34m\"facilities mapped below.\"\u001b[0m\u001b[0;34m)\u001b[0m\u001b[0;34m\u001b[0m\u001b[0;34m\u001b[0m\u001b[0m\n\u001b[0;32m----> 7\u001b[0;31m \u001b[0mmap_of_facilities\u001b[0m \u001b[0;34m=\u001b[0m \u001b[0mmapper\u001b[0m\u001b[0;34m(\u001b[0m\u001b[0mworst\u001b[0m\u001b[0;34m)\u001b[0m\u001b[0;34m\u001b[0m\u001b[0;34m\u001b[0m\u001b[0m\n\u001b[0m\u001b[1;32m      8\u001b[0m \u001b[0mmap_of_facilities\u001b[0m\u001b[0;34m\u001b[0m\u001b[0;34m\u001b[0m\u001b[0m\n",
      "\u001b[0;32m/media/steve/5C9A275B9A273146/cygwin/home/Steve/workspace/EDGI/ECHO-COVID19/ECHO-COVID19/utilities.py\u001b[0m in \u001b[0;36mmapper\u001b[0;34m(df)\u001b[0m\n\u001b[1;32m     61\u001b[0m \u001b[0;32mdef\u001b[0m \u001b[0mmapper\u001b[0m\u001b[0;34m(\u001b[0m\u001b[0mdf\u001b[0m\u001b[0;34m)\u001b[0m\u001b[0;34m:\u001b[0m\u001b[0;34m\u001b[0m\u001b[0;34m\u001b[0m\u001b[0m\n\u001b[1;32m     62\u001b[0m     \u001b[0;31m# Initialize the map\u001b[0m\u001b[0;34m\u001b[0m\u001b[0;34m\u001b[0m\u001b[0;34m\u001b[0m\u001b[0m\n\u001b[0;32m---> 63\u001b[0;31m     m = folium.Map(\n\u001b[0m\u001b[1;32m     64\u001b[0m         \u001b[0mlocation\u001b[0m \u001b[0;34m=\u001b[0m \u001b[0;34m[\u001b[0m\u001b[0mdf\u001b[0m\u001b[0;34m.\u001b[0m\u001b[0mmean\u001b[0m\u001b[0;34m(\u001b[0m\u001b[0;34m)\u001b[0m\u001b[0;34m[\u001b[0m\u001b[0;34m\"FAC_LAT\"\u001b[0m\u001b[0;34m]\u001b[0m\u001b[0;34m,\u001b[0m \u001b[0mdf\u001b[0m\u001b[0;34m.\u001b[0m\u001b[0mmean\u001b[0m\u001b[0;34m(\u001b[0m\u001b[0;34m)\u001b[0m\u001b[0;34m[\u001b[0m\u001b[0;34m\"FAC_LONG\"\u001b[0m\u001b[0;34m]\u001b[0m\u001b[0;34m]\u001b[0m\u001b[0;34m\u001b[0m\u001b[0;34m\u001b[0m\u001b[0m\n\u001b[1;32m     65\u001b[0m     )\n",
      "\u001b[0;31mNameError\u001b[0m: name 'folium' is not defined"
     ]
    }
   ],
   "source": [
    "missing = worst[(np.isnan(worst[\"FAC_LAT\"])) | (np.isnan(worst[\"FAC_LONG\"]))]\n",
    "count = missing.index.unique()\n",
    "print(\"There are \"+str(len(count))+\" facilities we can't map because they have incomplete data\")\n",
    "# Filter to remove NaNs - missing data!\n",
    "worst = worst[~(np.isnan(worst[\"FAC_LAT\"])) | ~(np.isnan(worst[\"FAC_LONG\"]))]\n",
    "print(\"There are \"+str(len(worst))+\"facilities mapped below.\")\n",
    "map_of_facilities = mapper(worst)\n",
    "map_of_facilities"
   ]
  },
  {
   "cell_type": "markdown",
   "metadata": {},
   "source": [
    "## Are facilities being inspected?\n",
    "Stack tests may not be happening, but regulators could go in and inspect facilities.\n",
    "#### Get the data"
   ]
  },
  {
   "cell_type": "code",
   "execution_count": null,
   "metadata": {
    "scrolled": false
   },
   "outputs": [],
   "source": [
    "sql = \"select * from `ICIS-AIR_FCES_PCES` where ACTUAL_END_DATE like '\"+mnth+\"-%'\"\n",
    "url='http://apps.tlt.stonybrook.edu/echoepa/?query='\n",
    "data_location=url+urllib.parse.quote(sql)\n",
    "\n",
    "eval_data = pd.read_csv(data_location,encoding='iso-8859-1',header = 0)\n",
    "eval_data.set_index(\"PGM_SYS_ID\", inplace=True)\n",
    "eval_data"
   ]
  },
  {
   "cell_type": "markdown",
   "metadata": {},
   "source": [
    "#### Chart inspections"
   ]
  },
  {
   "cell_type": "code",
   "execution_count": null,
   "metadata": {},
   "outputs": [],
   "source": [
    "charter(eval_data, 'ACTUAL_END_DATE', \"%m-%d-%Y\", 'ACTIVITY_TYPE_DESC', \"Number of inspections\", \n",
    "        \"caa_inspections.csv\", \"# of inspections\", \"count\")"
   ]
  },
  {
   "cell_type": "markdown",
   "metadata": {},
   "source": [
    "## What have facilities reported releasing into the air?\n",
    "Air pollution is associated with greater virulence of COVID-19. What are facilities releasing into the air in spite of this greater risk to human life?\n",
    "\n",
    "We'll start by looking at those facilities that were found to be in violation for their emissions."
   ]
  },
  {
   "cell_type": "code",
   "execution_count": null,
   "metadata": {},
   "outputs": [],
   "source": [
    "sql = \"select * from `ICIS-AIR_VIOLATION_HISTORY` where HPV_DAYZERO_DATE like '\"+mnth+\"-%'\"\n",
    "url='http://apps.tlt.stonybrook.edu/echoepa/?query='\n",
    "data_location=url+urllib.parse.quote(sql)\n",
    "\n",
    "air_data = pd.read_csv(data_location,encoding='iso-8859-1',header = 0)\n",
    "air_data.set_index(\"pgm_sys_id\", inplace=True)\n",
    "# Remove \"FACIL\" violations, which are paperwork violations according to: https://19january2017snapshot.epa.gov/sites/production/files/2013-10/documents/frvmemo.pdf\n",
    "air_data = air_data.loc[(air_data[\"POLLUTANT_DESCS\"]!=\"FACIL\")]\n",
    "air_data"
   ]
  },
  {
   "cell_type": "markdown",
   "metadata": {},
   "source": [
    "#### Chart emissions violations\n",
    "The height of each bar indicates how many emissions violations there have been. The orange line shows the average number of emissions violations for all previous years, and the pink line indicates the average for the past three years."
   ]
  },
  {
   "cell_type": "code",
   "execution_count": null,
   "metadata": {},
   "outputs": [],
   "source": [
    "charter(air_data, 'HPV_DAYZERO_DATE', \"%m-%d-%Y\", 'ENF_RESPONSE_POLICY_CODE', \n",
    "        \"Number of violations\", \"air_violations_total.csv\", \"# of Clean Air Act violations\", \"count\")\n",
    "\n",
    "facilities = air_data.reset_index()\n",
    "facilities = facilities.groupby(['HPV_DAYZERO_DATE']).agg({\"pgm_sys_id\": \"nunique\"})\n",
    "facilities = facilities.reset_index()\n",
    "charter(facilities, 'HPV_DAYZERO_DATE', \"%m/%d/%Y\", 'pgm_sys_id', \"Number of facilities exceeding\", \n",
    "        \"caa_violations_facilities.csv\", \"# of facilities exceeding\", \"sum\")"
   ]
  },
  {
   "cell_type": "markdown",
   "metadata": {},
   "source": [
    "#### Let's focus on the selected month and this year (2020) and break it down by type of pollutant whose levels were exceeded."
   ]
  },
  {
   "cell_type": "code",
   "execution_count": null,
   "metadata": {},
   "outputs": [],
   "source": [
    "mnth1 = \"0\" + str(int(mnth) + 1)\n",
    "now = air_data[(air_data[\"HPV_DAYZERO_DATE\"] >= '2020-'+mnth+'-01') & (air_data[\"HPV_DAYZERO_DATE\"] < '2020-'+mnth1+'-01')]\n",
    "\n",
    "pollutants = now.groupby(['POLLUTANT_DESCS'])[['ACTIVITY_ID']].count()\n",
    "pollutants = pollutants.rename(columns={'ACTIVITY_ID': \"Violations\"})\n",
    "pollutants = pollutants.sort_values(by='Violations', ascending=False)\n",
    "fig = plt.figure(1, figsize=(20,20))\n",
    "ax = fig.add_subplot(111)\n",
    "wedges, labels, autopct = ax.pie(pollutants[\"Violations\"], labels = pollutants.index, autopct='%1.1f%%', radius = 10);#, textprops={'fontsize': 72});\n",
    "for pos,lab in enumerate(labels):\n",
    "    if pos < 10:\n",
    "        lab.set_fontsize(96)"
   ]
  },
  {
   "cell_type": "markdown",
   "metadata": {},
   "source": [
    "#### Where are these facilities that exceeded their permits?\n",
    "Even if, on the whole, there are fewer exceedances, the places that are emitting more pollutants are important to track. Their neighbors are suffering more."
   ]
  },
  {
   "cell_type": "code",
   "execution_count": null,
   "metadata": {},
   "outputs": [],
   "source": [
    "mnth1 = \"0\" + str(int(mnth) + 1)\n",
    "latest = air_data[(air_data[\"HPV_DAYZERO_DATE\"] >= '2020-'+mnth+'-01') & (air_data[\"HPV_DAYZERO_DATE\"] < '2020-'+mnth1+'-01')]\n",
    "\n",
    "# Pull out Ids to match ECHO_EXPORTER\n",
    "ids = latest.index.unique()\n",
    "\n",
    "if (len(latest.index)>0):\n",
    "    # Get facility information from ECHO\n",
    "    sql = \"select FAC_NAME, AIR_IDS, FAC_LAT, FAC_LONG, FAC_PERCENT_MINORITY, CAA_QTRS_WITH_NC, DFR_URL\" + \\\n",
    "        \" from ECHO_EXPORTER where AIR_FLAG = 'Y' \"\n",
    "    url='http://apps.tlt.stonybrook.edu/echoepa/?query='\n",
    "    data_location=url+urllib.parse.quote(sql)\n",
    "    air_echo_data = pd.read_csv(data_location,encoding='iso-8859-1',header = 0)\n",
    "    # Filter ECHO EXPORTER data to rows containing pgm_sys_ids from latest  \n",
    "    idxs=list()\n",
    "    for index,value in air_echo_data[\"AIR_IDS\"].items():\n",
    "        for i in value.split():\n",
    "            if i in ids:\n",
    "                idxs.append(index)\n",
    "    air_echo_data = air_echo_data.iloc[idxs,:]\n",
    "    air_echo_data.set_index( 'AIR_IDS', inplace=True ) \n",
    "                               \n",
    "    # Merge ECHO and CAA data\n",
    "    latest = latest.join(air_echo_data)\n",
    "    \n",
    "else:\n",
    "    print(\"Actually, there were no permit exceedences for %s\" %(mnth_name))"
   ]
  },
  {
   "cell_type": "markdown",
   "metadata": {},
   "source": [
    "#### Make the map!\n",
    "The map shows us all the facilities that report emitting more than their permitted levels in the selected month."
   ]
  },
  {
   "cell_type": "code",
   "execution_count": null,
   "metadata": {},
   "outputs": [],
   "source": [
    "missing = latest[(np.isnan(latest[\"FAC_LAT\"])) | (np.isnan(latest[\"FAC_LONG\"]))]\n",
    "count = missing.index.unique()\n",
    "print(\"There are \"+str(len(count))+\" facilities we can't map because they have incomplete data\")\n",
    "# Filter to remove NaNs - missing data!\n",
    "latest = latest[~(np.isnan(latest[\"FAC_LAT\"])) | ~(np.isnan(latest[\"FAC_LONG\"]))]\n",
    "print(\"There are \"+str(len(latest))+\"facilities mapped below.\")\n",
    "map_of_facilities = mapper(latest)\n",
    "map_of_facilities"
   ]
  },
  {
   "cell_type": "markdown",
   "metadata": {},
   "source": [
    "#### Of these known violators, how many quarters have they spent in non-compliance recently?\n",
    "These may be habitually \"bad actors\" who should not be let off the hook (but likely will be given EPA's non-enforcement policy)"
   ]
  },
  {
   "cell_type": "code",
   "execution_count": null,
   "metadata": {},
   "outputs": [],
   "source": [
    "mnth1 = \"0\" + str(int(mnth) + 1)\n",
    "latest = air_data[(air_data[\"HPV_DAYZERO_DATE\"] >= '2020-'+mnth+'-01') & (air_data[\"HPV_DAYZERO_DATE\"] < '2020-'+mnth1+'-01')]\n",
    "\n",
    "# Pull out Ids to match ECHO_EXPORTER\n",
    "ids = latest.index.unique()\n",
    "\n",
    "latest = latest.join(air_echo_data)\n",
    "\n",
    "bad_actors = latest.groupby(latest.index)[[\"CAA_QTRS_WITH_NC\"]].mean()\n",
    "bad_actors = bad_actors[~(np.isnan(bad_actors[\"CAA_QTRS_WITH_NC\"]))]\n",
    "bad_actors[\"CAA_QTRS_WITH_NC\"] = (bad_actors[\"CAA_QTRS_WITH_NC\"]/12)*100\n",
    "bad_actors[\"CAA_QTRS_WITH_NC\"].median()\n",
    "plt.hist(bad_actors[\"CAA_QTRS_WITH_NC\"], density=False, bins=10);\n",
    "plt.ylabel('Number of facilities')\n",
    "plt.xlabel('Percent of the last 12 quarters non-compliant with the Clean Air Act');"
   ]
  },
  {
   "cell_type": "markdown",
   "metadata": {},
   "source": [
    "---"
   ]
  },
  {
   "cell_type": "markdown",
   "metadata": {},
   "source": [
    "## What are facilities releasing into the water?\n",
    "\n",
    "*NOTE*: Because there are so many facilities that discharge into waters of the US, there's a lot of data! The following cell may take a little while to run."
   ]
  },
  {
   "cell_type": "code",
   "execution_count": null,
   "metadata": {},
   "outputs": [],
   "source": [
    "# Find facilities with pollutant exceedences\n",
    "sql = \"select NPDES_ID, EXCEEDENCE_PCT, MONITORING_PERIOD_END_DATE, PARAMETER_DESC\" + \\\n",
    "    \" from NPDES_EFF_VIOLATIONS where EXCEEDENCE_PCT > 0 and MONITORING_PERIOD_END_DATE like '\"+mnth+\"/%'\"\n",
    "\n",
    "url='http://apps.tlt.stonybrook.edu/echoepa/?query='\n",
    "data_location=url+urllib.parse.quote(sql)\n",
    "\n",
    "dis_data = pd.read_csv(data_location,encoding='iso-8859-1',header = 0)\n",
    "dis_data.set_index(\"NPDES_ID\", inplace=True)\n",
    "exceeds = dis_data \n",
    "exceeds"
   ]
  },
  {
   "cell_type": "markdown",
   "metadata": {},
   "source": [
    "#### Chart Clean Water Act exceedances\n",
    "Are facilities exceeding their permits more this month in 2020 than previous years? Like with air emissions and monitoring, we need to compare month-month (e.g. March 2019 to March 2020) because there is a seasonality to many discharges.\n",
    "\n",
    "The height of each bar will indicate how many pollution permits have been exceeded, while the orange line will show us the average number of these for all previous years and the pink line indicates the average for the past three years.\n",
    "\n",
    "In the second chart, the height of each bar will indicate how many *facilities* have exceeded their permits."
   ]
  },
  {
   "cell_type": "code",
   "execution_count": null,
   "metadata": {},
   "outputs": [],
   "source": [
    "charter(exceeds, 'MONITORING_PERIOD_END_DATE', \"%m/%d/%Y\", 'EXCEEDENCE_PCT', \"Number of pollution permits exceeded\", \n",
    "        \"cwa_violations_total.csv\", \"# of permit exceedances\", \"count\")\n",
    "\n",
    "facilities = exceeds.reset_index()\n",
    "facilities = facilities.groupby(['MONITORING_PERIOD_END_DATE']).agg({\"NPDES_ID\": \"nunique\"})\n",
    "facilities = facilities.reset_index()\n",
    "charter(facilities, 'MONITORING_PERIOD_END_DATE', \"%m/%d/%Y\", 'NPDES_ID', \"Number of facilities exceeding\", \n",
    "        \"cwa_violations_facilities.csv\", \"# of facilities exceeding\", \"sum\")"
   ]
  },
  {
   "cell_type": "markdown",
   "metadata": {},
   "source": [
    "#### Let's look at the selected month and this year (2020) and break it down by type of pollutant.\n",
    "That is, we're going to zoom in on the rightmost bar in the bar charts above."
   ]
  },
  {
   "cell_type": "code",
   "execution_count": null,
   "metadata": {},
   "outputs": [],
   "source": [
    "mnth1 = \"0\" + str(int(mnth) + 1)\n",
    "now = exceeds[(exceeds['MONITORING_PERIOD_END_DATE'] >= '2020-'+mnth+'-01') & (exceeds['MONITORING_PERIOD_END_DATE'] < '2020-'+mnth1+'-01')] \n",
    "\n",
    "pollutants = now.groupby(['PARAMETER_DESC'])[['MONITORING_PERIOD_END_DATE']].count()\n",
    "pollutants = pollutants.rename(columns={'MONITORING_PERIOD_END_DATE': \"Violations\"})\n",
    "pollutants = pollutants.sort_values(by='Violations', ascending=False)\n",
    "fig = plt.figure(1, figsize=(20,20))\n",
    "ax = fig.add_subplot(111)\n",
    "wedges, labels, autopct = ax.pie(pollutants[\"Violations\"], labels = pollutants.index, autopct='%1.1f%%', radius = 10);#, textprops={'fontsize': 72});\n",
    "for pos,lab in enumerate(labels):\n",
    "    if pos < 10:\n",
    "        lab.set_fontsize(96)"
   ]
  },
  {
   "cell_type": "markdown",
   "metadata": {},
   "source": [
    "#### Where are the facilities that are currently exceeding their Clean Water Act emissions?"
   ]
  },
  {
   "cell_type": "code",
   "execution_count": null,
   "metadata": {},
   "outputs": [],
   "source": [
    "mnth1 = \"0\" + str(int(mnth) + 1)\n",
    "latest = exceeds[(exceeds['MONITORING_PERIOD_END_DATE'] >= '2020-'+mnth+'-01') & (exceeds['MONITORING_PERIOD_END_DATE'] < '2020-'+mnth1+'-01')] \n",
    "\n",
    "# Pull out Ids to match ECHO_EXPORTER\n",
    "ids = latest.index.unique()\n",
    "\n",
    "if (len(latest.index)>0):\n",
    "    # Get facility information from ECHO\n",
    "    sql = \"select FAC_NAME, NPDES_IDS, FAC_LAT, FAC_LONG, FAC_PERCENT_MINORITY, CWA_QTRS_WITH_NC, DFR_URL\" + \\\n",
    "        \" from ECHO_EXPORTER where NPDES_FLAG = 'Y' \"\n",
    "    url='http://apps.tlt.stonybrook.edu/echoepa/?query='\n",
    "    data_location=url+urllib.parse.quote(sql)\n",
    "    water_echo_data = pd.read_csv(data_location,encoding='iso-8859-1',header = 0)\n",
    "    # Filter ECHO EXPORTER data to rows containing pgm_sys_ids from latest  \n",
    "    idxs=list()\n",
    "    for index,value in water_echo_data[\"NPDES_IDS\"].items():\n",
    "        for i in value.split():\n",
    "            if i in ids:\n",
    "                idxs.append(index)\n",
    "    water_echo_data = water_echo_data.iloc[idxs,:]\n",
    "    water_echo_data.set_index( 'NPDES_IDS', inplace=True )\n",
    "    \n",
    "    # Merge ECHO and NPDES data\n",
    "    latest = latest.join(water_echo_data)\n",
    "    print(latest)\n",
    "    \n",
    "else:\n",
    "    print(\"Actually, there were no reporting violations for %s\" %(mnth_name))    "
   ]
  },
  {
   "cell_type": "code",
   "execution_count": null,
   "metadata": {},
   "outputs": [],
   "source": [
    "missing = latest[(np.isnan(latest[\"FAC_LAT\"])) | (np.isnan(latest[\"FAC_LONG\"]))]\n",
    "count = missing.index.unique()\n",
    "print(\"There are \"+str(len(count))+\" facilities we can't map because they have incomplete data\")\n",
    "latest = latest[~(np.isnan(latest[\"FAC_LAT\"])) | ~(np.isnan(latest[\"FAC_LONG\"]))] # Filter to remove NaNs - missing data!\n",
    "print(\"There are \"+str(len(latest))+\"facilities mapped below.\")\n",
    "map_of_facilities = mapper(latest)\n",
    "map_of_facilities"
   ]
  },
  {
   "cell_type": "markdown",
   "metadata": {},
   "source": [
    "#### Of these known violators, how many quarters have they spent in non-compliance recently?\n",
    "These may be habitually \"bad actors\" who should not be let off the hook (but likely will be given EPA's non-enforcement policy)"
   ]
  },
  {
   "cell_type": "code",
   "execution_count": null,
   "metadata": {},
   "outputs": [],
   "source": [
    "mnth1 = \"0\" + str(int(mnth) + 1)\n",
    "latest = exceeds[(exceeds['MONITORING_PERIOD_END_DATE'] >= '2020-'+mnth+'-01') & (exceeds['MONITORING_PERIOD_END_DATE'] < '2020-'+mnth1+'-01')] \n",
    "\n",
    "# Merge ECHO and NPDES data\n",
    "latest = latest.join(water_echo_data)\n",
    "\n",
    "bad_actors = latest.groupby(latest.index)[[\"CWA_QTRS_WITH_NC\"]].mean()\n",
    "bad_actors = bad_actors[~(np.isnan(bad_actors[\"CWA_QTRS_WITH_NC\"]))]\n",
    "bad_actors[\"CWA_QTRS_WITH_NC\"] = (bad_actors[\"CWA_QTRS_WITH_NC\"]/12)*100\n",
    "bad_actors[\"CWA_QTRS_WITH_NC\"].median()\n",
    "plt.hist(bad_actors[\"CWA_QTRS_WITH_NC\"], density=False, bins=10);\n",
    "plt.ylabel('Number of facilities')\n",
    "plt.xlabel('Percent of the last 12 quarters non-compliant with the Clean Water Act');"
   ]
  },
  {
   "cell_type": "markdown",
   "metadata": {},
   "source": [
    "## Are facilities monitoring and reporting water quality?\n",
    "We'll look at how facilities regulated under the Clean Water Act have altered their required monitoring practices.\n",
    "\n",
    "Run the code in the cell below, which will query our copy of the ECHO database and pull information on regulated facilities.\n",
    "\n",
    "Specifically, we'll find records of facilities violating their permits due to \"Non-Receipt of DMR (Discharge Monitoring Reports)/Schedule Report\" and are required by the CWA's National Pollutant Discharge Elimination System (NPDES).\n",
    "\n",
    "Not submitting these reports on schedule can lead to \"Reportable Non-Compliance\" with NPDES and CWA. According to the EPA, \"DMR values not received within 31 days of the DMR form due date result in the generation of a violation code (D80 or D90). ICIS-NPDES identifies these DMR non-receipt violations and automatically creates violation codes for the missing DMR values with monitoring requirements (D80) and missing DMR values with effluent limits (D90). EPA's data sharing policy allows states a 40-day window to report DMR values to EPA's data system; therefore, DMR values reported on time to state agencies and shared with EPA within 40 days do not contribute to permit level noncompliance status.\"\n",
    "\n",
    "In this case, \"N\" does NOT mean no - it just is a code for the kind of violation event we're interested in (non-reporting)."
   ]
  },
  {
   "cell_type": "code",
   "execution_count": null,
   "metadata": {},
   "outputs": [],
   "source": [
    "sql = \"select NPDES_ID, SCHEDULE_DATE, RNC_DETECTION_CODE\" + \\\n",
    "    \" from NPDES_PS_VIOLATIONS where RNC_DETECTION_CODE = 'N' and \" + \\\n",
    "    \" SCHEDULE_DATE like '\"+mnth+\"/%'\"\n",
    "#\" NPDES_ID like '\" + my_state + \"%'\"\n",
    "url='http://apps.tlt.stonybrook.edu/echoepa/?query='\n",
    "data_location=url+urllib.parse.quote(sql)\n",
    "\n",
    "dmr_data = pd.read_csv(data_location,encoding='iso-8859-1',header = 0)\n",
    "dmr_data.set_index(\"NPDES_ID\", inplace=True)\n",
    "dmr_data"
   ]
  },
  {
   "cell_type": "markdown",
   "metadata": {},
   "source": [
    "#### Chart this ^ !!!\n",
    "It's all well and good to have this table, but it's hard to pick out patterns from tabular data. Let's plot it as a histogram in order to see what's going on.\n",
    "\n",
    "The height of each bar will indicate how many facilities were out of compliance due to missing or late reports, while the orange line will show us the average number of these facilities for all previous Aprils and the pink line indicates the average for the past three years or so."
   ]
  },
  {
   "cell_type": "code",
   "execution_count": null,
   "metadata": {},
   "outputs": [],
   "source": [
    "charter(dmr_data, 'SCHEDULE_DATE', \"%m/%d/%Y\", 'RNC_DETECTION_CODE', \"Number of missing reports\", \n",
    "        \"cwa_missing_reports.csv\", \"Total CWA Non-Compliance due to Missing or Late Reports\", \"count\")"
   ]
  },
  {
   "cell_type": "markdown",
   "metadata": {},
   "source": [
    "#### Which facilities didn't report this month?\n",
    "This will give us a good indicator of the impact of EPA's memo, which went into effect that month.\n",
    "\n",
    "First, let's get more information about those facilities."
   ]
  },
  {
   "cell_type": "code",
   "execution_count": null,
   "metadata": {},
   "outputs": [],
   "source": [
    "facilities = dmr_data.reset_index()\n",
    "facilities = facilities.groupby(['SCHEDULE_DATE']).agg({\"NPDES_ID\": \"nunique\"})\n",
    "facilities = facilities.reset_index()\n",
    "charter(facilities, 'SCHEDULE_DATE', \"%m/%d/%Y\", 'NPDES_ID', \"Number of facilities not reporting\", \n",
    "        \"cwa_missing-reports_facilities.csv\", \"# of facilities not reporting\", \"sum\")"
   ]
  },
  {
   "cell_type": "code",
   "execution_count": null,
   "metadata": {},
   "outputs": [],
   "source": [
    "mnth1 = \"0\" + str(int(mnth) + 1)\n",
    "latest = dmr_data[(dmr_data[\"SCHEDULE_DATE\"] >= '2020-'+mnth+'-01') & (dmr_data[\"SCHEDULE_DATE\"] <= '2020-'+mnth1+'-01')] \n",
    "\n",
    "# Pull out Ids to match ECHO_EXPORTER\n",
    "ids = latest.index.unique()\n",
    "\n",
    "if (len(latest.index)>0):\n",
    "    # Get facility information from ECHO\n",
    "    sql = \"select FAC_NAME, NPDES_IDS, FAC_LAT, FAC_LONG, CWA_QTRS_WITH_NC, FAC_PERCENT_MINORITY, DFR_URL\" + \\\n",
    "        \" from ECHO_EXPORTER where NPDES_FLAG = 'Y' \"\n",
    "    url='http://apps.tlt.stonybrook.edu/echoepa/?query='\n",
    "    data_location=url+urllib.parse.quote(sql)\n",
    "    echo_data = pd.read_csv(data_location,encoding='iso-8859-1',header = 0)\n",
    "    # Filter ECHO EXPORTER data to rows containing pgm_sys_ids from latest  \n",
    "    idxs=list()\n",
    "    for index,value in echo_data[\"NPDES_IDS\"].items():\n",
    "        for i in value.split():\n",
    "            if i in ids:\n",
    "                idxs.append(index)\n",
    "    echo_data = echo_data.iloc[idxs,:]\n",
    "    echo_data.set_index( 'NPDES_IDS', inplace=True )\n",
    "    \n",
    "    # Merge ECHO and NPDES data\n",
    "    latest = latest.join(echo_data)\n",
    "    print(latest)\n",
    "    \n",
    "else:\n",
    "    print(\"Actually, there were no reporting violations for %s\" %(mnth_name))    "
   ]
  },
  {
   "cell_type": "markdown",
   "metadata": {},
   "source": [
    "#### Map them!\n",
    "Now we'll map those facilities that didn't report in the selected month this year."
   ]
  },
  {
   "cell_type": "code",
   "execution_count": null,
   "metadata": {
    "scrolled": true
   },
   "outputs": [],
   "source": [
    "missing = latest[(np.isnan(latest[\"FAC_LAT\"])) | (np.isnan(latest[\"FAC_LONG\"]))]\n",
    "count = missing.index.unique()\n",
    "print(\"There are \"+str(len(count))+\" facilities we can't map because they have incomplete data\")\n",
    "latest = latest[~(np.isnan(latest[\"FAC_LAT\"])) | ~(np.isnan(latest[\"FAC_LONG\"]))] # Filter to remove NaNs - missing data!\n",
    "print(\"There are \"+str(len(latest))+\"facilities mapped below.\")\n",
    "map_of_facilities = mapper(latest)\n",
    "map_of_facilities"
   ]
  },
  {
   "cell_type": "markdown",
   "metadata": {},
   "source": [
    "## Which facilities have officially indicated that they could not monitor and report water quality due to COVID?\n",
    "Facilities are allowed to indicate to the EPA that they were unable to submit water discharge monitoring reports because of COVID-related reasons."
   ]
  },
  {
   "cell_type": "code",
   "execution_count": null,
   "metadata": {},
   "outputs": [],
   "source": [
    "### Use NPDES_DMR_FY2020 to show the facilities that indicated they could not monitor and report due to COVID\n",
    "sql = \"select *\" + \\\n",
    "    \" from NPDES_DMRS_FY2020 where NODI_CODE = 'Z' and \" + \\\n",
    "    \" MONITORING_PERIOD_END_DATE like '\"+mnth+\"/%'\"\n",
    "url='http://apps.tlt.stonybrook.edu/echoepa/?query='\n",
    "data_location=url+urllib.parse.quote(sql)\n",
    "\n",
    "z_data = pd.read_csv(data_location,encoding='iso-8859-1',header = 0)\n",
    "z_data.set_index(\"EXTERNAL_PERMIT_NMBR\", inplace=True)\n",
    "z_data"
   ]
  },
  {
   "cell_type": "markdown",
   "metadata": {},
   "source": [
    "#### What kinds of water pollutants were these facilities not able to report on?"
   ]
  },
  {
   "cell_type": "code",
   "execution_count": null,
   "metadata": {},
   "outputs": [],
   "source": [
    "pollutants = z_data.groupby(['PARAMETER_DESC'])[['MONITORING_PERIOD_END_DATE']].count()\n",
    "pollutants = pollutants.rename(columns={'MONITORING_PERIOD_END_DATE': \"Violations\"})\n",
    "pollutants = pollutants.sort_values(by='Violations', ascending=False)\n",
    "fig = plt.figure(1, figsize=(20,20))\n",
    "ax = fig.add_subplot(111)\n",
    "wedges, labels, autopct = ax.pie(pollutants[\"Violations\"], labels = pollutants.index, autopct='%1.1f%%', radius = 10);#, textprops={'fontsize': 72});\n",
    "for pos,lab in enumerate(labels):\n",
    "    if pos < 10:\n",
    "        lab.set_fontsize(96)"
   ]
  },
  {
   "cell_type": "markdown",
   "metadata": {},
   "source": [
    "#### Where are the facilities that have officially indicated they can't submit reports due to COVID?"
   ]
  },
  {
   "cell_type": "code",
   "execution_count": null,
   "metadata": {},
   "outputs": [],
   "source": [
    "latest = z_data\n",
    "\n",
    "# Pull out Ids to match ECHO_EXPORTER\n",
    "ids = latest.index.unique()\n",
    "\n",
    "if (len(latest.index)>0):\n",
    "    # Get facility information from ECHO\n",
    "    sql = \"select FAC_NAME, NPDES_IDS, FAC_LAT, FAC_LONG, CWA_QTRS_WITH_NC, FAC_PERCENT_MINORITY, DFR_URL\" + \\\n",
    "        \" from ECHO_EXPORTER where NPDES_FLAG = 'Y' \"\n",
    "    url='http://apps.tlt.stonybrook.edu/echoepa/?query='\n",
    "    data_location=url+urllib.parse.quote(sql)\n",
    "    echo_data = pd.read_csv(data_location,encoding='iso-8859-1',header = 0)\n",
    "    # Filter ECHO EXPORTER data to rows containing pgm_sys_ids from latest  \n",
    "    idxs=list()\n",
    "    for index,value in echo_data[\"NPDES_IDS\"].items():\n",
    "        for i in value.split():\n",
    "            if i in ids:\n",
    "                idxs.append(index)\n",
    "    echo_data = echo_data.iloc[idxs,:]\n",
    "    echo_data.set_index( 'NPDES_IDS', inplace=True )\n",
    "    \n",
    "    # Merge ECHO and NPDES data\n",
    "    latest = latest.join(echo_data)\n",
    "    print(latest)\n",
    "    \n",
    "else:\n",
    "    print(\"Actually, there were no reporting violations for %s\" %(mnth_name))    "
   ]
  },
  {
   "cell_type": "code",
   "execution_count": null,
   "metadata": {},
   "outputs": [],
   "source": [
    "missing = latest[(np.isnan(latest[\"FAC_LAT\"])) | (np.isnan(latest[\"FAC_LONG\"]))]\n",
    "count = missing.index.unique()\n",
    "print(\"There are \"+str(len(count))+\" facilities we can't map because they have incomplete data\")\n",
    "latest = latest[~(np.isnan(latest[\"FAC_LAT\"])) | ~(np.isnan(latest[\"FAC_LONG\"]))] # Filter to remove NaNs - missing data!\n",
    "print(\"There are \"+str(len(latest))+\" facilities mapped below.\")\n",
    "map_of_facilities = mapper(latest)\n",
    "map_of_facilities"
   ]
  },
  {
   "cell_type": "code",
   "execution_count": null,
   "metadata": {},
   "outputs": [],
   "source": []
  }
 ],
 "metadata": {
  "kernelspec": {
   "display_name": "Python 3",
   "language": "python",
   "name": "python3"
  },
  "language_info": {
   "codemirror_mode": {
    "name": "ipython",
    "version": 3
   },
   "file_extension": ".py",
   "mimetype": "text/x-python",
   "name": "python",
   "nbconvert_exporter": "python",
   "pygments_lexer": "ipython3",
   "version": "3.7.6"
  }
 },
 "nbformat": 4,
 "nbformat_minor": 2
}
