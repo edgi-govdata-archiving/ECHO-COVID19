{
 "cells": [
  {
   "cell_type": "markdown",
   "metadata": {},
   "source": [
    "# Tracking EPA's COVID-19 non-enforcement policy\n",
    "In late March 2020, EPA released a memo announcing that it would not penalize regulated industries that fail to meet their monitoring and reporting requirements due to COVID-19. Specifically EPA has said that it:\n",
    "\n",
    "\"is not seeking penalties for noncompliance only in circumstances that involve routine monitoring and reporting requirements, if, on a case-by-case basis, EPA agrees that such noncompliance was caused by the COVID-19 pandemic.\"\n",
    "\n",
    "This may have a number of public and environmental health impacts. See our response to EPA's memo here: https://envirodatagov.org/epas-covid-19-leniency-is-a-free-pass-to-pollute/\n",
    "\n",
    "What is the effect of EPA's non-enforcement of Clean Air Act, Clean Water Act, and hazardous waste permits? Using this notebook, you can track how facilities' monitoring and reporting of air, water, and waste hazards has changed in your state over the past few months, compared to previous years. \n",
    "\n",
    "---"
   ]
  },
  {
   "cell_type": "markdown",
   "metadata": {},
   "source": [
    "## Setup\n",
    "Here we load some helper code to get us going."
   ]
  },
  {
   "cell_type": "code",
   "execution_count": null,
   "metadata": {},
   "outputs": [],
   "source": [
    "# Import libraries\n",
    "import urllib.parse\n",
    "import pandas as pd\n",
    "import numpy as np\n",
    "import matplotlib.pyplot as plt\n",
    "%matplotlib inline\n",
    "import requests\n",
    "import csv\n",
    "import datetime\n",
    "import folium"
   ]
  },
  {
   "cell_type": "markdown",
   "metadata": {},
   "source": [
    "## Select your state\n",
    "By typgin in its postal code abbreviation"
   ]
  },
  {
   "cell_type": "code",
   "execution_count": null,
   "metadata": {},
   "outputs": [],
   "source": [
    "my_state=\"WI\" # Could switch to dropdown menu"
   ]
  },
  {
   "cell_type": "markdown",
   "metadata": {},
   "source": [
    "## Water\n",
    "First, we'll look at how facilities regulated under the Clean Water Act have altered their required monitoring practices.\n",
    "\n",
    "Run this code, which will query our copy of the ECHO database and pull information on regulated facilities in your state.\n",
    "\n",
    "Specifically, we'll find records of facilities out of compliance - that is, violating their permits - due to \"Non-Receipt of DMR/Schedule Report\" DMR stands for Discharge Monitoring Reports, and are required by the CWA's National Pollutant Discharge Elimination System (NPDES). \n",
    "\n",
    "Not submitting these reports on schedule can lead to \"Reportable Non-Compliance\" with NPDES and CWA. According to the EPA, \"DMR values not received within 31 days of the DMR form due date result in the generation of a violation code (D80 or D90). ICIS-NPDES identifies these DMR non-receipt violations and automatically creates violation codes for the missing DMR values with monitoring requirements (D80) and missing DMR values with effluent limits (D90). EPA's data sharing policy allows states a 40-day window to report DMR values to EPA's data system; therefore, DMR values reported on time to state agencies and shared with EPA within 40 days do not contribute to permit level noncompliance status.\"\n",
    "\n",
    "In this case, \"N\" does NOT mean no - it just is a code for the kind of violation event (non-reporting)."
   ]
  },
  {
   "cell_type": "code",
   "execution_count": null,
   "metadata": {},
   "outputs": [],
   "source": [
    "sql = \"select NPDES_ID, SCHEDULE_DATE, RNC_DETECTION_CODE\" + \\\n",
    "    \" from NPDES_PS_VIOLATIONS where RNC_DETECTION_CODE = 'N' and \" \\\n",
    "    \" NPDES_ID like '\" + my_state + \"%'\"\n",
    "url='http://apps.tlt.stonybrook.edu/echoepa/?query='\n",
    "data_location=url+urllib.parse.quote(sql)\n",
    "#\n",
    "\n",
    "data = pd.read_csv(data_location,header = 0)\n",
    "data.set_index(\"NPDES_ID\", inplace=True)\n",
    "data"
   ]
  },
  {
   "cell_type": "markdown",
   "metadata": {},
   "source": [
    "### Let's organize this information by date\n",
    "We're curious to track whether non-receipt of DMRs has increased due to COVID, so we have to be able to summarize and order facilities' violations across time."
   ]
  },
  {
   "cell_type": "code",
   "execution_count": null,
   "metadata": {},
   "outputs": [],
   "source": [
    "# The NPDES_IDS in ECHO_EXPORTER can contain multiple ids for a facility. \n",
    "data['SCHEDULE_DATE'] = pd.to_datetime(data['SCHEDULE_DATE'], format=\"%m/%d/%Y\")\n",
    "by_date = data.groupby('SCHEDULE_DATE')[['RNC_DETECTION_CODE']].count()\n",
    "by_date=by_date.resample('M').sum() # Summarize by month. Or Y for year?\n",
    "by_date=by_date.loc['2017-01-01':'2020-05-01'] #filter to relatively recent\n",
    "by_date"
   ]
  },
  {
   "cell_type": "markdown",
   "metadata": {},
   "source": [
    "### Plot this ^ !!!\n",
    "It's all well and good to have this table, but it's hard to pick out patterns from tabular data. Let's plot it as what's called a histogram in order to see what's going on."
   ]
  },
  {
   "cell_type": "code",
   "execution_count": null,
   "metadata": {},
   "outputs": [],
   "source": [
    "#fig, ax = plt.subplots(figsize=(15,15))\n",
    "#my_cd_groups.plot(ax=ax)\n",
    "\n",
    "chart_title = \"Total CWA Non-Compliance due to Missing or Late Reports\"\n",
    "ax = by_date.plot(kind='bar', title = chart_title, figsize=(20, 10), legend=False, fontsize=16)\n",
    "ax.set_xlabel(\"Month\", fontsize=16)\n",
    "ax.set_ylabel(\"Count\", fontsize=16)"
   ]
  },
  {
   "cell_type": "markdown",
   "metadata": {},
   "source": [
    "### Which facilities didn't report in the month of April?\n",
    "We don't have that information yet, but it'll be a good indicator of the impact of EPA's memo, which went into effect that month.\n",
    "\n",
    "So, for now, let's map those that didn't report in March 2020."
   ]
  },
  {
   "cell_type": "code",
   "execution_count": null,
   "metadata": {},
   "outputs": [],
   "source": [
    "latest = data[(data[\"SCHEDULE_DATE\"] >= '2020-03-01') & (data[\"SCHEDULE_DATE\"] < '2020-04-01')] #filter to March\n",
    "\n",
    "if (len(latest.index)>0):\n",
    "    #get facility information from ECHO\n",
    "    sql = \"select FAC_NAME, NPDES_IDS, FAC_LAT, FAC_LONG\" + \\\n",
    "        \" from ECHO_EXPORTER \" + \\\n",
    "        \" where NPDES_FLAG = 'Y' and FAC_STATE = '\" + my_state + \"'\"\n",
    "    url='http://apps.tlt.stonybrook.edu/echoepa/?query='\n",
    "    data_location=url+urllib.parse.quote(sql)\n",
    "    echo_data = pd.read_csv(data_location,encoding='iso-8859-1',header = 0)\n",
    "    echo_data.set_index( 'NPDES_IDS', inplace=True )\n",
    "\n",
    "    #merge echo and npdes data\n",
    "    latest = latest.join(echo_data)\n",
    "\n",
    "    def mapper(df):\n",
    "        # Initialize the map\n",
    "        m = folium.Map(\n",
    "            location = [df.mean()[\"FAC_LAT\"], df.mean()[\"FAC_LONG\"]],\n",
    "            zoom_start = 11\n",
    "        )\n",
    "\n",
    "        # Add a clickable marker for each facility\n",
    "        for index, row in df.iterrows():\n",
    "            folium.Marker(\n",
    "                location = [row[\"FAC_LAT\"], row[\"FAC_LONG\"]],\n",
    "                popup = row[\"FAC_NAME\"] ).add_to(m)\n",
    "\n",
    "        # Show the map\n",
    "        return m\n",
    "\n",
    "    map_of_facilities = mapper(latest)\n",
    "    map_of_facilities\n",
    "else:\n",
    "    print(\"Actually, there were no reporting violations for March in \"+my_state)\n",
    "    "
   ]
  },
  {
   "cell_type": "markdown",
   "metadata": {},
   "source": [
    "## Air\n",
    "Now, let's look at violations of the Clean Air Act's reporting requirements. If facilities are not reporting their emissions, they may be releasing more pollutants, which can actually contribute to COVID-19 outcomes.\n"
   ]
  },
  {
   "cell_type": "markdown",
   "metadata": {},
   "source": [
    "## Waste\n",
    "Now, let's look at violations of the Resource Conservation and Recovery Act's (RCRA) requirements."
   ]
  },
  {
   "cell_type": "code",
   "execution_count": null,
   "metadata": {},
   "outputs": [],
   "source": []
  }
 ],
 "metadata": {
  "kernelspec": {
   "display_name": "Python 3",
   "language": "python",
   "name": "python3"
  },
  "language_info": {
   "codemirror_mode": {
    "name": "ipython",
    "version": 3
   },
   "file_extension": ".py",
   "mimetype": "text/x-python",
   "name": "python",
   "nbconvert_exporter": "python",
   "pygments_lexer": "ipython3",
   "version": "3.7.0"
  }
 },
 "nbformat": 4,
 "nbformat_minor": 2
}
