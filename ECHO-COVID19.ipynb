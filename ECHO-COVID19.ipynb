{
 "cells": [
  {
   "cell_type": "markdown",
   "metadata": {},
   "source": [
    "# BANNER: EDGI and EEW LOGOS\n",
    "###### This notebook is available under the GPL 3.0 license. Brief description.\n",
    "###### Link to EDGI's authorship protocol: XXXXXXXXX."
   ]
  },
  {
   "cell_type": "markdown",
   "metadata": {},
   "source": [
    "# Tracking EPA's COVID-19 non-enforcement policy\n",
    "In late March 2020, EPA released a memo announcing that it would not penalize regulated industries that fail to meet their monitoring and reporting requirements due to COVID-19. Specifically EPA has said that it:\n",
    "\n",
    "> \"is not seeking penalties for noncompliance only in circumstances that involve routine monitoring and reporting requirements, if, on a case-by-case basis, EPA agrees that such noncompliance was caused by the COVID-19 pandemic.\"\n",
    "\n",
    "This may have a number of public and environmental health impacts if facilities respond by increasing their emissions and discharges. Our response to this memo states that the EPA’s COVID-19 leniency is [a “free pass to poullute.](https://envirodatagov.org/epas-covid-19-leniency-is-a-free-pass-to-pollute/)”"
   ]
  },
  {
   "cell_type": "markdown",
   "metadata": {},
   "source": [
    "## What is the effect of EPA's non-enforcement of Clean Air Act and Clean Water Act permits? \n",
    "Using this notebook, you can track how facilities' releases—as well as monitoring and reporting—of air and water hazards has changed in your state over the past few months, compared to previous years. \n",
    "\n",
    "There are three scenarios we may see playing out:\n",
    "\n",
    "_Monitoring and reporting violations_\n",
    "- 1. **Facilities that do *not* report** (we can track this)....**but do still meet their permit limits** (yet we can't know this specifically, precisely because they didn't report)\n",
    "- 2. **Facilities that do *not* report** (we can track this)....**and actually exceed their limits** (yet we can't know this specifically, precisely because they didn't report)\n",
    "\n",
    "_Environmental violations_\n",
    "- 3. **Facilities that do meet their reporting obligations** BUT they **report having exceeded their permitted limits**\n",
    "\n",
    "Organization of this notebook:\n",
    " - Air emissions\n",
    " - Water discharges from major sources \n",
    " - Water quality monitoring and reporting violations\n",
    "---"
   ]
  },
  {
   "cell_type": "markdown",
   "metadata": {},
   "source": [
    "## How to Run this Notebook\n",
    "* If you click on a gray **code** cell, a little “play button” arrow appears on the left. If you click the play button, it will run the code in that cell (“**running** a cell”). The button will animate. When the animation stops, the cell has finished running.\n",
    "![Where to click to run the cell](https://github.com/edgi-govdata-archiving/EEW-Image-Assets/blob/master/Jupyter%20instructions/pressplay.JPG?raw=true)\n",
    "* You may get a warning that the notebook was not authored by Google. We know, we authored them! It’s okay. Click “Run Anyway” to continue. \n",
    "![Error Message](https://github.com/edgi-govdata-archiving/EEW-Image-Assets/blob/master/Jupyter%20instructions/warning-message.JPG?raw=true)\n",
    "* The code cell in the \"Pick a month\" section will create a dropdown menu after you run it. Be sure to make a selection before running the next cell.\n",
    "* **After you run the first cell and select a month, you can then select \"Run after\" from the \"Runtime\" menu to automatically run the rest of the notebook.**\n",
    "* Other cells will simply print information when you run them, like this one:\n",
    "![Simple cell](https://github.com/edgi-govdata-archiving/EEW-Image-Assets/blob/master/Jupyter%20instructions/cell-simple.JPG?raw=true)\n",
    "* And yet others will display charts or maps.\n",
    "* Run all of the cells in a Notebook to make a complete report. Please feel free to look at and **learn about each result as you create it**!\n",
    "\n",
    "---"
   ]
  },
  {
   "cell_type": "markdown",
   "metadata": {},
   "source": [
    "## Setup\n",
    "Here we load some helper code to get us going."
   ]
  },
  {
   "cell_type": "code",
   "execution_count": null,
   "metadata": {},
   "outputs": [],
   "source": [
    "# Import libraries\n",
    "import urllib.parse\n",
    "import pandas as pd\n",
    "import numpy as np\n",
    "import matplotlib.pyplot as plt\n",
    "%matplotlib inline\n",
    "import requests\n",
    "import csv\n",
    "import datetime\n",
    "import folium\n",
    "import ipywidgets as widgets\n",
    "colour = \"#00C2AB\" # The default colour for the barcharts"
   ]
  },
  {
   "cell_type": "code",
   "execution_count": null,
   "metadata": {},
   "outputs": [],
   "source": [
    "# This will make all of our charts for us\n",
    "def charter (full_data, date_column, date_format, counting_column, measure, filename, title, function):\n",
    "    full_data[date_column] = pd.to_datetime(full_data[date_column], format=date_format) #format the date\n",
    "\n",
    "    this_data = full_data.groupby([date_column])[counting_column].agg(function) # = total number of pollutants stack test. May want to summarize by facility instead. \n",
    "    this_data = this_data.resample('M').sum() #resample to a monthly basis  \n",
    "    this_data = this_data.loc[(this_data.index.month == int(mnth)) & (this_data.index.year >= 2001)] # Filter to higher quality data timeframe and back to just the selected month \n",
    "    this_data = pd.DataFrame(this_data)\n",
    "    this_data = this_data.rename(columns={counting_column: measure})\n",
    "    this_data.index = this_data.index.strftime('%Y-%m') # makes the x axis (date) prettier\n",
    "\n",
    "    ax = this_data.plot(kind='bar', title = title, figsize=(20, 10), fontsize=16, color=colour)\n",
    "    ax\n",
    "\n",
    "    #label trendline\n",
    "    trend=this_data[measure].mean()\n",
    "    ax.axhline(y=trend, color='r', linestyle='-', label = \"Long term average\")\n",
    "\n",
    "    #label past 4 years trend (2017, 2018, 2019)\n",
    "    trend_month=pd.concat([this_data.loc[\"2017-\"+mnth],this_data.loc[\"2018-\"+mnth],this_data.loc[\"2019-\"+mnth]])\n",
    "    trend_month=trend_month[measure].mean()\n",
    "    ax.axhline(y=trend_month, xmin = .82, xmax=.93, color='y', linestyle='-', label = \"Recent average\")\n",
    "\n",
    "    #export data \n",
    "    this_data.to_csv(filename) "
   ]
  },
  {
   "cell_type": "code",
   "execution_count": null,
   "metadata": {},
   "outputs": [],
   "source": [
    "def mapper(df):\n",
    "    # Initialize the map\n",
    "    m = folium.Map(\n",
    "        location = [df.mean()[\"FAC_LAT\"], df.mean()[\"FAC_LONG\"]]\n",
    "    )\n",
    "\n",
    "    # Add a clickable marker for each facility\n",
    "    for index, row in df.iterrows():\n",
    "        folium.CircleMarker(\n",
    "            location = [row[\"FAC_LAT\"], row[\"FAC_LONG\"]],\n",
    "            popup = row[\"FAC_NAME\"],\n",
    "            radius = 8,\n",
    "            color = \"black\",\n",
    "            weight = 1,\n",
    "            fill_color = \"orange\",\n",
    "            fill_opacity= .4\n",
    "        ).add_to(m)\n",
    "\n",
    "    bounds = m.get_bounds()\n",
    "    m.fit_bounds(bounds)\n",
    "\n",
    "    # Show the map\n",
    "    return m"
   ]
  },
  {
   "cell_type": "markdown",
   "metadata": {},
   "source": [
    "#### Pick a month\n",
    "We'll look at trends for that month across the past few decades of pollution trends"
   ]
  },
  {
   "cell_type": "code",
   "execution_count": null,
   "metadata": {},
   "outputs": [],
   "source": [
    "w=widgets.Dropdown(\n",
    "    options=[\"01\",\"02\",\"03\",\"04\",\"05\",\"06\",\"07\",\"08\",\"09\",\"10\",\"11\",\"12\"],\n",
    "    value = \"03\",\n",
    "    description='Month:'\n",
    ")\n",
    "display(w)"
   ]
  },
  {
   "cell_type": "code",
   "execution_count": null,
   "metadata": {},
   "outputs": [],
   "source": [
    "mnth=w.value"
   ]
  },
  {
   "cell_type": "markdown",
   "metadata": {},
   "source": [
    "## Air emissions monitoring\n",
    "Are facilities monitoring their emissions? \"Stack tests\" involve measuring the volume of pollutants coming out of the facility's \"smokestack\".\n",
    "\n",
    "The following cell will grab EPA data on facility stack tests for every one of the selected months on record (up to 50 years ago). Some pollutant releases may be seasonal, so by looking only at the selected month, we can account for this variation and ensure an apples-to-apples comparison.\n",
    "\n",
    "In addition, we will only look at data post-2000, as EPA notes that its data systems prior to that date are incomplete and hence \"unknown.\""
   ]
  },
  {
   "cell_type": "code",
   "execution_count": null,
   "metadata": {},
   "outputs": [],
   "source": [
    "sql = \"select * from `ICIS-AIR_STACK_TESTS` where ACTUAL_END_DATE like '\"+mnth+\"/%'\"\n",
    "url='http://apps.tlt.stonybrook.edu/echoepa/?query='\n",
    "data_location=url+urllib.parse.quote(sql)\n",
    "\n",
    "stack_data = pd.read_csv(data_location,encoding='iso-8859-1',header = 0)\n",
    "stack_data.set_index(\"pgm_sys_id\", inplace=True)\n",
    "stack_data"
   ]
  },
  {
   "cell_type": "markdown",
   "metadata": {},
   "source": [
    "#### Now we'll chart this data. \n",
    "\n",
    "The height of each bar will indicate how many tests there were, while the red line will show us the average number of these for all previous Aprils and the yellow line indicates the average for the past three years."
   ]
  },
  {
   "cell_type": "code",
   "execution_count": null,
   "metadata": {},
   "outputs": [],
   "source": [
    "charter(stack_data, 'ACTUAL_END_DATE', \"%m/%d/%Y\", 'STATE_EPA_FLAG', \n",
    "        \"Number of stack tests\", \"air_monitoring.csv\", \"# of pollutants stack-tested\", \"count\")"
   ]
  },
  {
   "cell_type": "markdown",
   "metadata": {},
   "source": [
    "#### Are inspections happening?"
   ]
  },
  {
   "cell_type": "code",
   "execution_count": null,
   "metadata": {},
   "outputs": [],
   "source": [
    "###### TBD\n",
    "#sql = \"select * from `ICIS-AIR_STACK_TESTS` where ACTUAL_END_DATE like '\"+mnth+\"/%'\"\n",
    "#url='http://apps.tlt.stonybrook.edu/echoepa/?query='\n",
    "#data_location=url+urllib.parse.quote(sql)\n",
    "\n",
    "#stack_data = pd.read_csv(data_location,encoding='iso-8859-1',header = 0)\n",
    "#stack_data.set_index(\"pgm_sys_id\", inplace=True)\n",
    "#stack_data"
   ]
  },
  {
   "cell_type": "code",
   "execution_count": null,
   "metadata": {},
   "outputs": [],
   "source": [
    "##### TBD\n",
    "# chart inspections"
   ]
  },
  {
   "cell_type": "code",
   "execution_count": null,
   "metadata": {},
   "outputs": [],
   "source": [
    "#### Who should've been stack test/inspected, but wasn't and what did they emit previously?\n",
    "### COMPARE TO PREVIOUS YEARS in AIR EMISSIONS TABLE"
   ]
  },
  {
   "cell_type": "markdown",
   "metadata": {},
   "source": [
    "## What are facilities releasing in to the air?\n",
    "This has ramifications for COVID-19....\n",
    "\n",
    "First, we'll get this data! We'll start by looking at those facilities that were found to be in violation for their emissions."
   ]
  },
  {
   "cell_type": "code",
   "execution_count": null,
   "metadata": {},
   "outputs": [],
   "source": [
    "sql = \"select * from `ICIS-AIR_VIOLATION_HISTORY` where HPV_DAYZERO_DATE like '\"+mnth+\"-%'\"\n",
    "url='http://apps.tlt.stonybrook.edu/echoepa/?query='\n",
    "data_location=url+urllib.parse.quote(sql)\n",
    "\n",
    "air_data = pd.read_csv(data_location,encoding='iso-8859-1',header = 0)\n",
    "air_data.set_index(\"pgm_sys_id\", inplace=True)\n",
    "air_data"
   ]
  },
  {
   "cell_type": "markdown",
   "metadata": {},
   "source": [
    "#### Let's chart it!\n",
    "The height of each bar will indicate how many emissions violations there have been, while the red line will show us the average number of these for all previous years and the yellow line indicates the average for the past three years."
   ]
  },
  {
   "cell_type": "code",
   "execution_count": null,
   "metadata": {},
   "outputs": [],
   "source": [
    "charter(air_data, 'HPV_DAYZERO_DATE', \"%m-%d-%Y\", 'ENF_RESPONSE_POLICY_CODE', \n",
    "        \"Number of violations\", \"air_violations_total.csv\", \"# of Clean Air Act violations\", \"count\")\n",
    "\n",
    "facilities = air_data.reset_index()\n",
    "facilities = facilities.groupby(['HPV_DAYZERO_DATE']).agg({\"pgm_sys_id\": \"nunique\"})\n",
    "facilities = facilities.reset_index()\n",
    "charter(facilities, 'HPV_DAYZERO_DATE', \"%m/%d/%Y\", 'pgm_sys_id', \"Number of facilities exceeding\", \n",
    "        \"caa_violations_facilities.csv\", \"# of facilities exceeding\", \"sum\")"
   ]
  },
  {
   "cell_type": "code",
   "execution_count": null,
   "metadata": {},
   "outputs": [],
   "source": [
    "### MAP THESE FACILITIES\n",
    "### INSTEAD OF CPS, JUST PIE CHART WHAT IS BEING VIOLATED?"
   ]
  },
  {
   "cell_type": "markdown",
   "metadata": {},
   "source": [
    "Let's break it down by type of pollutant. We'll focus on two of what EPA calls \"criteria pollutants\" - those that have such an impact on human health, that the agency regulates how much of these can be in the atmosphere at any given time/place. The two are particulate matter, which is known to affect the circulatory and nervous systems, and sulfur dioxide, which exacerbates asthma."
   ]
  },
  {
   "cell_type": "code",
   "execution_count": null,
   "metadata": {},
   "outputs": [],
   "source": [
    "cps = air_data\n",
    "cps = cps[(cps['POLLUTANT_DESCS'].astype(str).str.contains('Particulate')) | (cps['POLLUTANT_DESCS'].astype(str).str.contains('Sulfur'))]\n",
    "cps_map = cps # for mapping later...\n",
    "\n",
    "charter(cps, 'HPV_DAYZERO_DATE', \"%m-%d-%Y\", 'POLLUTANT_DESCS', \"Number of violations\", \n",
    "        \"cps_violations.csv\", \"# of Violations Related to Particulate Matter and/or Sulfur Dioxide\", \"count\")"
   ]
  },
  {
   "cell_type": "markdown",
   "metadata": {},
   "source": [
    "#### *Where* are these facilities that exceeded their PM and SO2 permits last month?\n",
    "Even if, on the whole, there are fewer exceedances, the places that are emitting more pollutants are important to track. Their neighbors are suffering more."
   ]
  },
  {
   "cell_type": "code",
   "execution_count": null,
   "metadata": {},
   "outputs": [],
   "source": [
    "mnth1 = \"0\" + str(int(mnth) + 1)\n",
    "latest = cps_map[(cps_map[\"HPV_DAYZERO_DATE\"] >= '2020-'+mnth+'-01') & (cps_map[\"HPV_DAYZERO_DATE\"] < '2020-'+mnth1+'-01')]\n",
    "\n",
    "if (len(latest.index)>0):\n",
    "    #get facility information from ECHO\n",
    "    sql = \"select FAC_NAME, AIR_IDS, FAC_LAT, FAC_LONG, FAC_PERCENT_MINORITY, CAA_QTRS_WITH_NC\" + \\\n",
    "        \" from ECHO_EXPORTER where AIR_FLAG = 'Y' \"\n",
    "    url='http://apps.tlt.stonybrook.edu/echoepa/?query='\n",
    "    data_location=url+urllib.parse.quote(sql)\n",
    "    echo_data = pd.read_csv(data_location,encoding='iso-8859-1',header = 0)\n",
    "    echo_data.set_index( 'AIR_IDS', inplace=True ) # this is a cheap join and ignores where AIR_IDS maybe multiple...\n",
    "    \n",
    "    #merge echo and air data\n",
    "    latest = latest.join(echo_data)\n",
    "    \n",
    "else:\n",
    "    print(\"Actually, there were no reporting violations for this month\")"
   ]
  },
  {
   "cell_type": "markdown",
   "metadata": {},
   "source": [
    "#### Make the map!\n",
    "The map shows us all the facilities that report emitting more than their permitted levels of PM and SO2 in the selected month."
   ]
  },
  {
   "cell_type": "code",
   "execution_count": null,
   "metadata": {},
   "outputs": [],
   "source": [
    "# Filter to remove NaNs - missing data!\n",
    "latest = latest[~(np.isnan(latest[\"FAC_LAT\"])) | ~(np.isnan(latest[\"FAC_LONG\"]))]\n",
    "map_of_facilities = mapper(latest)\n",
    "map_of_facilities"
   ]
  },
  {
   "cell_type": "markdown",
   "metadata": {},
   "source": [
    "## Water pollutant discharges\n",
    "\n",
    "*NOTE*: Because there are so many facilities that discharge into waters of the US, there's a lot of data! The following cell may take a little while to run."
   ]
  },
  {
   "cell_type": "code",
   "execution_count": null,
   "metadata": {},
   "outputs": [],
   "source": [
    "sql = \"select NPDES_ID, EXCEEDENCE_PCT, MONITORING_PERIOD_END_DATE, PARAMETER_DESC\" + \\\n",
    "    \" from NPDES_EFF_VIOLATIONS where EXCEEDENCE_PCT > 0 and MONITORING_PERIOD_END_DATE like '\"+mnth+\"/%'\"\n",
    "#NPDES_ID like '\" + my_state + \"%' and\" +\\\n",
    "#filter to facilities with pollutant exceedences\n",
    "\n",
    "url='http://apps.tlt.stonybrook.edu/echoepa/?query='\n",
    "data_location=url+urllib.parse.quote(sql)\n",
    "\n",
    "dis_data = pd.read_csv(data_location,encoding='iso-8859-1',header = 0)\n",
    "dis_data.set_index(\"NPDES_ID\", inplace=True)\n",
    "exceeds = dis_data \n",
    "exceeds"
   ]
  },
  {
   "cell_type": "markdown",
   "metadata": {},
   "source": [
    "#### Let's chart this\n",
    "Are facilities exceeding their permits more this month in 2020 than previous years? Like with air emissions and monitoring, we need to compare month-month (e.g. March 2019 to March 2020) because there is a seasonality to many discharges.\n",
    "\n",
    "The height of each bar will indicate how many pollution permits have been exceeded, while the red line will show us the average number of these for all previous years and the yellow line indicates the average for the past three years.\n",
    "\n",
    "In the second chart, the height of each bar will indicate how many *facilities* have exceeded their permits."
   ]
  },
  {
   "cell_type": "code",
   "execution_count": null,
   "metadata": {},
   "outputs": [],
   "source": [
    "charter(exceeds, 'MONITORING_PERIOD_END_DATE', \"%m/%d/%Y\", 'EXCEEDENCE_PCT', \"Number of pollution permits exceeded\", \n",
    "        \"cwa_violations_total.csv\", \"# of permit exceedances\", \"count\")\n",
    "\n",
    "facilities = exceeds.reset_index()\n",
    "facilities = facilities.groupby(['MONITORING_PERIOD_END_DATE']).agg({\"NPDES_ID\": \"nunique\"})\n",
    "facilities = facilities.reset_index()\n",
    "charter(facilities, 'MONITORING_PERIOD_END_DATE', \"%m/%d/%Y\", 'NPDES_ID', \"Number of facilities exceeding\", \n",
    "        \"cwa_violations_facilities.csv\", \"# of facilities exceeding\", \"sum\")"
   ]
  },
  {
   "cell_type": "markdown",
   "metadata": {},
   "source": [
    "#### Where are these facilities that exceeded in the most recent month?"
   ]
  },
  {
   "cell_type": "code",
   "execution_count": null,
   "metadata": {},
   "outputs": [],
   "source": [
    "mnth1 = \"0\" + str(int(mnth) + 1)\n",
    "latest = exceeds[(exceeds['MONITORING_PERIOD_END_DATE'] >= '2020-'+mnth+'-01') & (exceeds['MONITORING_PERIOD_END_DATE'] < '2020-'+mnth1+'-01')] \n",
    "\n",
    "if (len(latest.index)>0):\n",
    "    #get facility information from ECHO\n",
    "    sql = \"select FAC_NAME, NPDES_IDS, FAC_LAT, FAC_LONG, FAC_PERCENT_MINORITY, CWA_QTRS_WITH_NC\" + \\\n",
    "        \" from ECHO_EXPORTER where NPDES_FLAG = 'Y' \"\n",
    "    url='http://apps.tlt.stonybrook.edu/echoepa/?query='\n",
    "    data_location=url+urllib.parse.quote(sql)\n",
    "    echo_data = pd.read_csv(data_location,encoding='iso-8859-1',header = 0)\n",
    "    echo_data.set_index( 'NPDES_IDS', inplace=True )\n",
    "    \n",
    "    #merge echo and npdes data\n",
    "    latest = latest.join(echo_data)\n",
    "    print(latest)\n",
    "    \n",
    "else:\n",
    "    print(\"Actually, there were no reporting violations for this month\")    "
   ]
  },
  {
   "cell_type": "code",
   "execution_count": null,
   "metadata": {},
   "outputs": [],
   "source": [
    "# Filter to remove NaNs - missing data!\n",
    "latest = latest[~(np.isnan(latest[\"FAC_LAT\"])) | ~(np.isnan(latest[\"FAC_LONG\"]))]\n",
    "map_of_facilities = mapper(latest)\n",
    "map_of_facilities"
   ]
  },
  {
   "cell_type": "code",
   "execution_count": null,
   "metadata": {},
   "outputs": [],
   "source": [
    "### TBD\n",
    "### USING NPDES_DMR_FY2020 and other sources, show the breakdown by pollutant and total volume \n",
    "### (e.g. the \"excess\" mercury pollution was X lbs)"
   ]
  },
  {
   "cell_type": "code",
   "execution_count": null,
   "metadata": {},
   "outputs": [],
   "source": [
    "### Of these known violators, how many quarters in CWA compliance recently?\n",
    "### Suggests they may be bad actors who should not be let off the hook."
   ]
  },
  {
   "cell_type": "markdown",
   "metadata": {},
   "source": [
    "#### Finally, let's look at trends for just one pollutant, lead. \n",
    "Lead in our waters can have serious environmental and public health consequences."
   ]
  },
  {
   "cell_type": "code",
   "execution_count": null,
   "metadata": {},
   "outputs": [],
   "source": [
    "# CUT?\n",
    "lead = exceeds[(exceeds['PARAMETER_DESC'].astype(str).str.contains('Lead'))]\n",
    "charter(lead, 'MONITORING_PERIOD_END_DATE', \"%m/%d/%Y\", 'EXCEEDENCE_PCT', \"Number of lead pollution permits exceeded\", \n",
    "        \"cwa_violations_lead.csv\", \"# of permit exceedances-lead\", \"count\")"
   ]
  },
  {
   "cell_type": "markdown",
   "metadata": {},
   "source": [
    "## Water Quality Monitoring and Reporting\n",
    "We'll look at how facilities regulated under the Clean Water Act have altered their required monitoring practices.\n",
    "\n",
    "Run the code in the cell below, which will query our copy of the ECHO database and pull information on regulated facilities in your state.\n",
    "\n",
    "Specifically, we'll find records of facilities out of compliance - that is, violating their permits - due to \"Non-Receipt of DMR/Schedule Report\" DMR stands for Discharge Monitoring Reports, and are required by the CWA's National Pollutant Discharge Elimination System (NPDES). \n",
    "\n",
    "Not submitting these reports on schedule can lead to \"Reportable Non-Compliance\" with NPDES and CWA. According to the EPA, \"DMR values not received within 31 days of the DMR form due date result in the generation of a violation code (D80 or D90). ICIS-NPDES identifies these DMR non-receipt violations and automatically creates violation codes for the missing DMR values with monitoring requirements (D80) and missing DMR values with effluent limits (D90). EPA's data sharing policy allows states a 40-day window to report DMR values to EPA's data system; therefore, DMR values reported on time to state agencies and shared with EPA within 40 days do not contribute to permit level noncompliance status.\"\n",
    "\n",
    "In this case, \"N\" does NOT mean no - it just is a code for the kind of violation event we're interested in (non-reporting)."
   ]
  },
  {
   "cell_type": "code",
   "execution_count": null,
   "metadata": {},
   "outputs": [],
   "source": [
    "sql = \"select NPDES_ID, SCHEDULE_DATE, RNC_DETECTION_CODE\" + \\\n",
    "    \" from NPDES_PS_VIOLATIONS where RNC_DETECTION_CODE = 'N' and \" + \\\n",
    "    \" SCHEDULE_DATE like '\"+mnth+\"/%'\"\n",
    "#\" NPDES_ID like '\" + my_state + \"%'\"\n",
    "url='http://apps.tlt.stonybrook.edu/echoepa/?query='\n",
    "data_location=url+urllib.parse.quote(sql)\n",
    "\n",
    "dmr_data = pd.read_csv(data_location,encoding='iso-8859-1',header = 0)\n",
    "dmr_data.set_index(\"NPDES_ID\", inplace=True)\n",
    "dmr_data"
   ]
  },
  {
   "cell_type": "markdown",
   "metadata": {},
   "source": [
    "#### Plot this ^ !!!\n",
    "It's all well and good to have this table, but it's hard to pick out patterns from tabular data. Let's plot it as what's called a histogram in order to see what's going on.\n",
    "\n",
    "The height of each bar will indicate how many facilities were out of compliance due to missing or late reports, while the red line will show us the average number of these facilities for all previous Aprils and the yellow line indicates the average for the past three years or so."
   ]
  },
  {
   "cell_type": "code",
   "execution_count": null,
   "metadata": {},
   "outputs": [],
   "source": [
    "charter(dmr_data, 'SCHEDULE_DATE', \"%m/%d/%Y\", 'RNC_DETECTION_CODE', \"Number of missing reports\", \n",
    "        \"cwa_missing_reports.csv\", \"Total CWA Non-Compliance due to Missing or Late Reports\", \"count\")"
   ]
  },
  {
   "cell_type": "markdown",
   "metadata": {},
   "source": [
    "#### Which facilities didn't report this month?\n",
    "This will give us a good indicator of the impact of EPA's memo, which went into effect that month.\n",
    "\n",
    "First, let's get more information about those facilities."
   ]
  },
  {
   "cell_type": "code",
   "execution_count": null,
   "metadata": {},
   "outputs": [],
   "source": [
    "facilities = dmr_data.reset_index()\n",
    "facilities = facilities.groupby(['SCHEDULE_DATE']).agg({\"NPDES_ID\": \"nunique\"})\n",
    "facilities = facilities.reset_index()\n",
    "charter(facilities, 'SCHEDULE_DATE', \"%m/%d/%Y\", 'NPDES_ID', \"Number of facilities not reporting\", \n",
    "        \"cwa_missing-reports_facilities.csv\", \"# of facilities not reporting\", \"sum\")"
   ]
  },
  {
   "cell_type": "code",
   "execution_count": null,
   "metadata": {},
   "outputs": [],
   "source": [
    "mnth1 = \"0\" + str(int(mnth) + 1)\n",
    "latest = dmr_data[(dmr_data[\"SCHEDULE_DATE\"] >= '2020-'+mnth+'-01') & (dmr_data[\"SCHEDULE_DATE\"] <= '2020-'+mnth1+'-01')] \n",
    "\n",
    "if (len(latest.index)>0):\n",
    "    #get facility information from ECHO\n",
    "    sql = \"select FAC_NAME, NPDES_IDS, FAC_LAT, FAC_LONG, CWA_QTRS_WITH_NC, FAC_PERCENT_MINORITY\" + \\\n",
    "        \" from ECHO_EXPORTER where NPDES_FLAG = 'Y' \"\n",
    "    url='http://apps.tlt.stonybrook.edu/echoepa/?query='\n",
    "    data_location=url+urllib.parse.quote(sql)\n",
    "    echo_data = pd.read_csv(data_location,encoding='iso-8859-1',header = 0)\n",
    "    echo_data.set_index( 'NPDES_IDS', inplace=True )\n",
    "    \n",
    "    #merge echo and npdes data\n",
    "    latest = latest.join(echo_data)\n",
    "    print(latest)\n",
    "    \n",
    "else:\n",
    "    print(\"Actually, there were no reporting violations for this month\")    "
   ]
  },
  {
   "cell_type": "markdown",
   "metadata": {},
   "source": [
    "#### Map them!\n",
    "Now we'll map those facilities that didn't report in the selected month this year."
   ]
  },
  {
   "cell_type": "code",
   "execution_count": null,
   "metadata": {
    "scrolled": true
   },
   "outputs": [],
   "source": [
    "# Filter to remove NaNs - missing data!\n",
    "latest = latest[~(np.isnan(latest[\"FAC_LAT\"])) | ~(np.isnan(latest[\"FAC_LONG\"]))]\n",
    "map_of_facilities = mapper(latest)\n",
    "map_of_facilities"
   ]
  },
  {
   "cell_type": "code",
   "execution_count": null,
   "metadata": {},
   "outputs": [],
   "source": [
    "### Which facilities have received official EPA excuses? \n",
    "### Use NPDES_DMR_FY2020 to show the 100 or so facilities\n",
    "### What were they excused from reporting on?"
   ]
  }
 ],
 "metadata": {
  "kernelspec": {
   "display_name": "Python 3",
   "language": "python",
   "name": "python3"
  },
  "language_info": {
   "codemirror_mode": {
    "name": "ipython",
    "version": 3
   },
   "file_extension": ".py",
   "mimetype": "text/x-python",
   "name": "python",
   "nbconvert_exporter": "python",
   "pygments_lexer": "ipython3",
   "version": "3.7.7"
  }
 },
 "nbformat": 4,
 "nbformat_minor": 2
}
