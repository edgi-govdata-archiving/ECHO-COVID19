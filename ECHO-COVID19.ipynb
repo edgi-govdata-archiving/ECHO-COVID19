{
 "cells": [
  {
   "cell_type": "markdown",
   "metadata": {
    "colab_type": "text",
    "id": "Ylalhm0wbt2p"
   },
   "source": [
    "| ![EEW logo](https://github.com/edgi-govdata-archiving/EEW-Image-Assets/blob/master/Jupyter%20instructions/eew.jpg?raw=true) | ![EDGI logo](https://github.com/edgi-govdata-archiving/EEW-Image-Assets/blob/master/Jupyter%20instructions/edgi.png?raw=true) |\n",
    "|---|---|\n",
    "\n",
    "#### This notebook is licensed under GPL 3.0. Please visit our Github repo for more information: https://github.com/edgi-govdata-archiving/ECHO-COVID19\n",
    "#### The notebook was collaboratively authored by EDGI following our authorship protocol: https://docs.google.com/document/d/1CtDN5ZZ4Zv70fHiBTmWkDJ9mswEipX6eCYrwicP66Xw/\n",
    "#### For more information about this project, visit https://www.environmentalenforcementwatch.org/"
   ]
  },
  {
   "cell_type": "markdown",
   "metadata": {
    "colab_type": "text",
    "id": "Nin_JHBebt2t"
   },
   "source": [
    "# Tracking EPA's COVID-19 non-enforcement policy\n",
    "In late March 2020, EPA released a memo announcing that it would not penalize regulated industries that fail to meet their monitoring and reporting requirements due to COVID-19. Specifically EPA has said that it:\n",
    "\n",
    "> \"is not seeking penalties for noncompliance only in circumstances that involve routine monitoring and reporting requirements, if, on a case-by-case basis, EPA agrees that such noncompliance was caused by the COVID-19 pandemic.\"\n",
    "\n",
    "This may have a number of public and environmental health impacts if facilities respond by increasing their emissions and discharges. Our response to this memo states that the EPA’s COVID-19 leniency is [a “free pass to pollute.](https://envirodatagov.org/epas-covid-19-leniency-is-a-free-pass-to-pollute/)”\n",
    "\n",
    "Using this notebook, you can track how facilities' releases—as well as monitoring and reporting—of air and water hazards has changed in your state over the past few months, compared to previous years. \n",
    "\n",
    "There are three scenarios we may see playing out:\n",
    "\n",
    "_Monitoring and reporting violations_\n",
    "- 1. **Facilities that do *not* report** (we can track this)....**but do still meet their permit limits** (yet we can't know this specifically, precisely because they didn't report)\n",
    "- 2. **Facilities that do *not* report** (we can track this)....**and actually exceed their limits** (yet we can't know this specifically, precisely because they didn't report)\n",
    "\n",
    "_Environmental violations_\n",
    "- 3. **Facilities that do meet their reporting obligations** BUT they **report having exceeded their permitted limits**. In this case, we can also track whether EPA takes any enforcement action.\n",
    "\n",
    "We may also see facilities that both meet their reporting obligations and do not exceed their permitted limits. These facilities may still pose a risk to community and environmental health but are not the focus of this investigation. Please see…\n",
    "\n",
    "This investigation relies upon data from the EPA’s Enforcement & Compliance History Online (ECHO), the primary open data portal supplied by the EPA, and a major basis for EPA’s decisions around enforcement. Please see EPA’s “About the Data” page for known limitations on the data’s quality and completeness. Link to data source (https://echo.epa.gov/tools/data-downloads#downloads) and limitations (https://echo.epa.gov/resources/echo-data/about-the-data)\n",
    "\n",
    "Organization of this notebook:\n",
    " - Air emissions\n",
    " - Water discharges from major sources \n",
    " - Water quality monitoring and reporting violations\n",
    "---"
   ]
  },
  {
   "cell_type": "markdown",
   "metadata": {
    "colab_type": "text",
    "id": "xwpXPiNLbt2x"
   },
   "source": [
    "## How to Run this Notebook\n",
    "* If you click on a gray **code** cell, a little “play button” arrow appears on the left. If you click the play button, it will run the code in that cell (“**running** a cell”). The button will animate. When the animation stops, the cell has finished running.\n",
    "![Where to click to run the cell](https://github.com/edgi-govdata-archiving/EEW-Image-Assets/blob/master/Jupyter%20instructions/pressplay.JPG?raw=true)\n",
    "* You may get a warning that the notebook was not authored by Google. We know, we authored them! It’s okay. Click “Run Anyway” to continue. \n",
    "![Error Message](https://github.com/edgi-govdata-archiving/EEW-Image-Assets/blob/master/Jupyter%20instructions/warning-message.JPG?raw=true)\n",
    "* Run all of the cells in a Notebook to make a complete report. Please feel free to look at and **learn about each result as you create it**!\n",
    "\n",
    "---"
   ]
  },
  {
   "cell_type": "markdown",
   "metadata": {
    "colab_type": "text",
    "id": "czia5t5ebt20"
   },
   "source": [
    "## Setup\n",
    "Here we load some helper code to get us going."
   ]
  },
  {
   "cell_type": "code",
   "execution_count": null,
   "metadata": {
    "colab": {},
    "colab_type": "code",
    "id": "vF3iTaeCbt23"
   },
   "outputs": [],
   "source": [
    "!git clone https://github.com/edgi-govdata-archiving/ECHO_modules.git\n",
    "!git clone https://github.com/edgi-govdata-archiving/ECHO-COVID19.git\n",
    "    \n",
    "# Import code libraries\n",
    "import urllib.parse\n",
    "import pandas as pd\n",
    "import numpy as np\n",
    "import matplotlib.pyplot as plt\n",
    "%matplotlib inline\n",
    "import requests\n",
    "import csv\n",
    "import datetime\n",
    "import folium\n",
    "from folium.plugins import FastMarkerCluster\n",
    "import ipywidgets as widgets"
   ]
  },
  {
   "cell_type": "code",
   "execution_count": null,
   "metadata": {
    "colab": {},
    "colab_type": "code",
    "id": "zk7oXI6ubt3L"
   },
   "outputs": [],
   "source": [
    "%run ECHO-COVID19/utilities.py\n",
    "%run ECHO_modules/DataSet.py"
   ]
  },
  {
   "cell_type": "markdown",
   "metadata": {
    "colab_type": "text",
    "id": "su7_wvKWbt3Z"
   },
   "source": [
    "## Pick a month\n",
    "We'll look at trends for the month you select across the past few decades of pollution trends"
   ]
  },
  {
   "cell_type": "code",
   "execution_count": null,
   "metadata": {
    "colab": {},
    "colab_type": "code",
    "id": "cBkHsLPtbt3c"
   },
   "outputs": [],
   "source": [
    "# Make a dropdown menu showing each month\n",
    "months_list=[\"January\",\"February\",\"March\",\"April\",\"May\",\"June\",\"July\",\"August\",\"September\",\"October\",\"November\",\"December\"]\n",
    "w=widgets.Dropdown(\n",
    "    options=months_list,\n",
    "    value = \"March\",\n",
    "    description='Month:'\n",
    ")\n",
    "# Display the widget so you can select the month\n",
    "display(w)"
   ]
  },
  {
   "cell_type": "code",
   "execution_count": null,
   "metadata": {
    "colab": {},
    "colab_type": "code",
    "id": "TIOb4_Bqbt3n"
   },
   "outputs": [],
   "source": [
    "# Assign the month you chose to the variable “mnth”\n",
    "mnth_name=w.value\n",
    "mnth = \"{0:0=2d}\".format(months_list.index(mnth_name) + 1) # Converts month name to 2-digit string number"
   ]
  },
  {
   "cell_type": "markdown",
   "metadata": {
    "colab_type": "text",
    "id": "TUf6AQfPbt3z"
   },
   "source": [
    "## Are facilities monitoring their air emissions?\n",
    "\"Stack tests\" involve measuring the volume of pollutants coming out of the facility's \"smokestack\".\n",
    "\n",
    "The following cell will grab EPA data on facility stack tests for every one of the selected months on record (up to 50 years ago). Some pollutant releases may be seasonal, so by looking only at the selected month, we can account for this variation and ensure an apples-to-apples comparison.\n",
    "\n",
    "In addition, we will only look at data post-2000, as EPA notes that its data systems prior to that date are incomplete and hence \"unknown.\""
   ]
  },
  {
   "cell_type": "code",
   "execution_count": null,
   "metadata": {
    "colab": {},
    "colab_type": "code",
    "id": "rGzitWnObt33"
   },
   "outputs": [],
   "source": [
    "# Use SQL to search for and select the data about air stack tests for the month you chose over the past 20 years\n",
    "sql = \"select * from `ICIS-AIR_STACK_TESTS`\"\n",
    "\n",
    "# Download the data from that URL\n",
    "full_stack_data = get_data( sql, 'pgm_sys_id' )\n",
    "full_stack_data[\"ACTUAL_END_DATE\"]= pd.to_datetime(full_stack_data[\"ACTUAL_END_DATE\"], format=\"%m/%d/%Y\", errors = 'coerce') \n",
    "full_stack_data['month'] = pd.DatetimeIndex(full_stack_data['ACTUAL_END_DATE']).month\n",
    "\n",
    "stack_data = full_stack_data[ full_stack_data['month'] == int(mnth) ].copy()\n",
    "\n",
    "# This is your data!\n",
    "stack_data"
   ]
  },
  {
   "cell_type": "markdown",
   "metadata": {
    "colab_type": "text",
    "id": "fsvtM1oKbt4E"
   },
   "source": [
    "#### Chart stack tests\n",
    "\n",
    "The height of each bar will indicate how many tests there were, while the orange line will show us the average number of these over time and the pink line indicates the average for the past three years."
   ]
  },
  {
   "cell_type": "code",
   "execution_count": null,
   "metadata": {
    "colab": {},
    "colab_type": "code",
    "id": "BU6JdQ6vbt4F"
   },
   "outputs": [],
   "source": [
    "charter(stack_data, 'ACTUAL_END_DATE', \"%m/%d/%Y\", mnth, mnth_name, 'STATE_EPA_FLAG', \n",
    "        \"Number of stack tests\", \"air_monitoring.csv\", \"# of pollutants stack-tested\", \n",
    "        \"count\")"
   ]
  },
  {
   "cell_type": "markdown",
   "metadata": {
    "colab_type": "text",
    "id": "evjP5lHIbt4O"
   },
   "source": [
    "### Which facilities should have been conducting stack tests? \n",
    "Of those facilities that have reported stack tests in the past 20 years, we will look at the worst - the 25% that reported the fewest stack tests."
   ]
  },
  {
   "cell_type": "code",
   "execution_count": null,
   "metadata": {
    "colab": {},
    "colab_type": "code",
    "id": "8Pq02Emlbt4Q"
   },
   "outputs": [],
   "source": [
    "# Select the data about air stack tests over the past 20 years\n",
    "\n",
    "stack_data = full_stack_data[(full_stack_data[\"ACTUAL_END_DATE\"] >= '01/01/2001')]\n",
    "\n",
    "# This is your data!\n",
    "stack_data"
   ]
  },
  {
   "cell_type": "code",
   "execution_count": null,
   "metadata": {
    "colab": {},
    "colab_type": "code",
    "id": "5mmHDM1xbt4Y"
   },
   "outputs": [],
   "source": [
    "count = stack_data.groupby([stack_data.index])[[\"ACTUAL_END_DATE\"]].agg(\"count\") / 19 # Per year inspection rate.\n",
    "quartile = count.describe().loc[\"25%\", \"ACTUAL_END_DATE\"] # Calculate quartile in terms of inspection rate.\n",
    "worst = count[(count[\"ACTUAL_END_DATE\"] <= quartile)] # The 25% of facilities inspected the least (likely once in 19 years)\n",
    "print(\"The 25% of facilities that reported stack tests the least between 2001 and 2020 only reported \"+str(quartile*19)+\" time during that period\")"
   ]
  },
  {
   "cell_type": "code",
   "execution_count": null,
   "metadata": {
    "colab": {},
    "colab_type": "code",
    "id": "ZymAFxU7bt4h"
   },
   "outputs": [],
   "source": [
    "# Get everything we will need from ECHO_EXPORTER in a single DB query.\n",
    "# We can then use the full dataframe to specialize views of it.\n",
    "full_echo_data = None\n",
    "column_mapping = {\n",
    "    \"REGISTRY_ID\": str,\n",
    "    \"FAC_NAME\": str,\n",
    "    \"FAC_LAT\": float,\n",
    "    \"FAC_LONG\": float,\n",
    "    \"FAC_PERCENT_MINORITY\": float,\n",
    "    \"AIR_IDS\": str,\n",
    "    \"NPDES_IDS\": str,\n",
    "    \"CAA_QTRS_WITH_NC\": float,\n",
    "    \"CWA_QTRS_WITH_NC\": float,\n",
    "    \"FAC_QTRS_WITH_NC\": float,\n",
    "    \"DFR_URL\": str,\n",
    "    \"AIR_FLAG\": str,\n",
    "    \"NPDES_FLAG\": str,\n",
    "    \"GHG_CO2_RELEASES\": float\n",
    "}\n",
    "# not currently using: \"FAC_INFORMAL_COUNT\", \"FAC_FORMAL_ACTION_COUNT\"\n",
    "column_names = list( column_mapping.keys() )\n",
    "columns_string = ','.join( column_names )\n",
    "sql = \"select \" + columns_string + \" from ECHO_EXPORTER where AIR_FLAG = 'Y' or NPDES_FLAG = 'Y'\"\n",
    "try:\n",
    "    # Don't index.\n",
    "    full_echo_data = get_data( sql )\n",
    "except pd.errors.EmptyDataError:\n",
    "    print(\"\\nThere are no EPA facilities for this query.\\n\")"
   ]
  },
  {
   "cell_type": "markdown",
   "metadata": {
    "colab_type": "text",
    "id": "cL1AIX52bt4r"
   },
   "source": [
    "#### Let's map where these non-stack testers are."
   ]
  },
  {
   "cell_type": "code",
   "execution_count": null,
   "metadata": {
    "colab": {},
    "colab_type": "code",
    "id": "KAPQAoHXbt4u"
   },
   "outputs": [],
   "source": [
    "# Pull out Ids to match ECHO_EXPORTER\n",
    "ids = worst.index.unique()\n",
    "\n",
    "if (len(worst.index)>0):\n",
    "    # Get facility information from ECHO\n",
    "    air_echo_data = full_echo_data[ full_echo_data['AIR_FLAG'] == 'Y' ].copy().reset_index( drop=True )\n",
    "    # Filter ECHO EXPORTER data to rows containing pgm_sys_ids from latest  \n",
    "    idxs=list()\n",
    "    for index,value in air_echo_data[\"AIR_IDS\"].items():\n",
    "        for i in value.split():\n",
    "            if i in ids:\n",
    "                idxs.append(index)\n",
    "    air_echo_data = air_echo_data.iloc[idxs,:]\n",
    "    air_echo_data.set_index( 'AIR_IDS', inplace=True ) \n",
    "                               \n",
    "    # Merge ECHO and CAA data\n",
    "    worst = worst.join(air_echo_data)\n",
    "    \n",
    "else:\n",
    "    print(\"A problem occurred...\")"
   ]
  },
  {
   "cell_type": "code",
   "execution_count": null,
   "metadata": {
    "colab": {},
    "colab_type": "code",
    "id": "Eslan-5wbt43"
   },
   "outputs": [],
   "source": [
    "missing = worst[(np.isnan(worst[\"FAC_LAT\"])) | (np.isnan(worst[\"FAC_LONG\"]))]\n",
    "count = missing.index.unique()\n",
    "print(\"There are \"+str(len(count))+\" facilities we can't map because they have incomplete data\")\n",
    "# Filter to remove NaNs - missing data!\n",
    "worst = worst[~(np.isnan(worst[\"FAC_LAT\"])) | ~(np.isnan(worst[\"FAC_LONG\"]))]\n",
    "print(\"There are \"+str(len(worst))+\" facilities mapped below.\")\n",
    "map_of_facilities = mapper(worst)\n",
    "map_of_facilities"
   ]
  },
  {
   "cell_type": "markdown",
   "metadata": {
    "colab_type": "text",
    "id": "e0vTgmHwbt5D"
   },
   "source": [
    "## Are facilities being inspected?\n",
    "Stack tests may not be happening, but regulators could go in and inspect facilities.\n",
    "#### Get the data"
   ]
  },
  {
   "cell_type": "code",
   "execution_count": null,
   "metadata": {
    "colab": {},
    "colab_type": "code",
    "id": "1b8rY44dbt5E",
    "scrolled": false
   },
   "outputs": [],
   "source": [
    "sql = \"select * from `ICIS-AIR_FCES_PCES` where ACTUAL_END_DATE like '\"+mnth+\"-%'\"\n",
    "\n",
    "eval_data = get_data( sql, \"PGM_SYS_ID\" )\n",
    "eval_data"
   ]
  },
  {
   "cell_type": "markdown",
   "metadata": {
    "colab_type": "text",
    "id": "meXkjxG-bt5M"
   },
   "source": [
    "#### Chart inspections"
   ]
  },
  {
   "cell_type": "code",
   "execution_count": null,
   "metadata": {
    "colab": {},
    "colab_type": "code",
    "id": "Hk2wmwTgbt5N"
   },
   "outputs": [],
   "source": [
    "charter(eval_data, 'ACTUAL_END_DATE', \"%m-%d-%Y\", mnth, mnth_name, 'ACTIVITY_TYPE_DESC', \n",
    "        \"Number of inspections\", \"caa_inspections.csv\", \"# of inspections\", \"count\")"
   ]
  },
  {
   "cell_type": "markdown",
   "metadata": {
    "colab_type": "text",
    "id": "RMjxybzbbt5X"
   },
   "source": [
    "## What have facilities reported releasing into the air?\n",
    "Air pollution is associated with greater virulence of COVID-19. What are facilities releasing into the air in spite of this greater risk to human life?\n",
    "\n",
    "We'll start by looking at those facilities that were found to be in violation for their emissions."
   ]
  },
  {
   "cell_type": "code",
   "execution_count": null,
   "metadata": {
    "colab": {},
    "colab_type": "code",
    "id": "z1N2CuKTbt5Z"
   },
   "outputs": [],
   "source": [
    "sql = \"select * from `ICIS-AIR_VIOLATION_HISTORY` where HPV_DAYZERO_DATE like '\"+mnth+\"-%'\"\n",
    "\n",
    "air_data = get_data( sql, \"pgm_sys_id\" )\n",
    "\n",
    "# Remove \"FACIL\" violations, which are paperwork violations according to: https://19january2017snapshot.epa.gov/sites/production/files/2013-10/documents/frvmemo.pdf\n",
    "air_data = air_data.loc[(air_data[\"POLLUTANT_DESCS\"]!=\"FACIL\")]\n",
    "air_data"
   ]
  },
  {
   "cell_type": "markdown",
   "metadata": {
    "colab_type": "text",
    "id": "DsTIfj8ibt5g"
   },
   "source": [
    "#### Chart emissions violations\n",
    "The height of each bar indicates how many emissions violations there have been. The orange line shows the average number of emissions violations for all previous years, and the pink line indicates the average for the past three years."
   ]
  },
  {
   "cell_type": "code",
   "execution_count": null,
   "metadata": {
    "colab": {},
    "colab_type": "code",
    "id": "tWeZ2Oavbt5i"
   },
   "outputs": [],
   "source": [
    "charter(air_data, 'HPV_DAYZERO_DATE', \"%m-%d-%Y\", mnth, mnth_name, 'ENF_RESPONSE_POLICY_CODE', \n",
    "        \"Number of violations\", \"air_violations_total.csv\", \"# of Clean Air Act violations\", \"count\")\n",
    "\n",
    "facilities = air_data.reset_index()\n",
    "facilities = facilities.groupby(['HPV_DAYZERO_DATE']).agg({\"pgm_sys_id\": \"nunique\"})\n",
    "facilities = facilities.reset_index()\n",
    "charter(facilities, 'HPV_DAYZERO_DATE', \"%m/%d/%Y\", mnth, mnth_name, 'pgm_sys_id', \"Number of facilities exceeding\", \n",
    "        \"caa_violations_facilities.csv\", \"# of facilities exceeding\", \"sum\")"
   ]
  },
  {
   "cell_type": "markdown",
   "metadata": {
    "colab_type": "text",
    "id": "-efDClP3bt5q"
   },
   "source": [
    "#### Let's focus on the selected month and this year (2020) and break it down by type of pollutant whose levels were exceeded."
   ]
  },
  {
   "cell_type": "code",
   "execution_count": null,
   "metadata": {
    "colab": {},
    "colab_type": "code",
    "id": "edUBVNhDbt5r"
   },
   "outputs": [],
   "source": [
    "mnth1 = \"0\" + str(int(mnth) + 1)\n",
    "now = air_data[(air_data[\"HPV_DAYZERO_DATE\"] >= '2020-'+mnth+'-01') & (air_data[\"HPV_DAYZERO_DATE\"] < '2020-'+mnth1+'-01')]\n",
    "\n",
    "pollutants = now.groupby(['POLLUTANT_DESCS'])[['ACTIVITY_ID']].count()\n",
    "pollutants = pollutants.rename(columns={'ACTIVITY_ID': \"Violations\"})\n",
    "pollutants = pollutants.sort_values(by='Violations', ascending=False)\n",
    "fig = plt.figure(1, figsize=(20,20))\n",
    "ax = fig.add_subplot(111)\n",
    "wedges, labels, autopct = ax.pie(pollutants[\"Violations\"], labels = pollutants.index, autopct='%1.1f%%', radius = 10);#, textprops={'fontsize': 72});\n",
    "for pos,lab in enumerate(labels):\n",
    "    if pos < 10:\n",
    "        lab.set_fontsize(96)"
   ]
  },
  {
   "cell_type": "markdown",
   "metadata": {
    "colab_type": "text",
    "id": "vn6C9xERbt5z"
   },
   "source": [
    "#### Where are these facilities that exceeded their permits?\n",
    "Even if, on the whole, there are fewer exceedances, the places that are emitting more pollutants are important to track. Their neighbors are suffering more."
   ]
  },
  {
   "cell_type": "code",
   "execution_count": null,
   "metadata": {
    "colab": {},
    "colab_type": "code",
    "id": "9OU5w9qEbt50"
   },
   "outputs": [],
   "source": [
    "mnth1 = \"0\" + str(int(mnth) + 1)\n",
    "latest = air_data[(air_data[\"HPV_DAYZERO_DATE\"] >= '2020-'+mnth+'-01') & (air_data[\"HPV_DAYZERO_DATE\"] < '2020-'+mnth1+'-01')]\n",
    "\n",
    "# Pull out Ids to match ECHO_EXPORTER\n",
    "ids = latest.index.unique()\n",
    "\n",
    "if (len(latest.index)>0):\n",
    "    # Get facility information from ECHO\n",
    "    air_echo_data = full_echo_data[ full_echo_data['AIR_FLAG'] == 'Y' ].copy().reset_index( drop=True )\n",
    "    # Filter ECHO EXPORTER data to rows containing pgm_sys_ids from latest  \n",
    "    idxs=list()\n",
    "    for index,value in air_echo_data[\"AIR_IDS\"].items():\n",
    "        for i in value.split():\n",
    "            if i in ids:\n",
    "                idxs.append(index)\n",
    "    air_echo_data = air_echo_data.iloc[idxs,:]\n",
    "    air_echo_data.set_index( 'AIR_IDS', inplace=True ) \n",
    "                               \n",
    "    # Merge ECHO and CAA data\n",
    "    latest = latest.join(air_echo_data)\n",
    "    \n",
    "else:\n",
    "    print(\"Actually, there were no permit exceedences for %s\" %(mnth_name))"
   ]
  },
  {
   "cell_type": "markdown",
   "metadata": {
    "colab_type": "text",
    "id": "NN8KgwhAbt57"
   },
   "source": [
    "#### Make the map!\n",
    "The map shows us all the facilities that report emitting more than their permitted levels in the selected month."
   ]
  },
  {
   "cell_type": "code",
   "execution_count": null,
   "metadata": {
    "colab": {},
    "colab_type": "code",
    "id": "41riiqKxbt58"
   },
   "outputs": [],
   "source": [
    "missing = latest[(np.isnan(latest[\"FAC_LAT\"])) | (np.isnan(latest[\"FAC_LONG\"]))]\n",
    "count = missing.index.unique()\n",
    "print(\"There are \"+str(len(count))+\" facilities we can't map because they have incomplete data\")\n",
    "# Filter to remove NaNs - missing data!\n",
    "latest = latest[~(np.isnan(latest[\"FAC_LAT\"])) | ~(np.isnan(latest[\"FAC_LONG\"]))]\n",
    "print(\"There are \"+str(len(latest))+\" facilities mapped below.\")\n",
    "map_of_facilities = mapper(latest)\n",
    "map_of_facilities"
   ]
  },
  {
   "cell_type": "markdown",
   "metadata": {
    "colab_type": "text",
    "id": "SXSGxMQhbt6E"
   },
   "source": [
    "#### Of these known violators, how many quarters have they spent in non-compliance recently?\n",
    "These may be habitually \"bad actors\" who should not be let off the hook (but likely will be given EPA's non-enforcement policy)"
   ]
  },
  {
   "cell_type": "code",
   "execution_count": null,
   "metadata": {
    "colab": {},
    "colab_type": "code",
    "id": "yhs7hShhbt6F"
   },
   "outputs": [],
   "source": [
    "mnth1 = \"0\" + str(int(mnth) + 1)\n",
    "latest = air_data[(air_data[\"HPV_DAYZERO_DATE\"] >= '2020-'+mnth+'-01') & (air_data[\"HPV_DAYZERO_DATE\"] < '2020-'+mnth1+'-01')]\n",
    "\n",
    "# Pull out Ids to match ECHO_EXPORTER\n",
    "ids = latest.index.unique()\n",
    "\n",
    "latest = latest.join(air_echo_data)\n",
    "\n",
    "bad_actors = latest.groupby(latest.index)[[\"CAA_QTRS_WITH_NC\"]].mean()\n",
    "bad_actors = bad_actors[~(np.isnan(bad_actors[\"CAA_QTRS_WITH_NC\"]))]\n",
    "bad_actors[\"CAA_QTRS_WITH_NC\"] = (bad_actors[\"CAA_QTRS_WITH_NC\"]/12)*100\n",
    "bad_actors[\"CAA_QTRS_WITH_NC\"].median()\n",
    "plt.hist(bad_actors[\"CAA_QTRS_WITH_NC\"], density=False, bins=10);\n",
    "plt.ylabel('Number of facilities')\n",
    "plt.xlabel('Percent of the last 12 quarters non-compliant with the Clean Air Act');"
   ]
  },
  {
   "cell_type": "markdown",
   "metadata": {
    "colab_type": "text",
    "id": "bevtiFu2bt6M"
   },
   "source": [
    "---"
   ]
  },
  {
   "cell_type": "markdown",
   "metadata": {
    "colab_type": "text",
    "id": "C6ntT917bt6N"
   },
   "source": [
    "## What are facilities releasing into the water?\n",
    "\n",
    "*NOTE*: Because there are so many facilities that discharge into waters of the US, there's a lot of data! The following cell may take a little while to run."
   ]
  },
  {
   "cell_type": "code",
   "execution_count": null,
   "metadata": {
    "colab": {},
    "colab_type": "code",
    "id": "FmsI5gJAbt6P"
   },
   "outputs": [],
   "source": [
    "# Find facilities with pollutant exceedences\n",
    "sql = \"select NPDES_ID, EXCEEDENCE_PCT, MONITORING_PERIOD_END_DATE, PARAMETER_DESC\" + \\\n",
    "    \" from NPDES_EFF_VIOLATIONS where EXCEEDENCE_PCT > 0 and MONITORING_PERIOD_END_DATE like '\"+mnth+\"/%'\"\n",
    "\n",
    "dis_data = get_data( sql, \"NPDES_ID\" )\n",
    "exceeds = dis_data \n",
    "exceeds"
   ]
  },
  {
   "cell_type": "markdown",
   "metadata": {
    "colab_type": "text",
    "id": "xsPpHdpIbt6W"
   },
   "source": [
    "#### Chart Clean Water Act exceedances\n",
    "Are facilities exceeding their permits more this month in 2020 than previous years? Like with air emissions and monitoring, we need to compare month-month (e.g. March 2019 to March 2020) because there is a seasonality to many discharges.\n",
    "\n",
    "The height of each bar will indicate how many pollution permits have been exceeded, while the orange line will show us the average number of these for all previous years and the pink line indicates the average for the past three years.\n",
    "\n",
    "In the second chart, the height of each bar will indicate how many *facilities* have exceeded their permits."
   ]
  },
  {
   "cell_type": "code",
   "execution_count": null,
   "metadata": {
    "colab": {},
    "colab_type": "code",
    "id": "HbGoJLNybt6X"
   },
   "outputs": [],
   "source": [
    "charter(exceeds, 'MONITORING_PERIOD_END_DATE', \"%m/%d/%Y\", mnth, mnth_name, 'EXCEEDENCE_PCT', \n",
    "        \"Number of pollution permits exceeded\", \"cwa_violations_total.csv\", \n",
    "        \"# of permit exceedances\", \"count\")\n",
    "\n",
    "facilities = exceeds.reset_index()\n",
    "facilities = facilities.groupby(['MONITORING_PERIOD_END_DATE']).agg({\"NPDES_ID\": \"nunique\"})\n",
    "facilities = facilities.reset_index()\n",
    "charter(facilities, 'MONITORING_PERIOD_END_DATE', \"%m/%d/%Y\", mnth, mnth_name,  \n",
    "        'NPDES_ID', \"Number of facilities exceeding\", \"cwa_violations_facilities.csv\", \n",
    "        \"# of facilities exceeding\", \"sum\")"
   ]
  },
  {
   "cell_type": "markdown",
   "metadata": {
    "colab_type": "text",
    "id": "yYY4oe-cbt6g"
   },
   "source": [
    "#### Let's look at the selected month and this year (2020) and break it down by type of pollutant.\n",
    "That is, we're going to zoom in on the rightmost bar in the bar charts above."
   ]
  },
  {
   "cell_type": "code",
   "execution_count": null,
   "metadata": {
    "colab": {},
    "colab_type": "code",
    "id": "y0bT4icNbt6j"
   },
   "outputs": [],
   "source": [
    "mnth1 = \"0\" + str(int(mnth) + 1)\n",
    "now = exceeds[(exceeds['MONITORING_PERIOD_END_DATE'] >= '2020-'+mnth+'-01') & (exceeds['MONITORING_PERIOD_END_DATE'] < '2020-'+mnth1+'-01')] \n",
    "\n",
    "pollutants = now.groupby(['PARAMETER_DESC'])[['MONITORING_PERIOD_END_DATE']].count()\n",
    "pollutants = pollutants.rename(columns={'MONITORING_PERIOD_END_DATE': \"Violations\"})\n",
    "pollutants = pollutants.sort_values(by='Violations', ascending=False)\n",
    "fig = plt.figure(1, figsize=(20,20))\n",
    "ax = fig.add_subplot(111)\n",
    "wedges, labels, autopct = ax.pie(pollutants[\"Violations\"], labels = pollutants.index, autopct='%1.1f%%', radius = 10);#, textprops={'fontsize': 72});\n",
    "for pos,lab in enumerate(labels):\n",
    "    if pos < 10:\n",
    "        lab.set_fontsize(96)"
   ]
  },
  {
   "cell_type": "markdown",
   "metadata": {
    "colab_type": "text",
    "id": "1prvF8MCbt6u"
   },
   "source": [
    "#### Where are the facilities that are currently exceeding their Clean Water Act emissions?"
   ]
  },
  {
   "cell_type": "code",
   "execution_count": null,
   "metadata": {
    "colab": {},
    "colab_type": "code",
    "id": "aqqd8igzbt6u"
   },
   "outputs": [],
   "source": [
    "mnth1 = \"0\" + str(int(mnth) + 1)\n",
    "latest = exceeds[(exceeds['MONITORING_PERIOD_END_DATE'] >= '2020-'+mnth+'-01') & (exceeds['MONITORING_PERIOD_END_DATE'] < '2020-'+mnth1+'-01')] \n",
    "\n",
    "# Pull out Ids to match ECHO_EXPORTER\n",
    "ids = latest.index.unique()\n",
    "\n",
    "if (len(latest.index)>0):\n",
    "    # Get facility information from ECHO\n",
    "    water_echo_data = full_echo_data[ full_echo_data['NPDES_FLAG'] == 'Y' ].copy().reset_index( drop=True )\n",
    "    # Filter ECHO EXPORTER data to rows containing pgm_sys_ids from latest  \n",
    "    idxs=list()\n",
    "    for index,value in water_echo_data[\"NPDES_IDS\"].items():\n",
    "        for i in value.split():\n",
    "            if i in ids:\n",
    "                idxs.append(index)\n",
    "    water_echo_data = water_echo_data.iloc[idxs,:]\n",
    "    water_echo_data.set_index( 'NPDES_IDS', inplace=True )\n",
    "    \n",
    "    # Merge ECHO and NPDES data\n",
    "    latest = latest.join(water_echo_data)\n",
    "    print(latest)\n",
    "    \n",
    "else:\n",
    "    print(\"Actually, there were no reporting violations for %s\" %(mnth_name))    "
   ]
  },
  {
   "cell_type": "code",
   "execution_count": null,
   "metadata": {
    "colab": {},
    "colab_type": "code",
    "id": "Sv5P-Dd8bt6z"
   },
   "outputs": [],
   "source": [
    "missing = latest[(np.isnan(latest[\"FAC_LAT\"])) | (np.isnan(latest[\"FAC_LONG\"]))]\n",
    "count = missing.index.unique()\n",
    "print(\"There are \"+str(len(count))+\" facilities we can't map because they have incomplete data\")\n",
    "latest = latest[~(np.isnan(latest[\"FAC_LAT\"])) | ~(np.isnan(latest[\"FAC_LONG\"]))] # Filter to remove NaNs - missing data!\n",
    "print(\"There are \"+str(len(latest))+\" facilities mapped below.\")\n",
    "map_of_facilities = mapper(latest)\n",
    "map_of_facilities"
   ]
  },
  {
   "cell_type": "markdown",
   "metadata": {
    "colab_type": "text",
    "id": "lyFNeT6obt65"
   },
   "source": [
    "#### Of these known violators, how many quarters have they spent in non-compliance recently?\n",
    "These may be habitually \"bad actors\" who should not be let off the hook (but likely will be given EPA's non-enforcement policy)"
   ]
  },
  {
   "cell_type": "code",
   "execution_count": null,
   "metadata": {
    "colab": {},
    "colab_type": "code",
    "id": "6G43Lhz8bt66"
   },
   "outputs": [],
   "source": [
    "mnth1 = \"0\" + str(int(mnth) + 1)\n",
    "latest = exceeds[(exceeds['MONITORING_PERIOD_END_DATE'] >= '2020-'+mnth+'-01') & (exceeds['MONITORING_PERIOD_END_DATE'] < '2020-'+mnth1+'-01')] \n",
    "\n",
    "# Merge ECHO and NPDES data\n",
    "latest = latest.join(water_echo_data)\n",
    "\n",
    "bad_actors = latest.groupby(latest.index)[[\"CWA_QTRS_WITH_NC\"]].mean()\n",
    "bad_actors = bad_actors[~(np.isnan(bad_actors[\"CWA_QTRS_WITH_NC\"]))]\n",
    "bad_actors[\"CWA_QTRS_WITH_NC\"] = (bad_actors[\"CWA_QTRS_WITH_NC\"]/12)*100\n",
    "bad_actors[\"CWA_QTRS_WITH_NC\"].median()\n",
    "plt.hist(bad_actors[\"CWA_QTRS_WITH_NC\"], density=False, bins=10);\n",
    "plt.ylabel('Number of facilities')\n",
    "plt.xlabel('Percent of the last 12 quarters non-compliant with the Clean Water Act');"
   ]
  },
  {
   "cell_type": "markdown",
   "metadata": {
    "colab_type": "text",
    "id": "knpH1WVybt7D"
   },
   "source": [
    "## Are facilities monitoring and reporting water quality?\n",
    "We'll look at how facilities regulated under the Clean Water Act have altered their required monitoring practices.\n",
    "\n",
    "Run the code in the cell below, which will query our copy of the ECHO database and pull information on regulated facilities.\n",
    "\n",
    "Specifically, we'll find records of facilities violating their permits due to \"Non-Receipt of DMR (Discharge Monitoring Reports)/Schedule Report\" and are required by the CWA's National Pollutant Discharge Elimination System (NPDES).\n",
    "\n",
    "Not submitting these reports on schedule can lead to \"Reportable Non-Compliance\" with NPDES and CWA. According to the EPA, \"DMR values not received within 31 days of the DMR form due date result in the generation of a violation code (D80 or D90). ICIS-NPDES identifies these DMR non-receipt violations and automatically creates violation codes for the missing DMR values with monitoring requirements (D80) and missing DMR values with effluent limits (D90). EPA's data sharing policy allows states a 40-day window to report DMR values to EPA's data system; therefore, DMR values reported on time to state agencies and shared with EPA within 40 days do not contribute to permit level noncompliance status.\"\n",
    "\n",
    "In this case, \"N\" does NOT mean no - it just is a code for the kind of violation event we're interested in (non-reporting)."
   ]
  },
  {
   "cell_type": "code",
   "execution_count": null,
   "metadata": {
    "colab": {},
    "colab_type": "code",
    "id": "AbYlI8tHbt7E"
   },
   "outputs": [],
   "source": [
    "sql = \"select NPDES_ID, SCHEDULE_DATE, RNC_DETECTION_CODE\" + \\\n",
    "    \" from NPDES_PS_VIOLATIONS where RNC_DETECTION_CODE = 'N' and \" + \\\n",
    "    \" SCHEDULE_DATE like '\"+mnth+\"/%'\"\n",
    "#\" NPDES_ID like '\" + my_state + \"%'\"\n",
    "\n",
    "dmr_data = get_data( sql, \"NPDES_ID\" )\n",
    "dmr_data"
   ]
  },
  {
   "cell_type": "markdown",
   "metadata": {
    "colab_type": "text",
    "id": "YFXsKXVfbt7M"
   },
   "source": [
    "#### Chart this ^ !!!\n",
    "It's all well and good to have this table, but it's hard to pick out patterns from tabular data. Let's plot it as a histogram in order to see what's going on.\n",
    "\n",
    "The height of each bar will indicate how many facilities were out of compliance due to missing or late reports, while the orange line will show us the average number of these facilities for all previous Aprils and the pink line indicates the average for the past three years or so."
   ]
  },
  {
   "cell_type": "code",
   "execution_count": null,
   "metadata": {
    "colab": {},
    "colab_type": "code",
    "id": "rhoM0Xq6bt7N"
   },
   "outputs": [],
   "source": [
    "charter(dmr_data, 'SCHEDULE_DATE', \"%m/%d/%Y\",  mnth, mnth_name,'RNC_DETECTION_CODE', \"Number of missing reports\", \n",
    "        \"cwa_missing_reports.csv\", \"Total CWA Non-Compliance due to Missing or Late Reports\", \"count\")"
   ]
  },
  {
   "cell_type": "markdown",
   "metadata": {
    "colab_type": "text",
    "id": "mhj1i7eQbt7R"
   },
   "source": [
    "#### Which facilities didn't report this month?\n",
    "This will give us a good indicator of the impact of EPA's memo, which went into effect that month.\n",
    "\n",
    "First, let's get more information about those facilities."
   ]
  },
  {
   "cell_type": "code",
   "execution_count": null,
   "metadata": {
    "colab": {},
    "colab_type": "code",
    "id": "ThTzJf_sbt7T"
   },
   "outputs": [],
   "source": [
    "facilities = dmr_data.reset_index()\n",
    "facilities = facilities.groupby(['SCHEDULE_DATE']).agg({\"NPDES_ID\": \"nunique\"})\n",
    "facilities = facilities.reset_index()\n",
    "charter(facilities, 'SCHEDULE_DATE', \"%m/%d/%Y\",  mnth, mnth_name, 'NPDES_ID', \"Number of facilities not reporting\", \n",
    "        \"cwa_missing-reports_facilities.csv\", \"# of facilities not reporting\", \"sum\")"
   ]
  },
  {
   "cell_type": "code",
   "execution_count": null,
   "metadata": {
    "colab": {},
    "colab_type": "code",
    "id": "z11wpk01bt7Y"
   },
   "outputs": [],
   "source": [
    "mnth1 = \"0\" + str(int(mnth) + 1)\n",
    "latest = dmr_data[(dmr_data[\"SCHEDULE_DATE\"] >= '2020-'+mnth+'-01') & (dmr_data[\"SCHEDULE_DATE\"] <= '2020-'+mnth1+'-01')] \n",
    "\n",
    "# Pull out Ids to match ECHO_EXPORTER\n",
    "ids = latest.index.unique()\n",
    "\n",
    "if (len(latest.index)>0):\n",
    "    # Get facility information from ECHO\n",
    "    echo_data = full_echo_data[ full_echo_data['NPDES_FLAG'] == 'Y' ].copy().reset_index( drop=True )\n",
    "    # Filter ECHO EXPORTER data to rows containing pgm_sys_ids from latest  \n",
    "    idxs=list()\n",
    "    for index,value in echo_data[\"NPDES_IDS\"].items():\n",
    "        for i in value.split():\n",
    "            if i in ids:\n",
    "                idxs.append(index)\n",
    "    echo_data = echo_data.iloc[idxs,:]\n",
    "    echo_data.set_index( 'NPDES_IDS', inplace=True )\n",
    "    \n",
    "    # Merge ECHO and NPDES data\n",
    "    latest = latest.join(echo_data)\n",
    "    print(latest)\n",
    "    \n",
    "else:\n",
    "    print(\"Actually, there were no reporting violations for %s\" %(mnth_name))    "
   ]
  },
  {
   "cell_type": "markdown",
   "metadata": {
    "colab_type": "text",
    "id": "XwMOYmZAbt7d"
   },
   "source": [
    "#### Map them!\n",
    "Now we'll map those facilities that didn't report in the selected month this year."
   ]
  },
  {
   "cell_type": "code",
   "execution_count": null,
   "metadata": {
    "colab": {},
    "colab_type": "code",
    "id": "EiFIMm2obt7g",
    "scrolled": true
   },
   "outputs": [],
   "source": [
    "missing = latest[(np.isnan(latest[\"FAC_LAT\"])) | (np.isnan(latest[\"FAC_LONG\"]))]\n",
    "count = missing.index.unique()\n",
    "print(\"There are \"+str(len(count))+\" facilities we can't map because they have incomplete data\")\n",
    "latest = latest[~(np.isnan(latest[\"FAC_LAT\"])) | ~(np.isnan(latest[\"FAC_LONG\"]))] # Filter to remove NaNs - missing data!\n",
    "print(\"There are \"+str(len(latest))+\"facilities mapped below.\")\n",
    "map_of_facilities = mapper(latest)\n",
    "map_of_facilities"
   ]
  },
  {
   "cell_type": "markdown",
   "metadata": {
    "colab_type": "text",
    "id": "QwtKtQBpbt7m"
   },
   "source": [
    "## Which facilities have officially indicated that they could not monitor and report water quality due to COVID?\n",
    "Facilities are allowed to indicate to the EPA that they were unable to submit water discharge monitoring reports because of COVID-related reasons."
   ]
  },
  {
   "cell_type": "code",
   "execution_count": null,
   "metadata": {
    "colab": {},
    "colab_type": "code",
    "id": "cfV3jjvmbt7n"
   },
   "outputs": [],
   "source": [
    "### Use NPDES_DMR_FY2020 to show the facilities that indicated they could not monitor and report due to COVID\n",
    "sql = \"select *\" + \\\n",
    "    \" from NPDES_DMRS_FY2020 where NODI_CODE = 'Z' and \" + \\\n",
    "    \" MONITORING_PERIOD_END_DATE like '\"+mnth+\"/%'\"\n",
    "\n",
    "z_data = get_data( sql, \"EXTERNAL_PERMIT_NMBR\" )\n",
    "z_data"
   ]
  },
  {
   "cell_type": "markdown",
   "metadata": {
    "colab_type": "text",
    "id": "So3CoeYSbt7s"
   },
   "source": [
    "#### What kinds of water pollutants were these facilities not able to report on?"
   ]
  },
  {
   "cell_type": "code",
   "execution_count": null,
   "metadata": {
    "colab": {},
    "colab_type": "code",
    "id": "8RyE7uKSbt7t"
   },
   "outputs": [],
   "source": [
    "pollutants = z_data.groupby(['PARAMETER_DESC'])[['MONITORING_PERIOD_END_DATE']].count()\n",
    "pollutants = pollutants.rename(columns={'MONITORING_PERIOD_END_DATE': \"Violations\"})\n",
    "pollutants = pollutants.sort_values(by='Violations', ascending=False)\n",
    "fig = plt.figure(1, figsize=(20,20))\n",
    "ax = fig.add_subplot(111)\n",
    "wedges, labels, autopct = ax.pie(pollutants[\"Violations\"], labels = pollutants.index, autopct='%1.1f%%', radius = 10);#, textprops={'fontsize': 72});\n",
    "for pos,lab in enumerate(labels):\n",
    "    if pos < 10:\n",
    "        lab.set_fontsize(96)"
   ]
  },
  {
   "cell_type": "markdown",
   "metadata": {
    "colab_type": "text",
    "id": "EmSZSE5Rbt7y"
   },
   "source": [
    "#### Where are the facilities that have officially indicated they can't submit reports due to COVID?"
   ]
  },
  {
   "cell_type": "code",
   "execution_count": null,
   "metadata": {
    "colab": {},
    "colab_type": "code",
    "id": "0_HnboSbbt7z"
   },
   "outputs": [],
   "source": [
    "latest = z_data\n",
    "\n",
    "# Pull out Ids to match ECHO_EXPORTER\n",
    "ids = latest.index.unique()\n",
    "\n",
    "if (len(latest.index)>0):\n",
    "    # Get facility information from ECHO\n",
    "    echo_data = full_echo_data[ full_echo_data['NPDES_FLAG'] == 'Y' ].copy().reset_index( drop=True )\n",
    "    # Filter ECHO EXPORTER data to rows containing pgm_sys_ids from latest  \n",
    "    idxs=list()\n",
    "    for index,value in echo_data[\"NPDES_IDS\"].items():\n",
    "        for i in value.split():\n",
    "            if i in ids:\n",
    "                idxs.append(index)\n",
    "    echo_data = echo_data.iloc[idxs,:]\n",
    "    echo_data.set_index( 'NPDES_IDS', inplace=True )\n",
    "    \n",
    "    # Merge ECHO and NPDES data\n",
    "    latest = latest.join(echo_data)\n",
    "    print(latest)\n",
    "    \n",
    "else:\n",
    "    print(\"Actually, there were no reporting violations for %s\" %(mnth_name))    "
   ]
  },
  {
   "cell_type": "code",
   "execution_count": null,
   "metadata": {
    "colab": {},
    "colab_type": "code",
    "id": "mC6Z6T04bt73"
   },
   "outputs": [],
   "source": [
    "missing = latest[(np.isnan(latest[\"FAC_LAT\"])) | (np.isnan(latest[\"FAC_LONG\"]))]\n",
    "count = missing.index.unique()\n",
    "print(\"There are \"+str(len(count))+\" facilities we can't map because they have incomplete data\")\n",
    "latest = latest[~(np.isnan(latest[\"FAC_LAT\"])) | ~(np.isnan(latest[\"FAC_LONG\"]))] # Filter to remove NaNs - missing data!\n",
    "print(\"There are \"+str(len(latest))+\" facilities mapped below.\")\n",
    "map_of_facilities = mapper(latest)\n",
    "map_of_facilities"
   ]
  },
  {
   "cell_type": "code",
   "execution_count": null,
   "metadata": {
    "colab": {},
    "colab_type": "code",
    "id": "_IstdkpEbt77"
   },
   "outputs": [],
   "source": []
  }
 ],
 "metadata": {
  "colab": {
   "name": "ECHO-COVID19.ipynb",
   "provenance": []
  },
  "kernelspec": {
   "display_name": "Python 3",
   "language": "python",
   "name": "python3"
  },
  "language_info": {
   "codemirror_mode": {
    "name": "ipython",
    "version": 3
   },
   "file_extension": ".py",
   "mimetype": "text/x-python",
   "name": "python",
   "nbconvert_exporter": "python",
   "pygments_lexer": "ipython3",
   "version": "3.7.2"
  }
 },
 "nbformat": 4,
 "nbformat_minor": 2
}
