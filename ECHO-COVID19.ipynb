{
 "cells": [
  {
   "cell_type": "markdown",
   "metadata": {},
   "source": [
    "| ![EEW logo](https://github.com/edgi-govdata-archiving/EEW-Image-Assets/blob/master/Jupyter%20instructions/eew.jpg?raw=true) | ![EDGI logo](https://github.com/edgi-govdata-archiving/EEW-Image-Assets/blob/master/Jupyter%20instructions/edgi.png?raw=true) |\n",
    "|---|---|\n",
    "\n",
    "###### This notebook is licensed under GPL 3.0. Please visit our Github repo for more information: https://github.com/edgi-govdata-archiving/ECHO-COVID19\n",
    "###### The notebook was collaboratively authored by EDGI following our authorship protocol: https://docs.google.com/document/d/1CtDN5ZZ4Zv70fHiBTmWkDJ9mswEipX6eCYrwicP66Xw/\n",
    "###### For more information about this project, visit https://www.environmentalenforcementwatch.org/"
   ]
  },
  {
   "cell_type": "markdown",
   "metadata": {},
   "source": [
    "# Tracking EPA's COVID-19 non-enforcement policy\n",
    "In late March 2020, EPA released a memo announcing that it would not penalize regulated industries that fail to meet their monitoring and reporting requirements due to COVID-19. Specifically EPA has said that it:\n",
    "\n",
    "> \"is not seeking penalties for noncompliance only in circumstances that involve routine monitoring and reporting requirements, if, on a case-by-case basis, EPA agrees that such noncompliance was caused by the COVID-19 pandemic.\"\n",
    "\n",
    "This may have a number of public and environmental health impacts if facilities respond by increasing their emissions and discharges. Our response to this memo states that the EPA’s COVID-19 leniency is [a “free pass to pollute.](https://envirodatagov.org/epas-covid-19-leniency-is-a-free-pass-to-pollute/)”\n",
    "\n",
    "Using this notebook, you can track how facilities' releases—as well as monitoring and reporting—of air and water hazards has changed in your state over the past few months, compared to previous years. \n",
    "\n",
    "There are three scenarios we may see playing out:\n",
    "\n",
    "_Monitoring and reporting violations_\n",
    "- 1. **Facilities that do *not* report** (we can track this)....**but do still meet their permit limits** (yet we can't know this specifically, precisely because they didn't report)\n",
    "- 2. **Facilities that do *not* report** (we can track this)....**and actually exceed their limits** (yet we can't know this specifically, precisely because they didn't report)\n",
    "\n",
    "_Environmental violations_\n",
    "- 3. **Facilities that do meet their reporting obligations** BUT they **report having exceeded their permitted limits** In this case, we can also track whether EPA takes any enforcement action.\n",
    "\n",
    "We may also see facilities that both meet their reporting obligations and do not exceed their permitted limits. These facilities may still pose a risk to community and environmental health but are not the focus of this investigation. Please see…\n",
    "\n",
    "This investigation relies upon data from the EPA’s Enforcement & Compliance History Online (ECHO), the primary open data portal supplied by the EPA, and a major basis for EPA’s decisions around enforcement. Please see EPA’s “About the Data” page for known limitations on the data’s quality and completeness. Link to data source (https://echo.epa.gov/tools/data-downloads#downloads) and limitations (https://echo.epa.gov/resources/echo-data/about-the-data)\n",
    "\n",
    "Organization of this notebook:\n",
    " - Air emissions\n",
    " - Water discharges from major sources \n",
    " - Water quality monitoring and reporting violations\n",
    "---"
   ]
  },
  {
   "cell_type": "markdown",
   "metadata": {},
   "source": [
    "## How to Run this Notebook\n",
    "* If you click on a gray **code** cell, a little “play button” arrow appears on the left. If you click the play button, it will run the code in that cell (“**running** a cell”). The button will animate. When the animation stops, the cell has finished running.\n",
    "![Where to click to run the cell](https://github.com/edgi-govdata-archiving/EEW-Image-Assets/blob/master/Jupyter%20instructions/pressplay.JPG?raw=true)\n",
    "* You may get a warning that the notebook was not authored by Google. We know, we authored them! It’s okay. Click “Run Anyway” to continue. \n",
    "![Error Message](https://github.com/edgi-govdata-archiving/EEW-Image-Assets/blob/master/Jupyter%20instructions/warning-message.JPG?raw=true)\n",
    "* Run all of the cells in a Notebook to make a complete report. Please feel free to look at and **learn about each result as you create it**!\n",
    "\n",
    "---"
   ]
  },
  {
   "cell_type": "markdown",
   "metadata": {},
   "source": [
    "## Setup\n",
    "Here we load some helper code to get us going."
   ]
  },
  {
   "cell_type": "code",
   "execution_count": null,
   "metadata": {},
   "outputs": [],
   "source": [
    "# Import code libraries\n",
    "import urllib.parse\n",
    "import pandas as pd\n",
    "import numpy as np\n",
    "import matplotlib.pyplot as plt\n",
    "%matplotlib inline\n",
    "import requests\n",
    "import csv\n",
    "import datetime\n",
    "import folium\n",
    "import ipywidgets as widgets\n",
    "\n",
    "# Set up some default parameters for graphing\n",
    "from matplotlib import cycler\n",
    "colors = cycler('color',\n",
    "                ['#4FBBA9', '#E56D13', '#D43A69',\n",
    "                 '#25539f', '#88BB44', '#FFBBBB'])\n",
    "plt.rc('axes', facecolor='#E6E6E6', edgecolor='none',\n",
    "       axisbelow=True, grid=True, prop_cycle=colors)\n",
    "plt.rc('grid', color='w', linestyle='solid')\n",
    "plt.rc('xtick', direction='out', color='gray')\n",
    "plt.rc('ytick', direction='out', color='gray')\n",
    "plt.rc('patch', edgecolor='#E6E6E6')\n",
    "plt.rc('lines', linewidth=2)\n",
    "font = {'family' : 'DejaVu Sans',\n",
    "        'weight' : 'normal',\n",
    "        'size'   : 16}\n",
    "plt.rc('font', **font)\n",
    "plt.rc('legend', fancybox = True, framealpha=1, shadow=True, borderpad=1)"
   ]
  },
  {
   "cell_type": "code",
   "execution_count": null,
   "metadata": {},
   "outputs": [],
   "source": [
    "# Set up some default parameters for graphing\n",
    "from matplotlib import cycler\n",
    "colour = \"#00C2AB\" # The default colour for the barcharts\n",
    "colors = cycler('color',\n",
    "                ['#4FBBA9', '#E56D13', '#D43A69',\n",
    "                 '#25539f', '#88BB44', '#FFBBBB'])\n",
    "plt.rc('axes', facecolor='#E6E6E6', edgecolor='none',\n",
    "       axisbelow=True, grid=True, prop_cycle=colors)\n",
    "plt.rc('grid', color='w', linestyle='solid')\n",
    "plt.rc('xtick', direction='out', color='gray')\n",
    "plt.rc('ytick', direction='out', color='gray')\n",
    "plt.rc('patch', edgecolor='#E6E6E6')\n",
    "plt.rc('lines', linewidth=2)\n",
    "font = {'family' : 'DejaVu Sans',\n",
    "        'weight' : 'normal',\n",
    "        'size'   : 16}\n",
    "plt.rc('font', **font)\n",
    "plt.rc('legend', fancybox = True, framealpha=1, shadow=True, borderpad=1)"
   ]
  },
  {
   "cell_type": "code",
   "execution_count": null,
   "metadata": {},
   "outputs": [],
   "source": [
    "# This will make all of our charts for us\n",
    "def charter (full_data, date_column, date_format, counting_column, measure, filename, title, function):\n",
    "    full_data[date_column] = pd.to_datetime(full_data[date_column], format=date_format) # Format the date\n",
    "    \n",
    "    # Organize the data\n",
    "    this_data = full_data.groupby([date_column])[counting_column].agg(function) # For each day, count the number of inspections/enforcements/violations\n",
    "    this_data = this_data.resample('M').sum() # Summarize inspections/enforcements/violations on a monthly basis  \n",
    "    this_data = this_data.loc[(this_data.index.month == int(mnth)) & (this_data.index.year >= 2001)] # Filter to higher quality data timeframe (post-2001) and back to just the selected month \n",
    "    this_data = pd.DataFrame(this_data) # Put our data into a dataframe\n",
    "    this_data = this_data.rename(columns={counting_column: measure}) # Format the data columns\n",
    "    this_data.index = this_data.index.strftime('%Y-%m') # Make the x axis (date) prettier\n",
    "\n",
    "    # Create the chart\n",
    "    ax = this_data.plot(kind='bar', title = title, figsize=(20, 10), fontsize=16, color=colour)\n",
    "    ax\n",
    "\n",
    "    # Label trendline\n",
    "    trend=this_data[measure].mean()\n",
    "    ax.axhline(y=trend, color='#e56d13', linestyle='--', label = \"Average \"+title+\" in %s across ECHO history\" %(mnth_name))\n",
    "\n",
    "    # Label the previous three years' trend (2017, 2018, 2019)\n",
    "    trend_month=pd.concat([this_data.loc[\"2017-\"+mnth],this_data.loc[\"2018-\"+mnth],this_data.loc[\"2019-\"+mnth]])\n",
    "    trend_month=trend_month[measure].mean()\n",
    "    ax.axhline(y=trend_month, xmin = .82, xmax=.93, color='#d43a69', linestyle='--', label = \"%s 2017-2019 average\" %(mnth_name))\n",
    "\n",
    "    # Label plot\n",
    "    ax.legend()\n",
    "    ax.set_xlabel(\"Month and year\")\n",
    "    ax.set_ylabel( title+\" in %s across years\" %(mnth_name))\n",
    "\n",
    "    # Export data \n",
    "    this_data.to_csv(filename) "
   ]
  },
  {
   "cell_type": "code",
   "execution_count": null,
   "metadata": {},
   "outputs": [],
   "source": [
    "# Helps us make the map!\n",
    "def mapper(df):\n",
    "    # Initialize the map\n",
    "    m = folium.Map(\n",
    "        location = [df.mean()[\"FAC_LAT\"], df.mean()[\"FAC_LONG\"]]\n",
    "    )\n",
    "\n",
    "    # Add a clickable marker for each facility\n",
    "    for index, row in df.iterrows():\n",
    "        folium.CircleMarker(\n",
    "            location = [row[\"FAC_LAT\"], row[\"FAC_LONG\"]],\n",
    "            popup = row[\"FAC_NAME\"] + \"<p><a href='>\"+row[\"DFR_URL\"]+\"' target='_blank'>Link to ECHO detailed report</a></p>\",\n",
    "            radius = 8,\n",
    "            color = \"black\",\n",
    "            weight = 1,\n",
    "            fill_color = \"orange\",\n",
    "            fill_opacity= .4\n",
    "        ).add_to(m)\n",
    "\n",
    "    bounds = m.get_bounds()\n",
    "    m.fit_bounds(bounds)\n",
    "\n",
    "    # Show the map\n",
    "    return m"
   ]
  },
  {
   "cell_type": "markdown",
   "metadata": {},
   "source": [
    "## Pick a month\n",
    "We'll look at trends for the month you select across the past few decades of pollution trends"
   ]
  },
  {
   "cell_type": "code",
   "execution_count": null,
   "metadata": {},
   "outputs": [],
   "source": [
    "# Make a dropdown menu showing each month\n",
    "months_list=[\"January\",\"February\",\"March\",\"April\",\"May\",\"June\",\"July\",\"August\",\"September\",\"October\",\"November\",\"December\"]\n",
    "w=widgets.Dropdown(\n",
    "    options=months_list,\n",
    "    value = \"March\",\n",
    "    description='Month:'\n",
    ")\n",
    "# Display the widget so you can select the month\n",
    "display(w)"
   ]
  },
  {
   "cell_type": "code",
   "execution_count": null,
   "metadata": {},
   "outputs": [],
   "source": [
    "# Assign the month you chose to the variable “mnth”\n",
    "mnth_name=w.value\n",
    "mnth = \"{0:0=2d}\".format(months_list.index(mnth_name) + 1) # Converts month name to 2-digit string number"
   ]
  },
  {
   "cell_type": "markdown",
   "metadata": {},
   "source": [
    "## Are facilities monitoring their emissions?\n",
    "\"Stack tests\" involve measuring the volume of pollutants coming out of the facility's \"smokestack\".\n",
    "\n",
    "The following cell will grab EPA data on facility stack tests for every one of the selected months on record (up to 50 years ago). Some pollutant releases may be seasonal, so by looking only at the selected month, we can account for this variation and ensure an apples-to-apples comparison.\n",
    "\n",
    "In addition, we will only look at data post-2000, as EPA notes that its data systems prior to that date are incomplete and hence \"unknown.\""
   ]
  },
  {
   "cell_type": "code",
   "execution_count": null,
   "metadata": {},
   "outputs": [],
   "source": [\
    "# Use SQL to search for and select the data about air stack tests for the month you chose over the past 20 years\n",
    "sql = \"select * from `ICIS-AIR_STACK_TESTS` where ACTUAL_END_DATE like '\"+mnth+\"/%'\"\n",
    "url='http://apps.tlt.stonybrook.edu/echoepa/?query='\n",
    "# Get the URL for your search result\n",
    "data_location=url+urllib.parse.quote(sql)\n",
    "\n",
    "# Download the data from that URL\n",
    "stack_data = pd.read_csv(data_location,encoding='iso-8859-1',header = 0)\n",
    "stack_data.set_index(\"pgm_sys_id\", inplace=True)\n",
    "\n",
    "# This is your data!\n",
    "stack_data"
   ]
  },
  {
   "cell_type": "markdown",
   "metadata": {},
   "source": [
    "#### Chart stack tests\n",
    "\n",
    "The height of each bar will indicate how many tests there were, while the red line will show us the average number of these for all previous Aprils and the yellow line indicates the average for the past three years."
   ]
  },
  {
   "cell_type": "code",
   "execution_count": null,
   "metadata": {},
   "outputs": [],
   "source": [
    "charter(stack_data, 'ACTUAL_END_DATE', \"%m/%d/%Y\", 'STATE_EPA_FLAG', \n",
    "        \"Number of stack tests\", \"air_monitoring.csv\", \"# of pollutants stack-tested\", \"count\")"
   ]
  },
  {
   "cell_type": "markdown",
   "metadata": {},
   "source": [
    "## Are Clean Air Act inspections happening?"
   ]
  },
  {
   "cell_type": "code",
   "execution_count": null,
   "metadata": {
    "scrolled": false
   },
   "outputs": [],
   "source": [
    "sql = \"select * from `ICIS-AIR_FCES_PCES` where ACTUAL_END_DATE like '\"+mnth+\"-%'\"\n",
    "url='http://apps.tlt.stonybrook.edu/echoepa/?query='\n",
    "data_location=url+urllib.parse.quote(sql)\n",
    "\n",
    "eval_data = pd.read_csv(data_location,encoding='iso-8859-1',header = 0)\n",
    "eval_data.set_index(\"PGM_SYS_ID\", inplace=True)\n",
    "eval_data"
   ]
  },
  {
   "cell_type": "markdown",
   "metadata": {},
   "source": [
    "#### Chart inspections"
   ]
  },
  {
   "cell_type": "code",
   "execution_count": null,
   "metadata": {},
   "outputs": [],
   "source": [
    "charter(eval_data, 'ACTUAL_END_DATE', \"%m-%d-%Y\", 'ACTIVITY_TYPE_DESC', \"Number of inspections\", \n",
    "        \"caa_inspections.csv\", \"# of inspections\", \"count\")"
   ]
  },
  {
   "cell_type": "code",
   "execution_count": null,
   "metadata": {},
   "outputs": [],
   "source": [
    "# Who should've been stack test/inspected, but wasn't and what did they emit previously?\n",
    "# Of those that didn't report this month, if they had not in the previous five years, \n",
    "# then we assume they should have this year. Get those from a list of all air facilities...."
   ]
  },
  {
   "cell_type": "code",
   "execution_count": null,
   "metadata": {},
   "outputs": [],
   "source": [
    "### COMPARE TO PREVIOUS YEARS in AIR EMISSIONS TABLE\n",
    "\n",
    "#sql = \"select * from `POLL_RPT_COMBINED_EMISSIONS` where PGM_SYS_ID like 'WA%'\"\n",
    "#url='http://apps.tlt.stonybrook.edu/echoepa/?query='\n",
    "#data_location=url+urllib.parse.quote(sql)\n",
    "\n",
    "#emissions_data = pd.read_csv(data_location,encoding='iso-8859-1',header = 0)\n",
    "#emissions_data.set_index(\"PGM_SYS_ID\", inplace=True)\n",
    "#emissions_data"
   ]
  },
  {
   "cell_type": "markdown",
   "metadata": {},
   "source": [
    "## What have facilities reported releasing into the air?\n",
    "Air pollution is associated with greater virulence of COVID-19. What are facilities releasing into the air in spite of this greater risk to human life?\n",
    "\n",
    "First, we'll get this data! We'll start by looking at those facilities that were found to be in violation for their emissions."
   ]
  },
  {
   "cell_type": "code",
   "execution_count": null,
   "metadata": {},
   "outputs": [],
   "source": [
    "sql = \"select * from `ICIS-AIR_VIOLATION_HISTORY` where HPV_DAYZERO_DATE like '\"+mnth+\"-%'\"\n",
    "url='http://apps.tlt.stonybrook.edu/echoepa/?query='\n",
    "data_location=url+urllib.parse.quote(sql)\n",
    "\n",
    "air_data = pd.read_csv(data_location,encoding='iso-8859-1',header = 0)\n",
    "air_data.set_index(\"pgm_sys_id\", inplace=True)\n",
    "air_data"
   ]
  },
  {
   "cell_type": "markdown",
   "metadata": {},
   "source": [
    "#### Chart emissions violations\n",
    "The height of each bar indicates how many emissions violations there have been. The red line shows the average number of emissions violations for all previous Aprils, and the yellow line indicates the average for the past three years."
   ]
  },
  {
   "cell_type": "code",
   "execution_count": null,
   "metadata": {},
   "outputs": [],
   "source": [
    "charter(air_data, 'HPV_DAYZERO_DATE', \"%m-%d-%Y\", 'ENF_RESPONSE_POLICY_CODE', \n",
    "        \"Number of violations\", \"air_violations_total.csv\", \"# of Clean Air Act violations\", \"count\")\n",
    "\n",
    "facilities = air_data.reset_index()\n",
    "facilities = facilities.groupby(['HPV_DAYZERO_DATE']).agg({\"pgm_sys_id\": \"nunique\"})\n",
    "facilities = facilities.reset_index()\n",
    "charter(facilities, 'HPV_DAYZERO_DATE', \"%m/%d/%Y\", 'pgm_sys_id', \"Number of facilities exceeding\", \n",
    "        \"caa_violations_facilities.csv\", \"# of facilities exceeding\", \"sum\")"
   ]
  },
  {
   "cell_type": "code",
   "execution_count": null,
   "metadata": {},
   "outputs": [],
   "source": [
    "### MAP THESE FACILITIES\n",
    "### INSTEAD OF CPS, JUST PIE CHART WHAT IS BEING VIOLATED...."
   ]
  },
  {
   "cell_type": "markdown",
   "metadata": {},
   "source": [
    "Let's break it down by type of pollutant. We'll focus on two of what EPA calls \"criteria pollutants\" - those that have such an impact on human health, that the agency regulates how much of these can be in the atmosphere at any given time/place. The two are particulate matter, which is known to affect the circulatory and nervous systems, and sulfur dioxide, which exacerbates asthma."
   ]
  },
  {
   "cell_type": "code",
   "execution_count": null,
   "metadata": {},
   "outputs": [],
   "source": [
    "cps = air_data\n",
    "cps = cps[(cps['POLLUTANT_DESCS'].astype(str).str.contains('Particulate')) | (cps['POLLUTANT_DESCS'].astype(str).str.contains('Sulfur'))]\n",
    "cps_map = cps # for mapping later...\n",
    "\n",
    "charter(cps, 'HPV_DAYZERO_DATE', \"%m-%d-%Y\", 'POLLUTANT_DESCS', \"Number of violations\", \n",
    "        \"cps_violations.csv\", \"# of Violations Related to Particulate Matter and/or Sulfur Dioxide\", \"count\")"
   ]
  },
  {
   "cell_type": "markdown",
   "metadata": {},
   "source": [
    "#### Where are these facilities that exceeded their PM and SO2 permits?\n",
    "Even if, on the whole, there are fewer exceedances, the places that are emitting more pollutants are important to track. Their neighbors are suffering more."
   ]
  },
  {
   "cell_type": "code",
   "execution_count": null,
   "metadata": {},
   "outputs": [],
   "source": [
    "mnth1 = \"0\" + str(int(mnth) + 1)\n",
    "latest = cps_map[(cps_map[\"HPV_DAYZERO_DATE\"] >= '2020-'+mnth+'-01') & (cps_map[\"HPV_DAYZERO_DATE\"] < '2020-'+mnth1+'-01')]\n",
    "\n",
    "if (len(latest.index)>0):\n",
    "    # Get facility information from ECHO\n",
    "    sql = \"select FAC_NAME, AIR_IDS, FAC_LAT, FAC_LONG, FAC_PERCENT_MINORITY, CAA_QTRS_WITH_NC, DFR_URL\" + \\\n",
    "        \" from ECHO_EXPORTER where AIR_FLAG = 'Y' \"\n",
    "    url='http://apps.tlt.stonybrook.edu/echoepa/?query='\n",
    "    data_location=url+urllib.parse.quote(sql)\n",
    "    echo_data = pd.read_csv(data_location,encoding='iso-8859-1',header = 0)\n",
    "    echo_data.set_index( 'AIR_IDS', inplace=True ) # This is a cheap join and ignores where AIR_IDS may be multiple...\n",
    "    \n",
    "    # Merge ECHO and CAA data\n",
    "    latest = latest.join(echo_data)\n",
    "    \n",
    "else:\n",
    "    print(\"Actually, there were no reporting violations for %s\" %(mnth_name))"
   ]
  },
  {
   "cell_type": "markdown",
   "metadata": {},
   "source": [
    "#### Make the map!\n",
    "The map shows us all the facilities that report emitting more than their permitted levels of PM and SO2 in the selected month."
   ]
  },
  {
   "cell_type": "code",
   "execution_count": null,
   "metadata": {},
   "outputs": [],
   "source": [
    "# Filter to remove NaNs - missing data!\n",
    "latest = latest[~(np.isnan(latest[\"FAC_LAT\"])) | ~(np.isnan(latest[\"FAC_LONG\"]))] # Count and report these (TODO)\n",
    "map_of_facilities = mapper(latest)\n",
    "map_of_facilities"
   ]
  },
  {
   "cell_type": "markdown",
   "metadata": {},
   "source": [
    "## What are facilities releasing into the water?\n",
    "\n",
    "*NOTE*: Because there are so many facilities that discharge into waters of the US, there's a lot of data! The following cell may take a little while to run."
   ]
  },
  {
   "cell_type": "code",
   "execution_count": null,
   "metadata": {},
   "outputs": [],
   "source": [
    "# Find facilities with pollutant exceedences\n",
    "sql = \"select NPDES_ID, EXCEEDENCE_PCT, MONITORING_PERIOD_END_DATE, PARAMETER_DESC\" + \\\n",
    "    \" from NPDES_EFF_VIOLATIONS where EXCEEDENCE_PCT > 0 and MONITORING_PERIOD_END_DATE like '\"+mnth+\"/%'\"\n",
    "\n",
    "url='http://apps.tlt.stonybrook.edu/echoepa/?query='\n",
    "data_location=url+urllib.parse.quote(sql)\n",
    "\n",
    "dis_data = pd.read_csv(data_location,encoding='iso-8859-1',header = 0)\n",
    "dis_data.set_index(\"NPDES_ID\", inplace=True)\n",
    "exceeds = dis_data \n",
    "exceeds"
   ]
  },
  {
   "cell_type": "markdown",
   "metadata": {},
   "source": [
    "#### Chart Clean Water Act exceedances\n",
    "Are facilities exceeding their permits more this month in 2020 than previous years? Like with air emissions and monitoring, we need to compare month-month (e.g. March 2019 to March 2020) because there is a seasonality to many discharges.\n",
    "\n",
    "The height of each bar will indicate how many pollution permits have been exceeded, while the red line will show us the average number of these for all previous years and the yellow line indicates the average for the past three years.\n",
    "\n",
    "In the second chart, the height of each bar will indicate how many *facilities* have exceeded their permits."
   ]
  },
  {
   "cell_type": "code",
   "execution_count": null,
   "metadata": {},
   "outputs": [],
   "source": [
    "charter(exceeds, 'MONITORING_PERIOD_END_DATE', \"%m/%d/%Y\", 'EXCEEDENCE_PCT', \"Number of pollution permits exceeded\", \n",
    "        \"cwa_violations_total.csv\", \"# of permit exceedances\", \"count\")\n",
    "\n",
    "facilities = exceeds.reset_index()\n",
    "facilities = facilities.groupby(['MONITORING_PERIOD_END_DATE']).agg({\"NPDES_ID\": \"nunique\"})\n",
    "facilities = facilities.reset_index()\n",
    "charter(facilities, 'MONITORING_PERIOD_END_DATE', \"%m/%d/%Y\", 'NPDES_ID', \"Number of facilities exceeding\", \n",
    "        \"cwa_violations_facilities.csv\", \"# of facilities exceeding\", \"sum\")"
   ]
  },
  {
   "cell_type": "markdown",
   "metadata": {},
   "source": [
    "#### Where are the facilities that are currently exceeding their Clean Water Act emissions?"
   ]
  },
  {
   "cell_type": "code",
   "execution_count": null,
   "metadata": {},
   "outputs": [],
   "source": [
    "mnth1 = \"0\" + str(int(mnth) + 1)\n",
    "latest = exceeds[(exceeds['MONITORING_PERIOD_END_DATE'] >= '2020-'+mnth+'-01') & (exceeds['MONITORING_PERIOD_END_DATE'] < '2020-'+mnth1+'-01')] \n",
    "\n",
    "if (len(latest.index)>0):\n",
    "    # Get facility information from ECHO\n",
    "    sql = \"select FAC_NAME, NPDES_IDS, FAC_LAT, FAC_LONG, FAC_PERCENT_MINORITY, CWA_QTRS_WITH_NC, DFR_URL\" + \\\n",
    "        \" from ECHO_EXPORTER where NPDES_FLAG = 'Y' \"\n",
    "    url='http://apps.tlt.stonybrook.edu/echoepa/?query='\n",
    "    data_location=url+urllib.parse.quote(sql)\n",
    "    echo_data = pd.read_csv(data_location,encoding='iso-8859-1',header = 0)\n",
    "    echo_data.set_index( 'NPDES_IDS', inplace=True )\n",
    "    \n",
    "    # Merge ECHO and NPDES data\n",
    "    latest = latest.join(echo_data)\n",
    "    print(latest)\n",
    "    \n",
    "else:\n",
    "    print(\"Actually, there were no reporting violations for %s\" %(mnth_name))    "
   ]
  },
  {
   "cell_type": "code",
   "execution_count": null,
   "metadata": {},
   "outputs": [],
   "source": [
    "# Filter to remove NaNs - missing data!\n",
    "latest = latest[~(np.isnan(latest[\"FAC_LAT\"])) | ~(np.isnan(latest[\"FAC_LONG\"]))] # Count and report (TODO)\n",
    "map_of_facilities = mapper(latest)\n",
    "map_of_facilities"
   ]
  },
  {
   "cell_type": "code",
   "execution_count": null,
   "metadata": {},
   "outputs": [],
   "source": [
    "### TBD\n",
    "### USING NPDES_DMR_FY2020 and other sources, show the breakdown by pollutant and total volume \n",
    "### (e.g. the \"excess\" mercury pollution was X lbs)"
   ]
  },
  {
   "cell_type": "code",
   "execution_count": null,
   "metadata": {},
   "outputs": [],
   "source": [
    "### Of these known violators, how many quarters in CWA non-compliance recently?\n",
    "### Suggests they may be bad actors who should not be let off the hook."
   ]
  },
  {
   "cell_type": "markdown",
   "metadata": {},
   "source": [
    "#### Finally, let's look at trends for just one pollutant, lead. \n",
    "Lead in our waters can have serious environmental and public health consequences."
   ]
  },
  {
   "cell_type": "code",
   "execution_count": null,
   "metadata": {},
   "outputs": [],
   "source": [
    "# CUT?\n",
    "lead = exceeds[(exceeds['PARAMETER_DESC'].astype(str).str.contains('Lead'))]\n",
    "charter(lead, 'MONITORING_PERIOD_END_DATE', \"%m/%d/%Y\", 'EXCEEDENCE_PCT', \"Number of lead pollution permits exceeded\", \n",
    "        \"cwa_violations_lead.csv\", \"# of permit exceedances-lead\", \"count\")"
   ]
  },
  {
   "cell_type": "markdown",
   "metadata": {},
   "source": [
    "## Are facilities monitoring and reporting water quality?\n",
    "We'll look at how facilities regulated under the Clean Water Act have altered their required monitoring practices.\n",
    "\n",
    "Run the code in the cell below, which will query our copy of the ECHO database and pull information on regulated facilities.\n",
    "\n",
    "Specifically, we'll find records of facilities violating their permits due to \"Non-Receipt of DMR (Discharge Monitoring Reports)/Schedule Report\" and are required by the CWA's National Pollutant Discharge Elimination System (NPDES).\n",
    "\n",
    "Not submitting these reports on schedule can lead to \"Reportable Non-Compliance\" with NPDES and CWA. According to the EPA, \"DMR values not received within 31 days of the DMR form due date result in the generation of a violation code (D80 or D90). ICIS-NPDES identifies these DMR non-receipt violations and automatically creates violation codes for the missing DMR values with monitoring requirements (D80) and missing DMR values with effluent limits (D90). EPA's data sharing policy allows states a 40-day window to report DMR values to EPA's data system; therefore, DMR values reported on time to state agencies and shared with EPA within 40 days do not contribute to permit level noncompliance status.\"\n",
    "\n",
    "In this case, \"N\" does NOT mean no - it just is a code for the kind of violation event we're interested in (non-reporting)."
   ]
  },
  {
   "cell_type": "code",
   "execution_count": null,
   "metadata": {},
   "outputs": [],
   "source": [
    "sql = \"select NPDES_ID, SCHEDULE_DATE, RNC_DETECTION_CODE\" + \\\n",
    "    \" from NPDES_PS_VIOLATIONS where RNC_DETECTION_CODE = 'N' and \" + \\\n",
    "    \" SCHEDULE_DATE like '\"+mnth+\"/%'\"\n",
    "#\" NPDES_ID like '\" + my_state + \"%'\"\n",
    "url='http://apps.tlt.stonybrook.edu/echoepa/?query='\n",
    "data_location=url+urllib.parse.quote(sql)\n",
    "\n",
    "dmr_data = pd.read_csv(data_location,encoding='iso-8859-1',header = 0)\n",
    "dmr_data.set_index(\"NPDES_ID\", inplace=True)\n",
    "dmr_data"
   ]
  },
  {
   "cell_type": "markdown",
   "metadata": {},
   "source": [
    "#### Chart this ^ !!!\n",
    "It's all well and good to have this table, but it's hard to pick out patterns from tabular data. Let's plot it as a histogram in order to see what's going on.\n",
    "\n",
    "The height of each bar will indicate how many facilities were out of compliance due to missing or late reports, while the red line will show us the average number of these facilities for all previous Aprils and the yellow line indicates the average for the past three years or so."
   ]
  },
  {
   "cell_type": "code",
   "execution_count": null,
   "metadata": {},
   "outputs": [],
   "source": [
    "charter(dmr_data, 'SCHEDULE_DATE', \"%m/%d/%Y\", 'RNC_DETECTION_CODE', \"Number of missing reports\", \n",
    "        \"cwa_missing_reports.csv\", \"Total CWA Non-Compliance due to Missing or Late Reports\", \"count\")"
   ]
  },
  {
   "cell_type": "markdown",
   "metadata": {},
   "source": [
    "#### Which facilities didn't report this month?\n",
    "This will give us a good indicator of the impact of EPA's memo, which went into effect that month.\n",
    "\n",
    "First, let's get more information about those facilities."
   ]
  },
  {
   "cell_type": "code",
   "execution_count": null,
   "metadata": {},
   "outputs": [],
   "source": [
    "facilities = dmr_data.reset_index()\n",
    "facilities = facilities.groupby(['SCHEDULE_DATE']).agg({\"NPDES_ID\": \"nunique\"})\n",
    "facilities = facilities.reset_index()\n",
    "charter(facilities, 'SCHEDULE_DATE', \"%m/%d/%Y\", 'NPDES_ID', \"Number of facilities not reporting\", \n",
    "        \"cwa_missing-reports_facilities.csv\", \"# of facilities not reporting\", \"sum\")"
   ]
  },
  {
   "cell_type": "code",
   "execution_count": null,
   "metadata": {},
   "outputs": [],
   "source": [
    "mnth1 = \"0\" + str(int(mnth) + 1)\n",
    "latest = dmr_data[(dmr_data[\"SCHEDULE_DATE\"] >= '2020-'+mnth+'-01') & (dmr_data[\"SCHEDULE_DATE\"] <= '2020-'+mnth1+'-01')] \n",
    "\n",
    "if (len(latest.index)>0):\n",
    "    # Get facility information from ECHO\n",
    "    sql = \"select FAC_NAME, NPDES_IDS, FAC_LAT, FAC_LONG, CWA_QTRS_WITH_NC, FAC_PERCENT_MINORITY, DFR_URL\" + \\\n",
    "        \" from ECHO_EXPORTER where NPDES_FLAG = 'Y' \"\n",
    "    url='http://apps.tlt.stonybrook.edu/echoepa/?query='\n",
    "    data_location=url+urllib.parse.quote(sql)\n",
    "    echo_data = pd.read_csv(data_location,encoding='iso-8859-1',header = 0)\n",
    "    echo_data.set_index( 'NPDES_IDS', inplace=True )\n",
    "    \n",
    "    # Merge ECHO and NPDES data\n",
    "    latest = latest.join(echo_data)\n",
    "    print(latest)\n",
    "    \n",
    "else:\n",
    "    print(\"Actually, there were no reporting violations for %s\" %(mnth_name))    "
   ]
  },
  {
   "cell_type": "markdown",
   "metadata": {},
   "source": [
    "#### Map them!\n",
    "Now we'll map those facilities that didn't report in the selected month this year."
   ]
  },
  {
   "cell_type": "code",
   "execution_count": null,
   "metadata": {
    "scrolled": true
   },
   "outputs": [],
   "source": [
    "# Filter to remove NaNs - missing data!\n",
    "latest = latest[~(np.isnan(latest[\"FAC_LAT\"])) | ~(np.isnan(latest[\"FAC_LONG\"]))] # Count and report (TODO)\n",
    "map_of_facilities = mapper(latest)\n",
    "map_of_facilities"
   ]
  },
  {
   "cell_type": "markdown",
   "metadata": {},
   "source": [
    "#### Which facilities have officially indicated that they could not monitor and report due to COVID?"
   ]
  },
  {
   "cell_type": "code",
   "execution_count": null,
   "metadata": {},
   "outputs": [],
   "source": [
    "### Use NPDES_DMR_FY2020 to show the facilities that indicated they could not monitor and report due to COVID\n",
    "sql = \"select *\" + \\\n",
    "    \" from NPDES_DMRS_FY2020 where NODI_CODE = 'Z' and \" + \\\n",
    "    \" MONITORING_PERIOD_END_DATE like '\"+mnth+\"/%'\"\n",
    "#\" NPDES_ID like '\" + my_state + \"%'\"\n",
    "url='http://apps.tlt.stonybrook.edu/echoepa/?query='\n",
    "data_location=url+urllib.parse.quote(sql)\n",
    "\n",
    "z_data = pd.read_csv(data_location,encoding='iso-8859-1',header = 0)\n",
    "z_data.set_index(\"EXTERNAL_PERMIT_NMBR\", inplace=True)\n",
    "z_data"
   ]
  },
  {
   "cell_type": "code",
   "execution_count": null,
   "metadata": {},
   "outputs": [],
   "source": [
    "### What could they not report on?"
   ]
  }
 ],
 "metadata": {
  "kernelspec": {
   "display_name": "Python 3",
   "language": "python",
   "name": "python3"
  },
  "language_info": {
   "codemirror_mode": {
    "name": "ipython",
    "version": 3
   },
   "file_extension": ".py",
   "mimetype": "text/x-python",
   "name": "python",
   "nbconvert_exporter": "python",
   "pygments_lexer": "ipython3",
   "version": "3.7.7"
  }
 },
 "nbformat": 4,
 "nbformat_minor": 2
}
