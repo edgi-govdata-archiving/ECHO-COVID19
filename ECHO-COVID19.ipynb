{
 "cells": [
  {
   "cell_type": "markdown",
   "metadata": {},
   "source": [
    "# Tracking EPA's COVID-19 non-enforcement policy\n",
    "In late March 2020, EPA released a memo announcing that it would not penalize regulated industries that fail to meet their monitoring and reporting requirements due to COVID-19. Specifically EPA has said that it:\n",
    "\n",
    "> \"is not seeking penalties for noncompliance only in circumstances that involve routine monitoring and reporting requirements, if, on a case-by-case basis, EPA agrees that such noncompliance was caused by the COVID-19 pandemic.\"\n",
    "\n",
    "This may have a number of public and environmental health impacts if facilities respond by increasing their emissions and discharges. See our response to EPA's memo here: https://envirodatagov.org/epas-covid-19-leniency-is-a-free-pass-to-pollute/\n",
    "\n",
    "What is the effect of EPA's non-enforcement of Clean Air Act and Clean Water Act permits? Using this notebook, you can track how facilities' releases—as well as monitoring and reporting—of air and water hazards has changed in your state over the past few months, compared to previous years. \n",
    "\n",
    "Essentially, there are three scenarios we may see playing out:\n",
    "\n",
    "_Monitoring and reporting violations_\n",
    "- 1. Facilities that do not report (we can track this)....but do still meet their permit limits (yet we can't know this specifically, precisely because they didn't report)\n",
    "- 2. Facilities that do *not* report (we can track this)....and actually exceed their limits (yet we can't know this specifically, precisely because they didn't report)\n",
    "\n",
    "_Environmental violations_\n",
    "- 3. Facilities that do meet their reporting obligations BUT they report having exceeded their permitted limits\n",
    "\n",
    "Organization of this notebook:\n",
    " - Nationwide trends\n",
    "     - Air emissions (from major sources?) (TBD)\n",
    "     - Water discharges from major sources \n",
    "     - Water quality monitoring and reporting violations\n",
    " - Local trends: zoom in on a state/zip of interest\n",
    "     - Air emissions (from major sources?) (TBD)\n",
    "     - Water discharges from major sources (TBD)\n",
    "     - Water quality monitoring and reporting violations (TBD)\n",
    "\n",
    "---"
   ]
  },
  {
   "cell_type": "markdown",
   "metadata": {},
   "source": [
    "## How to Run\n",
    "* If you click on a gray **code** cell, a little “play button” arrow appears on the left. If you click the play button, it will run the code in that cell (“**running** a cell”). The button will animate. When the animation stops, the cell has finished running.\n",
    "![Where to click to run the cell](https://github.com/edgi-govdata-archiving/EEW-Image-Assets/blob/master/Jupyter%20instructions/pressplay.JPG?raw=true)\n",
    "* You may get a warning that the notebook was not authored by Google. We know, we authored them! It’s okay. Click “Run Anyway” to continue. \n",
    "![Error Message](https://github.com/edgi-govdata-archiving/EEW-Image-Assets/blob/master/Jupyter%20instructions/warning-message.JPG?raw=true)\n",
    "* **It is important to run cells in order because they depend on each other.**\n",
    "* However, besides running the first cell below (\"Setup\"), you can run them section by section (e.g\n",
    "* Some cells-especially in the \"Select your state\" section-will create a dropdown menu after you run them. Be sure to make a selection before running the next cell.\n",
    "![Dropdown menu](https://github.com/edgi-govdata-archiving/EEW-Image-Assets/blob/master/Jupyter%20instructions/dropdown.JPG?raw=true)\n",
    "* Other cells will simply print information when you run them, like this one:\n",
    "![Simple cell](https://github.com/edgi-govdata-archiving/EEW-Image-Assets/blob/master/Jupyter%20instructions/cell-simple.JPG?raw=true)\n",
    "* Run all of the cells in a Notebook to make a complete report. Please feel free to look at and **learn about each result as you create it**!\n",
    "\n",
    "---"
   ]
  },
  {
   "cell_type": "markdown",
   "metadata": {},
   "source": [
    "## Setup\n",
    "Here we load some helper code to get us going."
   ]
  },
  {
   "cell_type": "code",
   "execution_count": null,
   "metadata": {},
   "outputs": [],
   "source": [
    "# Import libraries\n",
    "import urllib.parse\n",
    "import pandas as pd\n",
    "import numpy as np\n",
    "import matplotlib.pyplot as plt\n",
    "%matplotlib inline\n",
    "import requests\n",
    "import csv\n",
    "import datetime\n",
    "import folium"
   ]
  },
  {
   "cell_type": "markdown",
   "metadata": {},
   "source": [
    "## National Trends"
   ]
  },
  {
   "cell_type": "markdown",
   "metadata": {},
   "source": [
    "### Air emissions monitoring\n",
    "First: Are facilities even doing stack tests? Stack tests involve measuring the volume of pollutants coming out of the facility's \"smokestack\".\n",
    "\n",
    "The following cell will grab EPA data on facility stack tests for every April on record (up to 50 years ago). Some pollutant releases may be seasonal, so by looking only at Aprils, we can account for this variation and ensure an apples-to-apples comparison."
   ]
  },
  {
   "cell_type": "code",
   "execution_count": null,
   "metadata": {},
   "outputs": [],
   "source": [
    "sql = \"select * from `ICIS-AIR_STACK_TESTS` where ACTUAL_END_DATE like '04/%'\"\n",
    "url='http://apps.tlt.stonybrook.edu/echoepa/?query='\n",
    "data_location=url+urllib.parse.quote(sql)\n",
    "\n",
    "data = pd.read_csv(data_location,encoding='iso-8859-1',header = 0)\n",
    "data.set_index(\"pgm_sys_id\", inplace=True)\n",
    "data"
   ]
  },
  {
   "cell_type": "markdown",
   "metadata": {},
   "source": [
    "#### Now we'll chart this data. \n",
    "\n",
    "The height of each bar will indicate how many tests there were, while the red line will show us the average number of these for all previous Aprils and the yellow line indicates the average for the past three years."
   ]
  },
  {
   "cell_type": "code",
   "execution_count": null,
   "metadata": {},
   "outputs": [],
   "source": [
    "data['ACTUAL_END_DATE'] = pd.to_datetime(data['ACTUAL_END_DATE'], format=\"%m/%d/%Y\") #format\n",
    "\n",
    "stacks = data.groupby(['ACTUAL_END_DATE'])['STATE_EPA_FLAG'].count() \n",
    "# = total number of pollutants stack test. May want to summarize by facility instead. \n",
    "stacks = stacks.resample('M').sum() #resample to a monthly basis  \n",
    "stacks = stacks.loc[(stacks.index.month == 4)] # Filter back to just Aprils\n",
    "stacks = pd.DataFrame(stacks)\n",
    "stacks = stacks.rename(columns={'STATE_EPA_FLAG': \"Number of stack tests\"})\n",
    "stacks.index = stacks.index.strftime('%Y-%m') # makes the x axis (date) prettier\n",
    "\n",
    "ax = stacks.plot(kind='bar', title = \"Past Aprils—# of pollutants stack-tested\", figsize=(20, 10), fontsize=16)\n",
    "ax\n",
    "\n",
    "#label trendline\n",
    "trend=stacks['Number of stack tests'].mean()\n",
    "ax.axhline(y=trend, color='r', linestyle='-')\n",
    "\n",
    "#label past 4 Aprils trend (2017, 2018, 2019, 2020)\n",
    "trend_month=pd.concat([stacks.loc[\"2017-04\"],stacks.loc[\"2018-04\"],stacks.loc[\"2019-04\"]])\n",
    "trend_month=trend_month['Number of stack tests'].mean()\n",
    "ax.axhline(y=trend_month, color='y', linestyle='-')"
   ]
  },
  {
   "cell_type": "markdown",
   "metadata": {},
   "source": [
    "### What are facilities releasing in to the air?\n",
    "This has ramifications for COVID-19....\n",
    "\n",
    "First, we'll get this data!"
   ]
  },
  {
   "cell_type": "code",
   "execution_count": null,
   "metadata": {},
   "outputs": [],
   "source": [
    "sql = \"select * from `ICIS-AIR_VIOLATION_HISTORY` where HPV_DAYZERO_DATE like '04-%'\"\n",
    "url='http://apps.tlt.stonybrook.edu/echoepa/?query='\n",
    "data_location=url+urllib.parse.quote(sql)\n",
    "\n",
    "data = pd.read_csv(data_location,encoding='iso-8859-1',header = 0)\n",
    "data.set_index(\"pgm_sys_id\", inplace=True)\n",
    "data"
   ]
  },
  {
   "cell_type": "markdown",
   "metadata": {},
   "source": [
    "#### Let's chart it!\n",
    "The height of each bar will indicate how many emissions violations there have been, while the red line will show us the average number of these for all previous Aprils and the yellow line indicates the average for the past three years."
   ]
  },
  {
   "cell_type": "code",
   "execution_count": null,
   "metadata": {},
   "outputs": [],
   "source": [
    "data['HPV_DAYZERO_DATE'] = pd.to_datetime(data['HPV_DAYZERO_DATE'], format=\"%m-%d-%Y\") #format\n",
    "\n",
    "airviols = data.groupby(['HPV_DAYZERO_DATE'])['ENF_RESPONSE_POLICY_CODE'].count() \n",
    "# = total number of violations. May want to summarize by facility instead. \n",
    "airviols = airviols.resample('M').sum() #resample to a monthly basis  \n",
    "airviols = airviols.loc[(airviols.index.month == 4)] # Filter back to just Aprils\n",
    "airviols = pd.DataFrame(airviols)\n",
    "airviols = airviols.rename(columns={'ENF_RESPONSE_POLICY_CODE': \"Number of violations\"})\n",
    "airviols.index = airviols.index.strftime('%Y-%m') # makes the x axis (date) prettier\n",
    "\n",
    "ax = airviols.plot(kind='bar', title = \"Past Aprils—# of Air Violations\", figsize=(20, 10), fontsize=16)\n",
    "ax\n",
    "\n",
    "#label trendline\n",
    "trend=airviols['Number of violations'].mean()\n",
    "ax.axhline(y=trend, color='r', linestyle='-')\n",
    "\n",
    "#label past 4 Aprils trend (2017, 2018, 2019, 2020)\n",
    "trend_month=pd.concat([airviols.loc[\"2017-04\"],airviols.loc[\"2018-04\"],airviols.loc[\"2019-04\"]])\n",
    "trend_month=trend_month['Number of violations'].mean()\n",
    "ax.axhline(y=trend_month, color='y', linestyle='-')"
   ]
  },
  {
   "cell_type": "markdown",
   "metadata": {},
   "source": [
    "Let's break it down by type of pollutant. We'll focus on two of what EPA calls \"criteria pollutants\" - those that have such an impact on human health, that the agency regulates how much of these can be in the atmosphere at any given time/place. The two are particulate matter, which is known to affect the circulatory and nervous systems, and sulfur dioxide, which exacerbates asthma."
   ]
  },
  {
   "cell_type": "code",
   "execution_count": null,
   "metadata": {},
   "outputs": [],
   "source": [
    "data['HPV_DAYZERO_DATE'] = pd.to_datetime(data['HPV_DAYZERO_DATE'], format=\"%m-%d-%Y\") #format\n",
    "cps = data\n",
    "\n",
    "cps = cps[(cps['POLLUTANT_DESCS'].astype(str).str.contains('Particulate')) | (cps['POLLUTANT_DESCS'].astype(str).str.contains('Sulfur'))]\n",
    "cps_map = cps # for mapping later...\n",
    "\n",
    "cps = cps.groupby(['HPV_DAYZERO_DATE'])['POLLUTANT_DESCS'].count() \n",
    "# = total number of violations. May want to summarize by facility instead. \n",
    "\n",
    "cps = cps.resample('M').sum() #resample to a monthly basis  \n",
    "cps = cps.loc[(cps.index.month == 4)] # Filter back to just Aprils\n",
    "cps = pd.DataFrame(cps)\n",
    "cps = cps.rename(columns={'POLLUTANT_DESCS': \"Number of violations\"})\n",
    "cps.index = cps.index.strftime('%Y-%m') # makes the x axis (date) prettier\n",
    "\n",
    "ax = cps.plot(kind='bar', title = \"Past Aprils—# of Violations Related to Particulate Matter and/or Sulfur Dioxide\", figsize=(20, 10), fontsize=16)\n",
    "ax\n",
    "\n",
    "#label trendline\n",
    "trend=cps['Number of violations'].mean()\n",
    "ax.axhline(y=trend, color='r', linestyle='-')\n",
    "\n",
    "#label past 4 Aprils trend (2017, 2018, 2019, 2020)\n",
    "trend_month=pd.concat([cps.loc[\"2017-04\"],cps.loc[\"2018-04\"],cps.loc[\"2019-04\"]])\n",
    "trend_month=trend_month['Number of violations'].mean()\n",
    "ax.axhline(y=trend_month, color='y', linestyle='-')"
   ]
  },
  {
   "cell_type": "markdown",
   "metadata": {},
   "source": [
    "#### *Where* are these facilities that exceeded their PM and SO2 permits last month?\n",
    "Even if, on the whole, there are fewer exceedances, the places that are emitting more pollutants are important to track. Their neighbors are suffering more."
   ]
  },
  {
   "cell_type": "code",
   "execution_count": null,
   "metadata": {},
   "outputs": [],
   "source": [
    "latest = cps_map[(cps_map[\"HPV_DAYZERO_DATE\"] >= '2020-04-01') & (cps_map[\"HPV_DAYZERO_DATE\"] < '2020-05-01')]\n",
    "\n",
    "if (len(latest.index)>0):\n",
    "    #get facility information from ECHO\n",
    "    sql = \"select FAC_NAME, AIR_IDS, FAC_LAT, FAC_LONG, CAA_QTRS_WITH_NC\" + \\\n",
    "        \" from ECHO_EXPORTER where AIR_FLAG = 'Y' \"\n",
    "    url='http://apps.tlt.stonybrook.edu/echoepa/?query='\n",
    "    data_location=url+urllib.parse.quote(sql)\n",
    "    echo_data = pd.read_csv(data_location,encoding='iso-8859-1',header = 0)\n",
    "    echo_data.set_index( 'AIR_IDS', inplace=True )\n",
    "    \n",
    "    #merge echo and npdes data\n",
    "    latest = latest.join(echo_data)\n",
    "    \n",
    "else:\n",
    "    print(\"Actually, there were no reporting violations for April\")"
   ]
  },
  {
   "cell_type": "markdown",
   "metadata": {},
   "source": [
    "#### Make the map!\n",
    "The map shows us all the facilities that reporting emitting more than their permitted levels of PM and SO2 in April 2020."
   ]
  },
  {
   "cell_type": "code",
   "execution_count": null,
   "metadata": {},
   "outputs": [],
   "source": [
    "# Filter to remove NaNs - missing data!\n",
    "latest = latest[~(np.isnan(latest[\"FAC_LAT\"])) | ~(np.isnan(latest[\"FAC_LONG\"]))]\n",
    "\n",
    "# Generate a scale by which we can classify facilities by quarters in non-compliance, and map them accordingly\n",
    "latest[\"quartile\"]=pd.qcut(latest[\"CAA_QTRS_WITH_NC\"], 4, labels=False) # quartiles\n",
    "radii={0:6, 1:10, 2:14, 3: 20}\n",
    "\n",
    "def mapper(df):\n",
    "    # Initialize the map\n",
    "    m = folium.Map(\n",
    "        location = [df.mean()[\"FAC_LAT\"], df.mean()[\"FAC_LONG\"]],\n",
    "        zoom_start = 8\n",
    "    )\n",
    "\n",
    "    # Add a clickable marker for each facility\n",
    "    for index, row in df.iterrows():\n",
    "        folium.CircleMarker(\n",
    "            location = [row[\"FAC_LAT\"], row[\"FAC_LONG\"]],\n",
    "            popup = row[\"FAC_NAME\"] + \"\\n Quarters in Non-Compliance over the past three years: \"+str(row[\"CAA_QTRS_WITH_NC\"]),\n",
    "            radius = radii[row[\"quartile\"]],\n",
    "            color = \"black\",\n",
    "            weight = 1,\n",
    "            fill_color = \"orange\",\n",
    "            fill_opacity= .4\n",
    "        ).add_to(m)\n",
    "\n",
    "    bounds = m.get_bounds()\n",
    "    m.fit_bounds(bounds)\n",
    "\n",
    "    # Show the map\n",
    "    return m\n",
    "\n",
    "map_of_facilities = mapper(latest)\n",
    "map_of_facilities"
   ]
  },
  {
   "cell_type": "markdown",
   "metadata": {},
   "source": [
    "### Water pollutant discharges\n",
    "\n",
    "*NOTE*: Because there are so many facilities that discharge into waters of the US, there's a lot of data! The following cell may take a little while to run."
   ]
  },
  {
   "cell_type": "code",
   "execution_count": null,
   "metadata": {},
   "outputs": [],
   "source": [
    "sql = \"select NPDES_ID, EXCEEDENCE_PCT, MONITORING_PERIOD_END_DATE, PARAMETER_DESC\" + \\\n",
    "    \" from NPDES_EFF_VIOLATIONS where EXCEEDENCE_PCT > 0 and MONITORING_PERIOD_END_DATE like '04/%'\"\n",
    "#NPDES_ID like '\" + my_state + \"%' and\" +\\\n",
    "#filter to facilities with pollutant exceedences\n",
    "\n",
    "url='http://apps.tlt.stonybrook.edu/echoepa/?query='\n",
    "data_location=url+urllib.parse.quote(sql)\n",
    "\n",
    "data = pd.read_csv(data_location,encoding='iso-8859-1',header = 0)\n",
    "data.set_index(\"NPDES_ID\", inplace=True)\n",
    "exceeds = data \n",
    "exceeds"
   ]
  },
  {
   "cell_type": "markdown",
   "metadata": {},
   "source": [
    "#### Let's chart this\n",
    "Are facilities exceeding their permits more this April than previous Aprils? Like with air emissions and monitoring, we need to compare April-April because there is a seasonality to many discharges.\n",
    "\n",
    "The height of each bar will indicate how many pollution permits have been exceeded, while the red line will show us the average number of these for all previous Aprils and the yellow line indicates the average for the past three years."
   ]
  },
  {
   "cell_type": "code",
   "execution_count": null,
   "metadata": {},
   "outputs": [],
   "source": [
    "# First, let's look at the number of pollutant permits that were exceeded\n",
    "exceeds['MONITORING_PERIOD_END_DATE'] = pd.to_datetime(exceeds['MONITORING_PERIOD_END_DATE'], format=\"%m/%d/%Y\") #format\n",
    "\n",
    "month = exceeds.groupby(['MONITORING_PERIOD_END_DATE'])['EXCEEDENCE_PCT'].count() # = total number of pollutants exceeded...# only need to keep one column. probably should rename...\n",
    "month = month.resample('M').sum() #resample to a monthly basis and \n",
    "month = month.loc[(month.index.month == 4)] # Filter back to just Aprils\n",
    "month = pd.DataFrame(month)\n",
    "month = month.rename(columns={'EXCEEDENCE_PCT': \"Number of pollution permits exceeded\"})\n",
    "month.index = month.index.strftime('%Y-%m') # makes the x axis (date) prettier\n",
    "\n",
    "ax = month.plot(kind='bar', title = \"Past Aprils—# of Exceedances\", figsize=(20, 10), fontsize=16)\n",
    "ax\n",
    "\n",
    "#label trendline\n",
    "trend=month['Number of pollution permits exceeded'].mean()\n",
    "ax.axhline(y=trend, color='r', linestyle='-')\n",
    "\n",
    "#label past 4 Aprils trend (2017, 2018, 2019, 2020)\n",
    "trend_month=pd.concat([month.loc[\"2017-04\"],month.loc[\"2018-04\"],month.loc[\"2019-04\"]])\n",
    "trend_month=trend_month['Number of pollution permits exceeded'].mean()\n",
    "ax.axhline(y=trend_month, color='y', linestyle='-')"
   ]
  },
  {
   "cell_type": "markdown",
   "metadata": {},
   "source": [
    "In the next chart, the height of each bar will indicate how many *facilities* have exceeded their permits, while the red line will show us the average number of these for all previous Aprils and the yellow line indicates the average for the past three years."
   ]
  },
  {
   "cell_type": "code",
   "execution_count": null,
   "metadata": {},
   "outputs": [],
   "source": [
    "# Second, let's look at the number of facilities that exceeded their permits.\n",
    "# Some facilities have multiple permits for multiple pollutants, so the results here may differ from those above\n",
    "\n",
    "fac=exceeds.reset_index()\n",
    "fac=fac.set_index(['MONITORING_PERIOD_END_DATE'])\n",
    "facilities = fac.groupby(['MONITORING_PERIOD_END_DATE']).agg({\"NPDES_ID\": \"nunique\"})\n",
    "facilities = facilities.resample('M').sum()\n",
    "facilities = facilities.loc[(facilities.index.month == 4)] # Filter back to just Aprils\n",
    "facilities = facilities.rename(columns={'NPDES_ID': \"Number of facilities\"})\n",
    "facilities.index = facilities.index.strftime('%Y-%m') # makes the x axis (date) prettier\n",
    "\n",
    "ax = facilities.plot(kind='bar', title = \"Past Aprils—# of Facilities Exceeding\", figsize=(20, 10), fontsize=16)\n",
    "ax\n",
    "\n",
    "#label trendline\n",
    "trend=facilities['Number of facilities'].mean()\n",
    "ax.axhline(y=trend, color='r', linestyle='-')\n",
    "\n",
    "#label past 4 Aprils trend (2017, 2018, 2019, 2020)\n",
    "trend_month=pd.concat([facilities.loc[\"2017-04\"],facilities.loc[\"2018-04\"],facilities.loc[\"2019-04\"]])\n",
    "trend_month=trend_month['Number of facilities'].mean()\n",
    "ax.axhline(y=trend_month, color='y', linestyle='-')"
   ]
  },
  {
   "cell_type": "markdown",
   "metadata": {},
   "source": [
    "The height of each bar will indicate *by how much* pollution permits tend to have been exceeded, while the red line will show us the typical exceedance for all previous Aprils and the yellow line indicates the trend for the past three years."
   ]
  },
  {
   "cell_type": "code",
   "execution_count": null,
   "metadata": {},
   "outputs": [],
   "source": [
    "# Third, let's look at how MUCH these facilities exceeded their permits.\n",
    "# We'll calculate the median level (in percent terms) permits were exceeded by.\n",
    "\n",
    "med = exceeds.reset_index()\n",
    "med = med.set_index(['MONITORING_PERIOD_END_DATE'])\n",
    "med = med.resample(\"M\").median()\n",
    "med = med.loc[(med.index.month == 4)]\n",
    "med = med.rename(columns={'EXCEEDENCE_PCT': \"Median exceedance (% above permitted level)\"})\n",
    "med.index = med.index.strftime('%Y-%m') # makes the x axis (date) prettier\n",
    "\n",
    "ax = med.plot(kind='bar', title = \"Past Aprils—MEDIAN % EXCEEDANCE\", figsize=(20, 10), fontsize=16)\n",
    "ax\n",
    "\n",
    "#label trendline\n",
    "trend=med['Median exceedance (% above permitted level)'].mean()\n",
    "ax.axhline(y=trend, color='r', linestyle='-')\n",
    "\n",
    "#label past 4 Aprils trend (2017, 2018, 2019, 2020)\n",
    "trend_month=pd.concat([med.loc[\"2017-04\"],med.loc[\"2018-04\"],med.loc[\"2019-04\"]])\n",
    "trend_month=trend_month['Median exceedance (% above permitted level)'].mean()\n",
    "ax.axhline(y=trend_month, color='y', linestyle='-')"
   ]
  },
  {
   "cell_type": "markdown",
   "metadata": {},
   "source": [
    "#### Finally, let's look at these trends for just one pollutant, lead. \n",
    "Lead in our waters can have serious environmental and public health consequences."
   ]
  },
  {
   "cell_type": "code",
   "execution_count": null,
   "metadata": {},
   "outputs": [],
   "source": [
    "exceeds['MONITORING_PERIOD_END_DATE'] = pd.to_datetime(exceeds['MONITORING_PERIOD_END_DATE'], format=\"%m/%d/%Y\") #format\n",
    "\n",
    "lead = exceeds[(exceeds['PARAMETER_DESC'].astype(str).str.contains('Lead'))]\n",
    "\n",
    "lead = lead.groupby(['MONITORING_PERIOD_END_DATE'])['PARAMETER_DESC'].count() # = total number of pollutants exceeded...# only need to keep one column. probably should rename...\n",
    "lead = lead.resample('M').sum() #resample to a leadly basis and \n",
    "lead = lead.loc[(lead.index.month == 4)] # Filter back to just Aprils\n",
    "lead = pd.DataFrame(lead)\n",
    "lead = lead.rename(columns={'PARAMETER_DESC': \"Number of pollution permits exceeded\"})\n",
    "lead.index = lead.index.strftime('%Y-%m') # makes the x axis (date) prettier\n",
    "\n",
    "ax = lead.plot(kind='bar', title = \"Past Aprils—# of times permits to discharge lead were exceeded\", figsize=(20, 10), fontsize=16)\n",
    "ax\n",
    "\n",
    "#label trendline\n",
    "trend=lead['Number of pollution permits exceeded'].mean()\n",
    "ax.axhline(y=trend, color='r', linestyle='-')\n",
    "\n",
    "#label past 4 Aprils trend (2017, 2018, 2019, 2020)\n",
    "trend_lead=pd.concat([lead.loc[\"2017-04\"],lead.loc[\"2018-04\"],lead.loc[\"2019-04\"]])\n",
    "trend_lead=trend_lead['Number of pollution permits exceeded'].mean()\n",
    "ax.axhline(y=trend_lead, color='y', linestyle='-')"
   ]
  },
  {
   "cell_type": "markdown",
   "metadata": {},
   "source": [
    "### Water Quality Monitoring and Reporting\n",
    "First, we'll look at how facilities regulated under the Clean Water Act have altered their required monitoring practices.\n",
    "\n",
    "Run the code in the cell below, which will query our copy of the ECHO database and pull information on regulated facilities in your state.\n",
    "\n",
    "Specifically, we'll find records of facilities out of compliance - that is, violating their permits - due to \"Non-Receipt of DMR/Schedule Report\" DMR stands for Discharge Monitoring Reports, and are required by the CWA's National Pollutant Discharge Elimination System (NPDES). \n",
    "\n",
    "Not submitting these reports on schedule can lead to \"Reportable Non-Compliance\" with NPDES and CWA. According to the EPA, \"DMR values not received within 31 days of the DMR form due date result in the generation of a violation code (D80 or D90). ICIS-NPDES identifies these DMR non-receipt violations and automatically creates violation codes for the missing DMR values with monitoring requirements (D80) and missing DMR values with effluent limits (D90). EPA's data sharing policy allows states a 40-day window to report DMR values to EPA's data system; therefore, DMR values reported on time to state agencies and shared with EPA within 40 days do not contribute to permit level noncompliance status.\"\n",
    "\n",
    "In this case, \"N\" does NOT mean no - it just is a code for the kind of violation event we're interested in (non-reporting)."
   ]
  },
  {
   "cell_type": "code",
   "execution_count": null,
   "metadata": {},
   "outputs": [],
   "source": [
    "sql = \"select NPDES_ID, SCHEDULE_DATE, RNC_DETECTION_CODE\" + \\\n",
    "    \" from NPDES_PS_VIOLATIONS where RNC_DETECTION_CODE = 'N' and \" + \\\n",
    "    \" SCHEDULE_DATE like '04/%'\"\n",
    "#\" NPDES_ID like '\" + my_state + \"%'\"\n",
    "url='http://apps.tlt.stonybrook.edu/echoepa/?query='\n",
    "data_location=url+urllib.parse.quote(sql)\n",
    "\n",
    "data = pd.read_csv(data_location,encoding='iso-8859-1',header = 0)\n",
    "data.set_index(\"NPDES_ID\", inplace=True)\n",
    "data"
   ]
  },
  {
   "cell_type": "markdown",
   "metadata": {},
   "source": [
    "### Let's organize this information by date\n",
    "We're curious to track whether non-receipt of DMRs has increased due to COVID, so we have to be able to summarize and order facilities' violations across time."
   ]
  },
  {
   "cell_type": "code",
   "execution_count": null,
   "metadata": {},
   "outputs": [],
   "source": [
    "# The NPDES_IDS in ECHO_EXPORTER can contain multiple ids for a facility. \n",
    "data['SCHEDULE_DATE'] = pd.to_datetime(data['SCHEDULE_DATE'], format=\"%m/%d/%Y\")\n",
    "by_date = data.groupby('SCHEDULE_DATE')[['RNC_DETECTION_CODE']].count()\n",
    "by_date=by_date.resample('M').sum()\n",
    "#by_date=by_date.loc['2017-01-01':'2020-05-01'] #filter to relatively recent\n",
    "by_date = by_date.loc[(by_date.index.month == 4)] # Filter back to just Aprils\n",
    "by_date"
   ]
  },
  {
   "cell_type": "markdown",
   "metadata": {},
   "source": [
    "### Plot this ^ !!!\n",
    "It's all well and good to have this table, but it's hard to pick out patterns from tabular data. Let's plot it as what's called a histogram in order to see what's going on.\n",
    "\n",
    "The height of each bar will indicate how many facilities were out of compliance due to missing or late reports, while the red line will show us the average number of these facilities for all previous Aprils and the yellow line indicates the average for the past three years or so."
   ]
  },
  {
   "cell_type": "code",
   "execution_count": null,
   "metadata": {},
   "outputs": [],
   "source": [
    "by_date.index = by_date.index.strftime('%Y-%m') # makes the x axis (date) prettier\n",
    "\n",
    "chart_title = \"Total CWA Non-Compliance due to Missing or Late Reports\"\n",
    "ax = by_date.plot(kind='bar', title = chart_title, figsize=(20, 10), legend=False, fontsize=16)\n",
    "ax.set_xlabel(\"Year\", fontsize=16)\n",
    "ax.set_ylabel(\"Count of facilities\", fontsize=16)\n",
    "\n",
    "#label trendline\n",
    "trend=by_date['RNC_DETECTION_CODE'].mean()\n",
    "ax.axhline(y=trend, color='r', linestyle='-')\n",
    "\n",
    "#label past 4 Aprils trend (2017, 2018, 2019, 2020)\n",
    "trend_month=pd.concat([by_date.loc[\"2017-04\"],by_date.loc[\"2018-04\"],by_date.loc[\"2019-04\"]])\n",
    "trend_month=trend_month['RNC_DETECTION_CODE'].mean()\n",
    "ax.axhline(y=trend_month, color='y', linestyle='-')"
   ]
  },
  {
   "cell_type": "markdown",
   "metadata": {},
   "source": [
    "### Which facilities didn't report in the month of April?\n",
    "This will give us a good indicator of the impact of EPA's memo, which went into effect that month.\n",
    "\n",
    "First, let's get more information about those facilities."
   ]
  },
  {
   "cell_type": "code",
   "execution_count": null,
   "metadata": {},
   "outputs": [],
   "source": [
    "latest = data[(data[\"SCHEDULE_DATE\"] >= '2019-01-01') & (data[\"SCHEDULE_DATE\"] < '2020-05-01')] \n",
    "\n",
    "if (len(latest.index)>0):\n",
    "    #get facility information from ECHO\n",
    "    sql = \"select FAC_NAME, NPDES_IDS, FAC_LAT, FAC_LONG, CWA_QTRS_WITH_NC\" + \\\n",
    "        \" from ECHO_EXPORTER where NPDES_FLAG = 'Y' \"\n",
    "    url='http://apps.tlt.stonybrook.edu/echoepa/?query='\n",
    "    data_location=url+urllib.parse.quote(sql)\n",
    "    echo_data = pd.read_csv(data_location,encoding='iso-8859-1',header = 0)\n",
    "    echo_data.set_index( 'NPDES_IDS', inplace=True )\n",
    "    \n",
    "    #merge echo and npdes data\n",
    "    latest = latest.join(echo_data)\n",
    "    print(latest)\n",
    "    \n",
    "else:\n",
    "    print(\"Actually, there were no reporting violations for April\")    "
   ]
  },
  {
   "cell_type": "markdown",
   "metadata": {},
   "source": [
    "### Map them!\n",
    "Now we'll map those facilities. The ones that have spent more quarters in non-compliance over the past three years will be displayed as larger."
   ]
  },
  {
   "cell_type": "code",
   "execution_count": null,
   "metadata": {},
   "outputs": [],
   "source": [
    "# Filter to remove NaNs - missing data!\n",
    "latest = latest[~(np.isnan(latest[\"FAC_LAT\"])) | ~(np.isnan(latest[\"FAC_LONG\"]))]\n",
    "\n",
    "# Generate a scale by which we can classify facilities by quarters in non-compliance, and map them accordingly\n",
    "latest[\"quartile\"]=pd.qcut(latest[\"CWA_QTRS_WITH_NC\"], 4, labels=False) # quartiles\n",
    "#latest.merge(scale)\n",
    "#print(latest)\n",
    "radii={0:6, 1:10, 2:14, 3: 20}\n",
    "\n",
    "def mapper(df):\n",
    "    # Initialize the map\n",
    "    m = folium.Map(\n",
    "        location = [df.mean()[\"FAC_LAT\"], df.mean()[\"FAC_LONG\"]],\n",
    "        zoom_start = 8\n",
    "    )\n",
    "\n",
    "    # Add a clickable marker for each facility\n",
    "    for index, row in df.iterrows():\n",
    "        #print(index,row)\n",
    "        folium.CircleMarker(\n",
    "            location = [row[\"FAC_LAT\"], row[\"FAC_LONG\"]],\n",
    "            popup = row[\"FAC_NAME\"] + \"\\n Quarters in Non-Compliance over the past three years: \"+str(row[\"CWA_QTRS_WITH_NC\"]),\n",
    "            radius = radii[row[\"quartile\"]],\n",
    "            color = \"black\",\n",
    "            weight = 1,\n",
    "            fill_color = \"orange\",\n",
    "            fill_opacity= .4\n",
    "        ).add_to(m)\n",
    "\n",
    "    bounds = m.get_bounds()\n",
    "    m.fit_bounds(bounds)\n",
    "\n",
    "    # Show the map\n",
    "    return m\n",
    "\n",
    "map_of_facilities = mapper(latest)\n",
    "map_of_facilities"
   ]
  },
  {
   "cell_type": "markdown",
   "metadata": {},
   "source": [
    "---\n",
    "## Select your state\n",
    "Let's dissect the patterns above by looking at a specific state..."
   ]
  },
  {
   "cell_type": "code",
   "execution_count": null,
   "metadata": {},
   "outputs": [],
   "source": []
  }
 ],
 "metadata": {
  "kernelspec": {
   "display_name": "Python 3",
   "language": "python",
   "name": "python3"
  },
  "language_info": {
   "codemirror_mode": {
    "name": "ipython",
    "version": 3
   },
   "file_extension": ".py",
   "mimetype": "text/x-python",
   "name": "python",
   "nbconvert_exporter": "python",
   "pygments_lexer": "ipython3",
   "version": "3.7.7"
  }
 },
 "nbformat": 4,
 "nbformat_minor": 2
}
